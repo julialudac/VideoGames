{
 "cells": [
  {
   "cell_type": "code",
   "execution_count": 1,
   "metadata": {},
   "outputs": [],
   "source": [
    "import csv\n",
    "import numpy as np # linear algebra\n",
    "import os\n",
    "import pandas as pd # data processing, CSV file I/O (e.g. pd.read_csv)\n",
    "import re\n",
    "\n",
    "from sklearn import tree\n",
    "from sklearn.ensemble import RandomForestClassifier\n",
    "from sklearn.model_selection  import  train_test_split\n",
    "from sklearn.model_selection import cross_val_score\n",
    "\n",
    "import matplotlib\n",
    "import matplotlib.pyplot as plt\n",
    "\n",
    "# personal imports\n",
    "import data_extractor\n",
    "from encoder_categorical_numerical import Encoder_Categorical_Numerical\n",
    "import accuracy_extractor"
   ]
  },
  {
   "cell_type": "code",
   "execution_count": 2,
   "metadata": {},
   "outputs": [],
   "source": [
    "validation = False\n",
    "index_beginning_actions = 4\n",
    "upper_limit_seconds = 300\n",
    "lower_limit_seconds = 5\n",
    "\n",
    "training_file = \"./input/TRAIN.CSV\" if not validation else \"./input/minitrain.csv\"\n",
    "validation_file = \"./input/minitest.csv\"\n",
    "#validation_file\n",
    "testing_file = \"./input/TEST.CSV\" if not validation else \"./input/minitest.csv\""
   ]
  },
  {
   "cell_type": "markdown",
   "metadata": {},
   "source": [
    "### Calculer le temps moyen d'une partie"
   ]
  },
  {
   "cell_type": "code",
   "execution_count": 3,
   "metadata": {},
   "outputs": [],
   "source": [
    "def __ceil_to_five__(seconds):\n",
    "    \"\"\"Approximates the number of seconds to the upper multiple of 5.\n",
    "    :param seconds: number of seconds to approximate\n",
    "    :return: approxilated seconds\n",
    "    \"\"\"\n",
    "    modulo = seconds % 5\n",
    "    if modulo == 0:\n",
    "        return seconds\n",
    "    else:\n",
    "        return seconds - modulo + 5"
   ]
  },
  {
   "cell_type": "code",
   "execution_count": 4,
   "metadata": {},
   "outputs": [],
   "source": [
    "def __remove_tX__(row):\n",
    "    \"\"\"Get a new list of words with words of type tX (X a number) removed\n",
    "    :param myrow: a list of words\"\"\"\n",
    "    tX = re.compile(\"t\\d\")\n",
    "    new_row = []\n",
    "    for cell in row:\n",
    "        if tX.match(cell):\n",
    "            pass\n",
    "        else:\n",
    "            new_row.append(cell)\n",
    "    return new_row"
   ]
  },
  {
   "cell_type": "code",
   "execution_count": 5,
   "metadata": {},
   "outputs": [],
   "source": [
    "def __get_maximum_time_match__(row, default_time=0):\n",
    "    \"\"\"Get the approximate time of a match\n",
    "    :param myrow: one match\"\"\"\n",
    "    tX = re.compile(\"t\\d\")\n",
    "    for cell in row[::-1]:\n",
    "        if tX.match(cell):\n",
    "            return int(cell[1:])\n",
    "    return default_time"
   ]
  },
  {
   "cell_type": "code",
   "execution_count": 6,
   "metadata": {},
   "outputs": [
    {
     "data": {
      "text/plain": [
       "150"
      ]
     },
     "execution_count": 6,
     "metadata": {},
     "output_type": "execute_result"
    }
   ],
   "source": [
    "a = [\"t5\", \"a\",\"b\",\"c\", \"t18\",\"a\",\"b\",\"c\", \"t150\", \"a\",\"b\"]\n",
    "__get_maximum_time_match__(a, 0)"
   ]
  },
  {
   "cell_type": "markdown",
   "metadata": {},
   "source": [
    "### Calculer le temps moyen entre deux actions"
   ]
  },
  {
   "cell_type": "code",
   "execution_count": 7,
   "metadata": {},
   "outputs": [],
   "source": [
    "def __get_speed__(row, max_time):\n",
    "    tX = re.compile(\"t\\d\")\n",
    "    nb_actions = len(row)\n",
    "    for cell in row:\n",
    "        if tX.match(cell):\n",
    "            nb_actions = nb_actions-1\n",
    "    return max_time/nb_actions"
   ]
  },
  {
   "cell_type": "code",
   "execution_count": 8,
   "metadata": {},
   "outputs": [
    {
     "data": {
      "text/plain": [
       "18.75"
      ]
     },
     "execution_count": 8,
     "metadata": {},
     "output_type": "execute_result"
    }
   ],
   "source": [
    "a = [\"t5\", \"a\",\"b\",\"c\", \"t18\",\"a\",\"b\",\"c\", \"t150\", \"a\",\"b\"]\n",
    "__get_speed__(a, 150)"
   ]
  },
  {
   "cell_type": "markdown",
   "metadata": {},
   "source": [
    "### Connaître toutes les actions possibles"
   ]
  },
  {
   "cell_type": "code",
   "execution_count": 9,
   "metadata": {},
   "outputs": [],
   "source": [
    "def __recognise_possible_actions__(set_of_actions, row):\n",
    "    for cell in row[index_beginning_actions:]:\n",
    "        set_of_actions.add(cell)\n",
    "    return set_of_actions"
   ]
  },
  {
   "cell_type": "markdown",
   "metadata": {},
   "source": [
    "# Get dataframe"
   ]
  },
  {
   "cell_type": "code",
   "execution_count": 10,
   "metadata": {},
   "outputs": [],
   "source": [
    "def get_dataframe(path_file, training, upper_limit_seconds, lower_limit_seconds):\n",
    "    \"\"\"\n",
    "    :param path_file:\n",
    "    :param training: boolean\n",
    "    :param limit_seconds: int\n",
    "    :return: A DataFrame with columns named id_player, played_race, 0... n, with n the number of kept actions.\n",
    "    \"\"\"\n",
    "    upper_limit_seconds = __ceil_to_five__(upper_limit_seconds)\n",
    "    upper_stop_word = \"t\" + str(upper_limit_seconds)\n",
    "    lower_limit_seconds = __ceil_to_five__(lower_limit_seconds)\n",
    "    lower_stop_word = \"t\" + str(lower_limit_seconds)\n",
    "    \n",
    "    extracted = []\n",
    "    largest_column_count = 0\n",
    "    possible_actions = set()\n",
    "    index_new_feature = 2 if training else 1\n",
    "    lower_column_to_keep = []\n",
    "\n",
    "    # Loop the data lines\n",
    "    with open(path_file) as csvfile:\n",
    "        spamreader = csv.reader(csvfile, delimiter='\\n')\n",
    "        for row in spamreader:\n",
    "            myrow = row[0].split(',')\n",
    "            try:\n",
    "                upper_stop_index = myrow.index(upper_stop_word)\n",
    "            except:\n",
    "                upper_stop_index = -1\n",
    "            try:\n",
    "                lower_stop_index = myrow.index(lower_stop_word)\n",
    "            except:\n",
    "                lower_stop_index = -1\n",
    "            #compute the time of a match and the average speed between two actions\n",
    "            time_match = __get_maximum_time_match__(myrow)\n",
    "            average_speed_match = __get_speed__(myrow, time_match)\n",
    "            #compute the number of columns to keep for ordered actions\n",
    "            lower_column_to_keep.append(len(__remove_tX__(myrow[index_new_feature:lower_stop_index]))-1)\n",
    "            #delete useless tX\n",
    "            myrow = __remove_tX__(myrow[0:upper_stop_index])\n",
    "            #know possible set of actions\n",
    "            possible_actions = __recognise_possible_actions__(possible_actions, myrow)\n",
    "            #compute the average speed between two actions for a specifical time lapse\n",
    "            #average_speed_limited_time = __get_speed__(myrow, limit_seconds)\n",
    "            #insert time_match and average_speed_match as features\n",
    "            myrow.insert(index_new_feature, time_match)\n",
    "            myrow.insert(index_new_feature+1, average_speed_match)         \n",
    "            #myrow.insert(index_time_match+2, average_speed_limited_time)\n",
    "            #count the number of columns\n",
    "            largest_column_count = max(len(myrow), largest_column_count)\n",
    "            extracted.append(myrow)\n",
    "    column_names = []\n",
    "    if training:\n",
    "        column_names = [\"id_player\", \"played_race\", \"time_match\", \"average_speed_match\"] + [(str(i)+\"th_action\") for i in range(0, largest_column_count - index_beginning_actions)]\n",
    "    else:\n",
    "        column_names = [\"played_race\", \"time_match\", \"average_speed_match\"] + [(str(i)+\"th_action\") for i in range(0, largest_column_count - index_beginning_actions+1)]\n",
    "    return pd.DataFrame(extracted, columns = column_names), possible_actions, lower_column_to_keep"
   ]
  },
  {
   "cell_type": "code",
   "execution_count": 11,
   "metadata": {},
   "outputs": [],
   "source": [
    "df_training, possible_actions_training, lower_column_to_keep_training = get_dataframe(training_file, training=True, upper_limit_seconds=upper_limit_seconds, lower_limit_seconds=lower_limit_seconds)\n",
    "#df_testing, possible_actions_testing, lower_column_to_keep_testing = get_dataframe(testing_file, training=validation, upper_limit_seconds=upper_limit_seconds, lower_limit_seconds=lower_limit_seconds)\n",
    "#possible_actions = list(possible_actions_training.union(possible_actions_testing))\n",
    "possible_actions = possible_actions_training\n",
    "#index to deleted ordered actions after t\n",
    "index_column_to_delete = max(lower_column_to_keep_training)+index_beginning_actions+1\n",
    "#index_column_to_delete = max((max(lower_column_to_keep_training)+index_beginning_actions), (max(lower_column_to_keep_testing)+index_beginning_actions-1))+1"
   ]
  },
  {
   "cell_type": "code",
   "execution_count": 12,
   "metadata": {},
   "outputs": [
    {
     "data": {
      "text/plain": [
       "42"
      ]
     },
     "execution_count": 12,
     "metadata": {},
     "output_type": "execute_result"
    }
   ],
   "source": [
    "index_column_to_delete"
   ]
  },
  {
   "cell_type": "code",
   "execution_count": 13,
   "metadata": {},
   "outputs": [
    {
     "data": {
      "text/html": [
       "<div>\n",
       "<style scoped>\n",
       "    .dataframe tbody tr th:only-of-type {\n",
       "        vertical-align: middle;\n",
       "    }\n",
       "\n",
       "    .dataframe tbody tr th {\n",
       "        vertical-align: top;\n",
       "    }\n",
       "\n",
       "    .dataframe thead th {\n",
       "        text-align: right;\n",
       "    }\n",
       "</style>\n",
       "<table border=\"1\" class=\"dataframe\">\n",
       "  <thead>\n",
       "    <tr style=\"text-align: right;\">\n",
       "      <th></th>\n",
       "      <th>id_player</th>\n",
       "      <th>played_race</th>\n",
       "      <th>time_match</th>\n",
       "      <th>average_speed_match</th>\n",
       "      <th>0th_action</th>\n",
       "      <th>1th_action</th>\n",
       "      <th>2th_action</th>\n",
       "      <th>3th_action</th>\n",
       "      <th>4th_action</th>\n",
       "      <th>5th_action</th>\n",
       "      <th>...</th>\n",
       "      <th>1786th_action</th>\n",
       "      <th>1787th_action</th>\n",
       "      <th>1788th_action</th>\n",
       "      <th>1789th_action</th>\n",
       "      <th>1790th_action</th>\n",
       "      <th>1791th_action</th>\n",
       "      <th>1792th_action</th>\n",
       "      <th>1793th_action</th>\n",
       "      <th>1794th_action</th>\n",
       "      <th>1795th_action</th>\n",
       "    </tr>\n",
       "  </thead>\n",
       "  <tbody>\n",
       "    <tr>\n",
       "      <th>0</th>\n",
       "      <td>http://eu.battle.net/sc2/en/profile/4234852/1/...</td>\n",
       "      <td>Protoss</td>\n",
       "      <td>1655.0</td>\n",
       "      <td>0.740824</td>\n",
       "      <td>Base</td>\n",
       "      <td>s</td>\n",
       "      <td>s</td>\n",
       "      <td>s</td>\n",
       "      <td>s</td>\n",
       "      <td>s</td>\n",
       "      <td>...</td>\n",
       "      <td>None</td>\n",
       "      <td>None</td>\n",
       "      <td>None</td>\n",
       "      <td>None</td>\n",
       "      <td>None</td>\n",
       "      <td>None</td>\n",
       "      <td>None</td>\n",
       "      <td>None</td>\n",
       "      <td>None</td>\n",
       "      <td>None</td>\n",
       "    </tr>\n",
       "    <tr>\n",
       "      <th>1</th>\n",
       "      <td>http://eu.battle.net/sc2/en/profile/3074362/1/...</td>\n",
       "      <td>Protoss</td>\n",
       "      <td>1655.0</td>\n",
       "      <td>0.796056</td>\n",
       "      <td>s</td>\n",
       "      <td>Base</td>\n",
       "      <td>s</td>\n",
       "      <td>s</td>\n",
       "      <td>Base</td>\n",
       "      <td>s</td>\n",
       "      <td>...</td>\n",
       "      <td>None</td>\n",
       "      <td>None</td>\n",
       "      <td>None</td>\n",
       "      <td>None</td>\n",
       "      <td>None</td>\n",
       "      <td>None</td>\n",
       "      <td>None</td>\n",
       "      <td>None</td>\n",
       "      <td>None</td>\n",
       "      <td>None</td>\n",
       "    </tr>\n",
       "    <tr>\n",
       "      <th>2</th>\n",
       "      <td>http://eu.battle.net/sc2/en/profile/4234852/1/...</td>\n",
       "      <td>Protoss</td>\n",
       "      <td>1010.0</td>\n",
       "      <td>0.748148</td>\n",
       "      <td>Base</td>\n",
       "      <td>s</td>\n",
       "      <td>s</td>\n",
       "      <td>s</td>\n",
       "      <td>Base</td>\n",
       "      <td>s</td>\n",
       "      <td>...</td>\n",
       "      <td>None</td>\n",
       "      <td>None</td>\n",
       "      <td>None</td>\n",
       "      <td>None</td>\n",
       "      <td>None</td>\n",
       "      <td>None</td>\n",
       "      <td>None</td>\n",
       "      <td>None</td>\n",
       "      <td>None</td>\n",
       "      <td>None</td>\n",
       "    </tr>\n",
       "    <tr>\n",
       "      <th>3</th>\n",
       "      <td>http://eu.battle.net/sc2/en/profile/3074362/1/...</td>\n",
       "      <td>Protoss</td>\n",
       "      <td>1005.0</td>\n",
       "      <td>0.723022</td>\n",
       "      <td>Base</td>\n",
       "      <td>s</td>\n",
       "      <td>s</td>\n",
       "      <td>Base</td>\n",
       "      <td>s</td>\n",
       "      <td>s</td>\n",
       "      <td>...</td>\n",
       "      <td>None</td>\n",
       "      <td>None</td>\n",
       "      <td>None</td>\n",
       "      <td>None</td>\n",
       "      <td>None</td>\n",
       "      <td>None</td>\n",
       "      <td>None</td>\n",
       "      <td>None</td>\n",
       "      <td>None</td>\n",
       "      <td>None</td>\n",
       "    </tr>\n",
       "    <tr>\n",
       "      <th>4</th>\n",
       "      <td>http://eu.battle.net/sc2/en/profile/4234852/1/...</td>\n",
       "      <td>Protoss</td>\n",
       "      <td>540.0</td>\n",
       "      <td>0.869565</td>\n",
       "      <td>Base</td>\n",
       "      <td>s</td>\n",
       "      <td>s</td>\n",
       "      <td>s</td>\n",
       "      <td>Base</td>\n",
       "      <td>s</td>\n",
       "      <td>...</td>\n",
       "      <td>None</td>\n",
       "      <td>None</td>\n",
       "      <td>None</td>\n",
       "      <td>None</td>\n",
       "      <td>None</td>\n",
       "      <td>None</td>\n",
       "      <td>None</td>\n",
       "      <td>None</td>\n",
       "      <td>None</td>\n",
       "      <td>None</td>\n",
       "    </tr>\n",
       "  </tbody>\n",
       "</table>\n",
       "<p>5 rows × 1800 columns</p>\n",
       "</div>"
      ],
      "text/plain": [
       "                                           id_player played_race  time_match  \\\n",
       "0  http://eu.battle.net/sc2/en/profile/4234852/1/...     Protoss      1655.0   \n",
       "1  http://eu.battle.net/sc2/en/profile/3074362/1/...     Protoss      1655.0   \n",
       "2  http://eu.battle.net/sc2/en/profile/4234852/1/...     Protoss      1010.0   \n",
       "3  http://eu.battle.net/sc2/en/profile/3074362/1/...     Protoss      1005.0   \n",
       "4  http://eu.battle.net/sc2/en/profile/4234852/1/...     Protoss       540.0   \n",
       "\n",
       "   average_speed_match 0th_action 1th_action 2th_action 3th_action 4th_action  \\\n",
       "0             0.740824       Base          s          s          s          s   \n",
       "1             0.796056          s       Base          s          s       Base   \n",
       "2             0.748148       Base          s          s          s       Base   \n",
       "3             0.723022       Base          s          s       Base          s   \n",
       "4             0.869565       Base          s          s          s       Base   \n",
       "\n",
       "  5th_action      ...      1786th_action 1787th_action 1788th_action  \\\n",
       "0          s      ...               None          None          None   \n",
       "1          s      ...               None          None          None   \n",
       "2          s      ...               None          None          None   \n",
       "3          s      ...               None          None          None   \n",
       "4          s      ...               None          None          None   \n",
       "\n",
       "  1789th_action 1790th_action 1791th_action 1792th_action 1793th_action  \\\n",
       "0          None          None          None          None          None   \n",
       "1          None          None          None          None          None   \n",
       "2          None          None          None          None          None   \n",
       "3          None          None          None          None          None   \n",
       "4          None          None          None          None          None   \n",
       "\n",
       "  1794th_action 1795th_action  \n",
       "0          None          None  \n",
       "1          None          None  \n",
       "2          None          None  \n",
       "3          None          None  \n",
       "4          None          None  \n",
       "\n",
       "[5 rows x 1800 columns]"
      ]
     },
     "execution_count": 13,
     "metadata": {},
     "output_type": "execute_result"
    }
   ],
   "source": [
    "df_training.head()\n",
    "#df_testing.head()"
   ]
  },
  {
   "cell_type": "markdown",
   "metadata": {},
   "source": [
    "## NOT TO DO: Aligner le nombre de colonnes pour training and testing datasets"
   ]
  },
  {
   "cell_type": "code",
   "execution_count": null,
   "metadata": {},
   "outputs": [],
   "source": [
    "columns_to_add = (set(df_training.columns) - set(df_testing.columns))-set([\"id_player\"])\n",
    "for column in columns_to_add: \n",
    "    df_testing[column] = np.nan\n",
    "if validation:\n",
    "    training_columns_l = len(df_training.columns)-1\n",
    "    testing_columns_l = len(df_testing.columns)\n",
    "    if testing_columns_l>training_columns_l:\n",
    "        columns_to_add = (set(df_testing.columns) - set(df_training.columns))-set([\"id_player\"])\n",
    "        for column in columns_to_add: \n",
    "            df_training[column] = np.nan"
   ]
  },
  {
   "cell_type": "markdown",
   "metadata": {},
   "source": [
    "## Last index for ordered_actions"
   ]
  },
  {
   "cell_type": "code",
   "execution_count": 14,
   "metadata": {},
   "outputs": [],
   "source": [
    "index_end_actions = len(df_training.columns)"
   ]
  },
  {
   "cell_type": "code",
   "execution_count": 15,
   "metadata": {},
   "outputs": [
    {
     "data": {
      "text/plain": [
       "1800"
      ]
     },
     "execution_count": 15,
     "metadata": {},
     "output_type": "execute_result"
    }
   ],
   "source": [
    "index_end_actions"
   ]
  },
  {
   "cell_type": "markdown",
   "metadata": {},
   "source": [
    "## Calculer l'occurence de chaque action pendant une durée donnée"
   ]
  },
  {
   "cell_type": "code",
   "execution_count": 16,
   "metadata": {},
   "outputs": [],
   "source": [
    "def __row_of_occurence_actions__(actions, counts, list_of_all_actions):\n",
    "    dict_of_occurence = {action: 0 for action in list_of_all_actions}\n",
    "    for action, count in zip(actions, counts):\n",
    "        dict_of_occurence[action] = count   \n",
    "    return [int(dict_of_occurence[action]) for action in list_of_all_actions]\n",
    "        \n",
    "def __compute_occurence_actions__(df, list_of_all_actions, training=True):\n",
    "    df_occurence_actions = pd.DataFrame(0, index=df.index, columns=list_of_all_actions, dtype=int)\n",
    "    for index, row in df.iterrows():\n",
    "        column_index_start = index_beginning_actions if training else index_beginning_actions-1\n",
    "        row_to_examine = df.iloc[index,column_index_start:]\n",
    "        actions, counts = np.unique(row_to_examine.dropna().values, return_counts=True)\n",
    "        df_occurence_actions.iloc[index,] = __row_of_occurence_actions__(actions, counts, list_of_all_actions)\n",
    "    return df.join(df_occurence_actions)"
   ]
  },
  {
   "cell_type": "code",
   "execution_count": 17,
   "metadata": {},
   "outputs": [],
   "source": [
    "df_training = __compute_occurence_actions__(df_training, possible_actions)\n",
    "#df_testing = __compute_occurence_actions__(df_testing, possible_actions, validation)"
   ]
  },
  {
   "cell_type": "code",
   "execution_count": 18,
   "metadata": {},
   "outputs": [
    {
     "data": {
      "text/html": [
       "<div>\n",
       "<style scoped>\n",
       "    .dataframe tbody tr th:only-of-type {\n",
       "        vertical-align: middle;\n",
       "    }\n",
       "\n",
       "    .dataframe tbody tr th {\n",
       "        vertical-align: top;\n",
       "    }\n",
       "\n",
       "    .dataframe thead th {\n",
       "        text-align: right;\n",
       "    }\n",
       "</style>\n",
       "<table border=\"1\" class=\"dataframe\">\n",
       "  <thead>\n",
       "    <tr style=\"text-align: right;\">\n",
       "      <th></th>\n",
       "      <th>id_player</th>\n",
       "      <th>played_race</th>\n",
       "      <th>time_match</th>\n",
       "      <th>average_speed_match</th>\n",
       "      <th>0th_action</th>\n",
       "      <th>1th_action</th>\n",
       "      <th>2th_action</th>\n",
       "      <th>3th_action</th>\n",
       "      <th>4th_action</th>\n",
       "      <th>5th_action</th>\n",
       "      <th>...</th>\n",
       "      <th>hotkey40</th>\n",
       "      <th>s</th>\n",
       "      <th>hotkey80</th>\n",
       "      <th>hotkey61</th>\n",
       "      <th>hotkey42</th>\n",
       "      <th>hotkey20</th>\n",
       "      <th>hotkey50</th>\n",
       "      <th>hotkey70</th>\n",
       "      <th>hotkey21</th>\n",
       "      <th>hotkey32</th>\n",
       "    </tr>\n",
       "  </thead>\n",
       "  <tbody>\n",
       "    <tr>\n",
       "      <th>0</th>\n",
       "      <td>http://eu.battle.net/sc2/en/profile/4234852/1/...</td>\n",
       "      <td>Protoss</td>\n",
       "      <td>1655.0</td>\n",
       "      <td>0.740824</td>\n",
       "      <td>Base</td>\n",
       "      <td>s</td>\n",
       "      <td>s</td>\n",
       "      <td>s</td>\n",
       "      <td>s</td>\n",
       "      <td>s</td>\n",
       "      <td>...</td>\n",
       "      <td>1</td>\n",
       "      <td>127</td>\n",
       "      <td>0</td>\n",
       "      <td>0</td>\n",
       "      <td>34</td>\n",
       "      <td>3</td>\n",
       "      <td>1</td>\n",
       "      <td>0</td>\n",
       "      <td>0</td>\n",
       "      <td>147</td>\n",
       "    </tr>\n",
       "    <tr>\n",
       "      <th>1</th>\n",
       "      <td>http://eu.battle.net/sc2/en/profile/3074362/1/...</td>\n",
       "      <td>Protoss</td>\n",
       "      <td>1655.0</td>\n",
       "      <td>0.796056</td>\n",
       "      <td>s</td>\n",
       "      <td>Base</td>\n",
       "      <td>s</td>\n",
       "      <td>s</td>\n",
       "      <td>Base</td>\n",
       "      <td>s</td>\n",
       "      <td>...</td>\n",
       "      <td>1</td>\n",
       "      <td>139</td>\n",
       "      <td>1</td>\n",
       "      <td>0</td>\n",
       "      <td>141</td>\n",
       "      <td>4</td>\n",
       "      <td>0</td>\n",
       "      <td>0</td>\n",
       "      <td>0</td>\n",
       "      <td>139</td>\n",
       "    </tr>\n",
       "    <tr>\n",
       "      <th>2</th>\n",
       "      <td>http://eu.battle.net/sc2/en/profile/4234852/1/...</td>\n",
       "      <td>Protoss</td>\n",
       "      <td>1010.0</td>\n",
       "      <td>0.748148</td>\n",
       "      <td>Base</td>\n",
       "      <td>s</td>\n",
       "      <td>s</td>\n",
       "      <td>s</td>\n",
       "      <td>Base</td>\n",
       "      <td>s</td>\n",
       "      <td>...</td>\n",
       "      <td>3</td>\n",
       "      <td>158</td>\n",
       "      <td>0</td>\n",
       "      <td>0</td>\n",
       "      <td>27</td>\n",
       "      <td>3</td>\n",
       "      <td>1</td>\n",
       "      <td>0</td>\n",
       "      <td>0</td>\n",
       "      <td>165</td>\n",
       "    </tr>\n",
       "    <tr>\n",
       "      <th>3</th>\n",
       "      <td>http://eu.battle.net/sc2/en/profile/3074362/1/...</td>\n",
       "      <td>Protoss</td>\n",
       "      <td>1005.0</td>\n",
       "      <td>0.723022</td>\n",
       "      <td>Base</td>\n",
       "      <td>s</td>\n",
       "      <td>s</td>\n",
       "      <td>Base</td>\n",
       "      <td>s</td>\n",
       "      <td>s</td>\n",
       "      <td>...</td>\n",
       "      <td>1</td>\n",
       "      <td>121</td>\n",
       "      <td>0</td>\n",
       "      <td>0</td>\n",
       "      <td>119</td>\n",
       "      <td>3</td>\n",
       "      <td>0</td>\n",
       "      <td>0</td>\n",
       "      <td>0</td>\n",
       "      <td>115</td>\n",
       "    </tr>\n",
       "    <tr>\n",
       "      <th>4</th>\n",
       "      <td>http://eu.battle.net/sc2/en/profile/4234852/1/...</td>\n",
       "      <td>Protoss</td>\n",
       "      <td>540.0</td>\n",
       "      <td>0.869565</td>\n",
       "      <td>Base</td>\n",
       "      <td>s</td>\n",
       "      <td>s</td>\n",
       "      <td>s</td>\n",
       "      <td>Base</td>\n",
       "      <td>s</td>\n",
       "      <td>...</td>\n",
       "      <td>1</td>\n",
       "      <td>138</td>\n",
       "      <td>0</td>\n",
       "      <td>0</td>\n",
       "      <td>34</td>\n",
       "      <td>1</td>\n",
       "      <td>1</td>\n",
       "      <td>0</td>\n",
       "      <td>0</td>\n",
       "      <td>147</td>\n",
       "    </tr>\n",
       "  </tbody>\n",
       "</table>\n",
       "<p>5 rows × 1833 columns</p>\n",
       "</div>"
      ],
      "text/plain": [
       "                                           id_player played_race  time_match  \\\n",
       "0  http://eu.battle.net/sc2/en/profile/4234852/1/...     Protoss      1655.0   \n",
       "1  http://eu.battle.net/sc2/en/profile/3074362/1/...     Protoss      1655.0   \n",
       "2  http://eu.battle.net/sc2/en/profile/4234852/1/...     Protoss      1010.0   \n",
       "3  http://eu.battle.net/sc2/en/profile/3074362/1/...     Protoss      1005.0   \n",
       "4  http://eu.battle.net/sc2/en/profile/4234852/1/...     Protoss       540.0   \n",
       "\n",
       "   average_speed_match 0th_action 1th_action 2th_action 3th_action 4th_action  \\\n",
       "0             0.740824       Base          s          s          s          s   \n",
       "1             0.796056          s       Base          s          s       Base   \n",
       "2             0.748148       Base          s          s          s       Base   \n",
       "3             0.723022       Base          s          s       Base          s   \n",
       "4             0.869565       Base          s          s          s       Base   \n",
       "\n",
       "  5th_action   ...    hotkey40    s hotkey80 hotkey61 hotkey42 hotkey20  \\\n",
       "0          s   ...           1  127        0        0       34        3   \n",
       "1          s   ...           1  139        1        0      141        4   \n",
       "2          s   ...           3  158        0        0       27        3   \n",
       "3          s   ...           1  121        0        0      119        3   \n",
       "4          s   ...           1  138        0        0       34        1   \n",
       "\n",
       "  hotkey50 hotkey70 hotkey21 hotkey32  \n",
       "0        1        0        0      147  \n",
       "1        0        0        0      139  \n",
       "2        1        0        0      165  \n",
       "3        0        0        0      115  \n",
       "4        1        0        0      147  \n",
       "\n",
       "[5 rows x 1833 columns]"
      ]
     },
     "execution_count": 18,
     "metadata": {},
     "output_type": "execute_result"
    }
   ],
   "source": [
    "df_training.head()"
   ]
  },
  {
   "cell_type": "markdown",
   "metadata": {},
   "source": [
    "## Delete colums to have lower ordered actions"
   ]
  },
  {
   "cell_type": "code",
   "execution_count": 19,
   "metadata": {},
   "outputs": [],
   "source": [
    "def __delete_columns_for_lower_limit__(df, begin_index, end_index):\n",
    "    columns_to_delete = list(df.columns[begin_index:end_index])\n",
    "    return df.drop(columns_to_delete, axis=1)"
   ]
  },
  {
   "cell_type": "markdown",
   "metadata": {},
   "source": [
    "#### if we want to delete everything as ordonnancy of actions?"
   ]
  },
  {
   "cell_type": "code",
   "execution_count": 20,
   "metadata": {},
   "outputs": [],
   "source": [
    "df_training = __delete_columns_for_lower_limit__(df_training, index_column_to_delete, index_end_actions)\n",
    "#df_testing = __delete_columns_for_lower_limit__(df_testing, index_column_to_delete, index_end_actions)\n",
    "index_end_actions = index_column_to_delete"
   ]
  },
  {
   "cell_type": "markdown",
   "metadata": {},
   "source": [
    "## Encode values"
   ]
  },
  {
   "cell_type": "code",
   "execution_count": 21,
   "metadata": {},
   "outputs": [],
   "source": [
    "#Encodage\n",
    "encoder = Encoder_Categorical_Numerical(df_training, index_beginning_actions, index_end_actions)\n",
    "df_encoded_training = encoder.encode_df(df_training)\n",
    "#df_encoded_testing = encoder.encode_df(df_testing, validation)"
   ]
  },
  {
   "cell_type": "code",
   "execution_count": 22,
   "metadata": {},
   "outputs": [
    {
     "data": {
      "text/html": [
       "<div>\n",
       "<style scoped>\n",
       "    .dataframe tbody tr th:only-of-type {\n",
       "        vertical-align: middle;\n",
       "    }\n",
       "\n",
       "    .dataframe tbody tr th {\n",
       "        vertical-align: top;\n",
       "    }\n",
       "\n",
       "    .dataframe thead th {\n",
       "        text-align: right;\n",
       "    }\n",
       "</style>\n",
       "<table border=\"1\" class=\"dataframe\">\n",
       "  <thead>\n",
       "    <tr style=\"text-align: right;\">\n",
       "      <th></th>\n",
       "      <th>id_player</th>\n",
       "      <th>played_race</th>\n",
       "      <th>time_match</th>\n",
       "      <th>average_speed_match</th>\n",
       "      <th>0th_action</th>\n",
       "      <th>1th_action</th>\n",
       "      <th>2th_action</th>\n",
       "      <th>3th_action</th>\n",
       "      <th>4th_action</th>\n",
       "      <th>5th_action</th>\n",
       "      <th>...</th>\n",
       "      <th>hotkey40</th>\n",
       "      <th>s</th>\n",
       "      <th>hotkey80</th>\n",
       "      <th>hotkey61</th>\n",
       "      <th>hotkey42</th>\n",
       "      <th>hotkey20</th>\n",
       "      <th>hotkey50</th>\n",
       "      <th>hotkey70</th>\n",
       "      <th>hotkey21</th>\n",
       "      <th>hotkey32</th>\n",
       "    </tr>\n",
       "  </thead>\n",
       "  <tbody>\n",
       "    <tr>\n",
       "      <th>0</th>\n",
       "      <td>0</td>\n",
       "      <td>3</td>\n",
       "      <td>1655.0</td>\n",
       "      <td>0.740824</td>\n",
       "      <td>19.0</td>\n",
       "      <td>24.0</td>\n",
       "      <td>24.0</td>\n",
       "      <td>24.0</td>\n",
       "      <td>24.0</td>\n",
       "      <td>24.0</td>\n",
       "      <td>...</td>\n",
       "      <td>1</td>\n",
       "      <td>127</td>\n",
       "      <td>0</td>\n",
       "      <td>0</td>\n",
       "      <td>34</td>\n",
       "      <td>3</td>\n",
       "      <td>1</td>\n",
       "      <td>0</td>\n",
       "      <td>0</td>\n",
       "      <td>147</td>\n",
       "    </tr>\n",
       "    <tr>\n",
       "      <th>1</th>\n",
       "      <td>1</td>\n",
       "      <td>3</td>\n",
       "      <td>1655.0</td>\n",
       "      <td>0.796056</td>\n",
       "      <td>24.0</td>\n",
       "      <td>19.0</td>\n",
       "      <td>24.0</td>\n",
       "      <td>24.0</td>\n",
       "      <td>19.0</td>\n",
       "      <td>24.0</td>\n",
       "      <td>...</td>\n",
       "      <td>1</td>\n",
       "      <td>139</td>\n",
       "      <td>1</td>\n",
       "      <td>0</td>\n",
       "      <td>141</td>\n",
       "      <td>4</td>\n",
       "      <td>0</td>\n",
       "      <td>0</td>\n",
       "      <td>0</td>\n",
       "      <td>139</td>\n",
       "    </tr>\n",
       "    <tr>\n",
       "      <th>2</th>\n",
       "      <td>0</td>\n",
       "      <td>3</td>\n",
       "      <td>1010.0</td>\n",
       "      <td>0.748148</td>\n",
       "      <td>19.0</td>\n",
       "      <td>24.0</td>\n",
       "      <td>24.0</td>\n",
       "      <td>24.0</td>\n",
       "      <td>19.0</td>\n",
       "      <td>24.0</td>\n",
       "      <td>...</td>\n",
       "      <td>3</td>\n",
       "      <td>158</td>\n",
       "      <td>0</td>\n",
       "      <td>0</td>\n",
       "      <td>27</td>\n",
       "      <td>3</td>\n",
       "      <td>1</td>\n",
       "      <td>0</td>\n",
       "      <td>0</td>\n",
       "      <td>165</td>\n",
       "    </tr>\n",
       "    <tr>\n",
       "      <th>3</th>\n",
       "      <td>1</td>\n",
       "      <td>3</td>\n",
       "      <td>1005.0</td>\n",
       "      <td>0.723022</td>\n",
       "      <td>19.0</td>\n",
       "      <td>24.0</td>\n",
       "      <td>24.0</td>\n",
       "      <td>19.0</td>\n",
       "      <td>24.0</td>\n",
       "      <td>24.0</td>\n",
       "      <td>...</td>\n",
       "      <td>1</td>\n",
       "      <td>121</td>\n",
       "      <td>0</td>\n",
       "      <td>0</td>\n",
       "      <td>119</td>\n",
       "      <td>3</td>\n",
       "      <td>0</td>\n",
       "      <td>0</td>\n",
       "      <td>0</td>\n",
       "      <td>115</td>\n",
       "    </tr>\n",
       "    <tr>\n",
       "      <th>4</th>\n",
       "      <td>0</td>\n",
       "      <td>3</td>\n",
       "      <td>540.0</td>\n",
       "      <td>0.869565</td>\n",
       "      <td>19.0</td>\n",
       "      <td>24.0</td>\n",
       "      <td>24.0</td>\n",
       "      <td>24.0</td>\n",
       "      <td>19.0</td>\n",
       "      <td>24.0</td>\n",
       "      <td>...</td>\n",
       "      <td>1</td>\n",
       "      <td>138</td>\n",
       "      <td>0</td>\n",
       "      <td>0</td>\n",
       "      <td>34</td>\n",
       "      <td>1</td>\n",
       "      <td>1</td>\n",
       "      <td>0</td>\n",
       "      <td>0</td>\n",
       "      <td>147</td>\n",
       "    </tr>\n",
       "  </tbody>\n",
       "</table>\n",
       "<p>5 rows × 75 columns</p>\n",
       "</div>"
      ],
      "text/plain": [
       "   id_player  played_race  time_match  average_speed_match  0th_action  \\\n",
       "0          0            3      1655.0             0.740824        19.0   \n",
       "1          1            3      1655.0             0.796056        24.0   \n",
       "2          0            3      1010.0             0.748148        19.0   \n",
       "3          1            3      1005.0             0.723022        19.0   \n",
       "4          0            3       540.0             0.869565        19.0   \n",
       "\n",
       "   1th_action  2th_action  3th_action  4th_action  5th_action    ...     \\\n",
       "0        24.0        24.0        24.0        24.0        24.0    ...      \n",
       "1        19.0        24.0        24.0        19.0        24.0    ...      \n",
       "2        24.0        24.0        24.0        19.0        24.0    ...      \n",
       "3        24.0        24.0        19.0        24.0        24.0    ...      \n",
       "4        24.0        24.0        24.0        19.0        24.0    ...      \n",
       "\n",
       "   hotkey40    s  hotkey80  hotkey61  hotkey42  hotkey20  hotkey50  hotkey70  \\\n",
       "0         1  127         0         0        34         3         1         0   \n",
       "1         1  139         1         0       141         4         0         0   \n",
       "2         3  158         0         0        27         3         1         0   \n",
       "3         1  121         0         0       119         3         0         0   \n",
       "4         1  138         0         0        34         1         1         0   \n",
       "\n",
       "   hotkey21  hotkey32  \n",
       "0         0       147  \n",
       "1         0       139  \n",
       "2         0       165  \n",
       "3         0       115  \n",
       "4         0       147  \n",
       "\n",
       "[5 rows x 75 columns]"
      ]
     },
     "execution_count": 22,
     "metadata": {},
     "output_type": "execute_result"
    }
   ],
   "source": [
    "df_encoded_training.head()\n",
    "#df_encoded_testing.head()"
   ]
  },
  {
   "cell_type": "markdown",
   "metadata": {},
   "source": [
    "### For ordered actions, fill with -1 after lower time limit"
   ]
  },
  {
   "cell_type": "code",
   "execution_count": 23,
   "metadata": {},
   "outputs": [],
   "source": [
    "df_encoded_training = df_encoded_training.fillna(-1)\n",
    "#df_encoded_testing = df_encoded_testing.fillna(-1)"
   ]
  },
  {
   "cell_type": "code",
   "execution_count": 24,
   "metadata": {},
   "outputs": [],
   "source": [
    "def __remove_values_to_agree_lower_limit__(df, training, lower_limit_colums, end_index):\n",
    "    for index_row, begin_index_column in enumerate(lower_limit_colums):\n",
    "        begin_index_column = begin_index_column + index_beginning_actions\n",
    "        if training:\n",
    "            begin_index_column += 1\n",
    "        df.iloc[index_row, begin_index_column:end_index] = -1\n",
    "    return df"
   ]
  },
  {
   "cell_type": "code",
   "execution_count": 25,
   "metadata": {},
   "outputs": [],
   "source": [
    "df_encoded_training = __remove_values_to_agree_lower_limit__(df_encoded_training, True, lower_column_to_keep_training, index_end_actions)\n",
    "#df_encoded_testing = __remove_values_to_agree_lower_limit__(df_encoded_testing, validation, lower_column_to_keep_testing, index_end_actions)"
   ]
  },
  {
   "cell_type": "code",
   "execution_count": 26,
   "metadata": {},
   "outputs": [
    {
     "data": {
      "text/html": [
       "<div>\n",
       "<style scoped>\n",
       "    .dataframe tbody tr th:only-of-type {\n",
       "        vertical-align: middle;\n",
       "    }\n",
       "\n",
       "    .dataframe tbody tr th {\n",
       "        vertical-align: top;\n",
       "    }\n",
       "\n",
       "    .dataframe thead th {\n",
       "        text-align: right;\n",
       "    }\n",
       "</style>\n",
       "<table border=\"1\" class=\"dataframe\">\n",
       "  <thead>\n",
       "    <tr style=\"text-align: right;\">\n",
       "      <th></th>\n",
       "      <th>id_player</th>\n",
       "      <th>played_race</th>\n",
       "      <th>time_match</th>\n",
       "      <th>average_speed_match</th>\n",
       "      <th>0th_action</th>\n",
       "      <th>1th_action</th>\n",
       "      <th>2th_action</th>\n",
       "      <th>3th_action</th>\n",
       "      <th>4th_action</th>\n",
       "      <th>5th_action</th>\n",
       "      <th>...</th>\n",
       "      <th>hotkey40</th>\n",
       "      <th>s</th>\n",
       "      <th>hotkey80</th>\n",
       "      <th>hotkey61</th>\n",
       "      <th>hotkey42</th>\n",
       "      <th>hotkey20</th>\n",
       "      <th>hotkey50</th>\n",
       "      <th>hotkey70</th>\n",
       "      <th>hotkey21</th>\n",
       "      <th>hotkey32</th>\n",
       "    </tr>\n",
       "  </thead>\n",
       "  <tbody>\n",
       "    <tr>\n",
       "      <th>0</th>\n",
       "      <td>0</td>\n",
       "      <td>3</td>\n",
       "      <td>1655.0</td>\n",
       "      <td>0.740824</td>\n",
       "      <td>19.0</td>\n",
       "      <td>24.0</td>\n",
       "      <td>24.0</td>\n",
       "      <td>24.0</td>\n",
       "      <td>24.0</td>\n",
       "      <td>24.0</td>\n",
       "      <td>...</td>\n",
       "      <td>1</td>\n",
       "      <td>127</td>\n",
       "      <td>0</td>\n",
       "      <td>0</td>\n",
       "      <td>34</td>\n",
       "      <td>3</td>\n",
       "      <td>1</td>\n",
       "      <td>0</td>\n",
       "      <td>0</td>\n",
       "      <td>147</td>\n",
       "    </tr>\n",
       "    <tr>\n",
       "      <th>1</th>\n",
       "      <td>1</td>\n",
       "      <td>3</td>\n",
       "      <td>1655.0</td>\n",
       "      <td>0.796056</td>\n",
       "      <td>24.0</td>\n",
       "      <td>19.0</td>\n",
       "      <td>24.0</td>\n",
       "      <td>24.0</td>\n",
       "      <td>19.0</td>\n",
       "      <td>24.0</td>\n",
       "      <td>...</td>\n",
       "      <td>1</td>\n",
       "      <td>139</td>\n",
       "      <td>1</td>\n",
       "      <td>0</td>\n",
       "      <td>141</td>\n",
       "      <td>4</td>\n",
       "      <td>0</td>\n",
       "      <td>0</td>\n",
       "      <td>0</td>\n",
       "      <td>139</td>\n",
       "    </tr>\n",
       "    <tr>\n",
       "      <th>2</th>\n",
       "      <td>0</td>\n",
       "      <td>3</td>\n",
       "      <td>1010.0</td>\n",
       "      <td>0.748148</td>\n",
       "      <td>19.0</td>\n",
       "      <td>24.0</td>\n",
       "      <td>24.0</td>\n",
       "      <td>24.0</td>\n",
       "      <td>19.0</td>\n",
       "      <td>24.0</td>\n",
       "      <td>...</td>\n",
       "      <td>3</td>\n",
       "      <td>158</td>\n",
       "      <td>0</td>\n",
       "      <td>0</td>\n",
       "      <td>27</td>\n",
       "      <td>3</td>\n",
       "      <td>1</td>\n",
       "      <td>0</td>\n",
       "      <td>0</td>\n",
       "      <td>165</td>\n",
       "    </tr>\n",
       "    <tr>\n",
       "      <th>3</th>\n",
       "      <td>1</td>\n",
       "      <td>3</td>\n",
       "      <td>1005.0</td>\n",
       "      <td>0.723022</td>\n",
       "      <td>19.0</td>\n",
       "      <td>24.0</td>\n",
       "      <td>24.0</td>\n",
       "      <td>19.0</td>\n",
       "      <td>24.0</td>\n",
       "      <td>24.0</td>\n",
       "      <td>...</td>\n",
       "      <td>1</td>\n",
       "      <td>121</td>\n",
       "      <td>0</td>\n",
       "      <td>0</td>\n",
       "      <td>119</td>\n",
       "      <td>3</td>\n",
       "      <td>0</td>\n",
       "      <td>0</td>\n",
       "      <td>0</td>\n",
       "      <td>115</td>\n",
       "    </tr>\n",
       "    <tr>\n",
       "      <th>4</th>\n",
       "      <td>0</td>\n",
       "      <td>3</td>\n",
       "      <td>540.0</td>\n",
       "      <td>0.869565</td>\n",
       "      <td>19.0</td>\n",
       "      <td>24.0</td>\n",
       "      <td>24.0</td>\n",
       "      <td>24.0</td>\n",
       "      <td>19.0</td>\n",
       "      <td>24.0</td>\n",
       "      <td>...</td>\n",
       "      <td>1</td>\n",
       "      <td>138</td>\n",
       "      <td>0</td>\n",
       "      <td>0</td>\n",
       "      <td>34</td>\n",
       "      <td>1</td>\n",
       "      <td>1</td>\n",
       "      <td>0</td>\n",
       "      <td>0</td>\n",
       "      <td>147</td>\n",
       "    </tr>\n",
       "  </tbody>\n",
       "</table>\n",
       "<p>5 rows × 75 columns</p>\n",
       "</div>"
      ],
      "text/plain": [
       "   id_player  played_race  time_match  average_speed_match  0th_action  \\\n",
       "0          0            3      1655.0             0.740824        19.0   \n",
       "1          1            3      1655.0             0.796056        24.0   \n",
       "2          0            3      1010.0             0.748148        19.0   \n",
       "3          1            3      1005.0             0.723022        19.0   \n",
       "4          0            3       540.0             0.869565        19.0   \n",
       "\n",
       "   1th_action  2th_action  3th_action  4th_action  5th_action    ...     \\\n",
       "0        24.0        24.0        24.0        24.0        24.0    ...      \n",
       "1        19.0        24.0        24.0        19.0        24.0    ...      \n",
       "2        24.0        24.0        24.0        19.0        24.0    ...      \n",
       "3        24.0        24.0        19.0        24.0        24.0    ...      \n",
       "4        24.0        24.0        24.0        19.0        24.0    ...      \n",
       "\n",
       "   hotkey40    s  hotkey80  hotkey61  hotkey42  hotkey20  hotkey50  hotkey70  \\\n",
       "0         1  127         0         0        34         3         1         0   \n",
       "1         1  139         1         0       141         4         0         0   \n",
       "2         3  158         0         0        27         3         1         0   \n",
       "3         1  121         0         0       119         3         0         0   \n",
       "4         1  138         0         0        34         1         1         0   \n",
       "\n",
       "   hotkey21  hotkey32  \n",
       "0         0       147  \n",
       "1         0       139  \n",
       "2         0       165  \n",
       "3         0       115  \n",
       "4         0       147  \n",
       "\n",
       "[5 rows x 75 columns]"
      ]
     },
     "execution_count": 26,
     "metadata": {},
     "output_type": "execute_result"
    }
   ],
   "source": [
    "df_encoded_training.head()\n",
    "#df_encoded_testing.head()"
   ]
  },
  {
   "cell_type": "markdown",
   "metadata": {},
   "source": [
    "# delete occurency columns"
   ]
  },
  {
   "cell_type": "code",
   "execution_count": 32,
   "metadata": {},
   "outputs": [],
   "source": [
    "#index_end_actions\n",
    "df_encoded_training = __delete_columns_for_lower_limit__(df_encoded_training, index_beginning_actions - 2, len(df_encoded_training.columns))"
   ]
  },
  {
   "cell_type": "code",
   "execution_count": 33,
   "metadata": {},
   "outputs": [
    {
     "data": {
      "text/html": [
       "<div>\n",
       "<style scoped>\n",
       "    .dataframe tbody tr th:only-of-type {\n",
       "        vertical-align: middle;\n",
       "    }\n",
       "\n",
       "    .dataframe tbody tr th {\n",
       "        vertical-align: top;\n",
       "    }\n",
       "\n",
       "    .dataframe thead th {\n",
       "        text-align: right;\n",
       "    }\n",
       "</style>\n",
       "<table border=\"1\" class=\"dataframe\">\n",
       "  <thead>\n",
       "    <tr style=\"text-align: right;\">\n",
       "      <th></th>\n",
       "      <th>id_player</th>\n",
       "      <th>played_race</th>\n",
       "    </tr>\n",
       "  </thead>\n",
       "  <tbody>\n",
       "    <tr>\n",
       "      <th>0</th>\n",
       "      <td>0</td>\n",
       "      <td>3</td>\n",
       "    </tr>\n",
       "    <tr>\n",
       "      <th>1</th>\n",
       "      <td>1</td>\n",
       "      <td>3</td>\n",
       "    </tr>\n",
       "    <tr>\n",
       "      <th>2</th>\n",
       "      <td>0</td>\n",
       "      <td>3</td>\n",
       "    </tr>\n",
       "    <tr>\n",
       "      <th>3</th>\n",
       "      <td>1</td>\n",
       "      <td>3</td>\n",
       "    </tr>\n",
       "    <tr>\n",
       "      <th>4</th>\n",
       "      <td>0</td>\n",
       "      <td>3</td>\n",
       "    </tr>\n",
       "  </tbody>\n",
       "</table>\n",
       "</div>"
      ],
      "text/plain": [
       "   id_player  played_race\n",
       "0          0            3\n",
       "1          1            3\n",
       "2          0            3\n",
       "3          1            3\n",
       "4          0            3"
      ]
     },
     "execution_count": 33,
     "metadata": {},
     "output_type": "execute_result"
    }
   ],
   "source": [
    "df_encoded_training.head()"
   ]
  },
  {
   "cell_type": "markdown",
   "metadata": {},
   "source": [
    "# Selection of model"
   ]
  },
  {
   "cell_type": "code",
   "execution_count": 29,
   "metadata": {},
   "outputs": [],
   "source": [
    "model = RandomForestClassifier(n_estimators = 64, max_depth = 512)"
   ]
  },
  {
   "cell_type": "markdown",
   "metadata": {},
   "source": [
    "# Training"
   ]
  },
  {
   "cell_type": "code",
   "execution_count": null,
   "metadata": {},
   "outputs": [],
   "source": [
    "decision_tree.fit(df_encoded_training.iloc[:, 1:].values, df_encoded_training.id_player.values)"
   ]
  },
  {
   "cell_type": "markdown",
   "metadata": {},
   "source": [
    "# Testing"
   ]
  },
  {
   "cell_type": "code",
   "execution_count": null,
   "metadata": {},
   "outputs": [],
   "source": [
    "predicted = decision_tree.predict(df_encoded_testing.values)\n",
    "decoded_predicted = encoder.decode_labels(predicted)  # We decode the encoded predictions\n",
    "indices = range(1, len(predicted) + 1)\n",
    "output_df = pd.DataFrame({\"RowId\": indices, \"prediction\": decoded_predicted})\n",
    "output_df.to_csv(\"test_labels.CSV\", index=False)"
   ]
  },
  {
   "cell_type": "markdown",
   "metadata": {},
   "source": [
    "# Small validation"
   ]
  },
  {
   "cell_type": "code",
   "execution_count": null,
   "metadata": {},
   "outputs": [],
   "source": [
    "nolabel_df_validation = df_encoded_testing.drop(axis=1, labels=\"id_player\")\n",
    "nolabel_df_validation.fillna(0)\n",
    "predicted = decision_tree.predict(nolabel_df_validation.values)\n",
    "labels = df_encoded_testing.id_player.values\n",
    "print(\"accuracy:\", accuracy_extractor.get_accuracy(labels, predicted))"
   ]
  },
  {
   "cell_type": "markdown",
   "metadata": {},
   "source": [
    "# k-fold cross validation"
   ]
  },
  {
   "cell_type": "code",
   "execution_count": 34,
   "metadata": {},
   "outputs": [
    {
     "name": "stderr",
     "output_type": "stream",
     "text": [
      "C:\\Program Files (x86)\\Microsoft Visual Studio\\Shared\\Anaconda3_64\\lib\\site-packages\\sklearn\\model_selection\\_split.py:605: Warning: The least populated class in y has only 4 members, which is too few. The minimum number of members in any class cannot be less than n_splits=10.\n",
      "  % (min_groups, self.n_splits)), Warning)\n"
     ]
    },
    {
     "name": "stdout",
     "output_type": "stream",
     "text": [
      "[0.04010025 0.03926702 0.04189944 0.04297994 0.0477707  0.05136986\n",
      " 0.05494505 0.06072874 0.06167401 0.06161137]\n"
     ]
    }
   ],
   "source": [
    "k = 10\n",
    "scores = cross_val_score(model, df_encoded_training.iloc[:, 1:].values, y=df_encoded_training.id_player.values, cv=k)\n",
    "print(scores)"
   ]
  },
  {
   "cell_type": "code",
   "execution_count": 35,
   "metadata": {},
   "outputs": [
    {
     "data": {
      "text/plain": [
       "0.05023463971206878"
      ]
     },
     "execution_count": 35,
     "metadata": {},
     "output_type": "execute_result"
    }
   ],
   "source": [
    "sum(scores)/10"
   ]
  },
  {
   "cell_type": "code",
   "execution_count": 258,
   "metadata": {},
   "outputs": [],
   "source": [
    "import matplotlib\n",
    "import matplotlib.pyplot as plt"
   ]
  },
  {
   "cell_type": "code",
   "execution_count": 226,
   "metadata": {},
   "outputs": [
    {
     "data": {
      "text/plain": [
       "[<matplotlib.lines.Line2D at 0x2a15d57efd0>]"
      ]
     },
     "execution_count": 226,
     "metadata": {},
     "output_type": "execute_result"
    },
    {
     "data": {
      "image/png": "[encoded data removed]",
      "text/plain": [
       "<Figure size 432x288 with 1 Axes>"
      ]
     },
     "metadata": {},
     "output_type": "display_data"
    }
   ],
   "source": [
    "x = [5, 10, 15, 20, 25, 30, 60, 80, 150]\n",
    "y_scores = [0.675, 0.681, 0.709, 0.6720311962135891, 0.671726521661446, 0.661, 0.619, 0.6154324859571229, 0.5600425108716918]\n",
    "plt.plot(x, y_scores, marker='o')"
   ]
  },
  {
   "cell_type": "code",
   "execution_count": null,
   "metadata": {},
   "outputs": [],
   "source": []
  }
 ],
 "metadata": {
  "kernelspec": {
   "display_name": "Python 3",
   "language": "python",
   "name": "python3"
  },
  "language_info": {
   "codemirror_mode": {
    "name": "ipython",
    "version": 3
   },
   "file_extension": ".py",
   "mimetype": "text/x-python",
   "name": "python",
   "nbconvert_exporter": "python",
   "pygments_lexer": "ipython3",
   "version": "3.6.5"
  }
 },
 "nbformat": 4,
 "nbformat_minor": 2
}
