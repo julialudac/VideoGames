{
 "cells": [
  {
   "cell_type": "markdown",
   "metadata": {},
   "source": [
    "Recall: the hyperparameters are t, n_estimators and max_depth.\n",
    "The goal here is to find the best hyper-parameters values.\n",
    "To do so, we take files minitrain.cs and minitest.csv to cross-validate.\n",
    "For different values of hyperparameters, we display the values in a 4d graph."
   ]
  },
  {
   "cell_type": "code",
   "execution_count": 7,
   "metadata": {},
   "outputs": [],
   "source": [
    "from Train_n_test import ExtractTrainValidateTest\n",
    "\n",
    "#training_file = \"/media/storage/Ecole/Insa-5e_annee/pdc_videogames/input/minitrain.csv\"\n",
    "#validation_file = \"/media/storage/Ecole/Insa-5e_annee/pdc_videogames/input/minitest.csv\"\n",
    "training_file = \"F:\\Ecole\\Insa-5e_annee\\pdc_videogames\\input\\minitrain.csv\"\n",
    "validation_file = \"F:\\Ecole\\Insa-5e_annee\\pdc_videogames\\input\\minitest.csv\""
   ]
  },
  {
   "cell_type": "markdown",
   "metadata": {},
   "source": [
    "# Sampling hyper-parameters' values (design points).\n",
    "To sample, have to change the lists manually by zooming each time. Otherwise, it will be too long.\n",
    "Extracting data is the most costly => changing t's value is the most costly."
   ]
  },
  {
   "cell_type": "code",
   "execution_count": 8,
   "metadata": {},
   "outputs": [
    {
     "name": "stdout",
     "output_type": "stream",
     "text": [
      "[5, 40, 320, 2560]\n",
      "[1, 4, 16, 64, 256]\n",
      "[2, 8, 32, 128, 512]\n"
     ]
    }
   ],
   "source": [
    "f = 4\n",
    "\n",
    "t_list = [] # 5 is initial value\n",
    "next_val= 5\n",
    "factor = f*2\n",
    "while (next_val < 3600):\n",
    "    t_list.append(next_val)\n",
    "    next_val*=factor\n",
    "print(t_list)\n",
    "\n",
    "\n",
    "# Sampling n_estimators\n",
    "n_estimators_list = []\n",
    "next_val= 1\n",
    "factor = f\n",
    "while (next_val < 500):\n",
    "    n_estimators_list.append(next_val)\n",
    "    next_val*=factor\n",
    "print(n_estimators_list)\n",
    "\n",
    "\n",
    "# Sampling max_depth\n",
    "max_depth_list = []\n",
    "next_val= 2\n",
    "factor = f\n",
    "while (next_val < 2000):\n",
    "    max_depth_list.append(next_val)\n",
    "    next_val*=factor\n",
    "print(max_depth_list)"
   ]
  },
  {
   "cell_type": "markdown",
   "metadata": {},
   "source": [
    "# Filling the accuracies values obtained with different values for the design points\n",
    "# TODO: plutôt faire plusieurs run de ça et avoir une moyenne, car il y a de l'aléa."
   ]
  },
  {
   "cell_type": "code",
   "execution_count": 9,
   "metadata": {},
   "outputs": [
    {
     "name": "stdout",
     "output_type": "stream",
     "text": [
      "Added element [5, 1, 2, 6.9164265129683]\n",
      "Added element [5, 1, 8, 25.360230547550433]\n",
      "Added element [5, 1, 32, 48.99135446685879]\n",
      "Added element [5, 1, 128, 38.04034582132565]\n",
      "Added element [5, 1, 512, 41.210374639769455]\n",
      "Added element [5, 4, 2, 7.204610951008646]\n",
      "Added element [5, 4, 8, 34.293948126801155]\n",
      "Added element [5, 4, 32, 45.821325648414984]\n",
      "Added element [5, 4, 128, 45.24495677233429]\n",
      "Added element [5, 4, 512, 43.22766570605187]\n",
      "Added element [5, 16, 2, 14.697406340057636]\n",
      "Added element [5, 16, 8, 42.93948126801153]\n",
      "Added element [5, 16, 32, 50.720461095100866]\n",
      "Added element [5, 16, 128, 58.501440922190206]\n",
      "Added element [5, 16, 512, 54.7550432276657]\n",
      "Added element [5, 64, 2, 14.697406340057636]\n",
      "Added element [5, 64, 8, 49.56772334293948]\n",
      "Added element [5, 64, 32, 56.77233429394812]\n",
      "Added element [5, 64, 128, 53.602305475504316]\n",
      "Added element [5, 64, 512, 59.94236311239193]\n",
      "Added element [5, 256, 2, 14.697406340057636]\n",
      "Added element [5, 256, 8, 51.008645533141205]\n",
      "Added element [5, 256, 32, 50.43227665706051]\n",
      "Added element [5, 256, 128, 54.46685878962536]\n",
      "Added element [5, 256, 512, 49.85590778097983]\n",
      "Added element [40, 1, 2, 0.0]\n",
      "Added element [40, 1, 8, 12.39193083573487]\n",
      "Added element [40, 1, 32, 62.2478386167147]\n",
      "Added element [40, 1, 128, 72.3342939481268]\n",
      "Added element [40, 1, 512, 72.62247838616715]\n",
      "Added element [40, 4, 2, 10.662824207492795]\n",
      "Added element [40, 4, 8, 58.789625360230545]\n",
      "Added element [40, 4, 32, 80.40345821325649]\n",
      "Added element [40, 4, 128, 85.87896253602305]\n",
      "Added element [40, 4, 512, 80.11527377521614]\n",
      "Added element [40, 16, 2, 13.544668587896252]\n",
      "Added element [40, 16, 8, 64.26512968299711]\n",
      "Added element [40, 16, 32, 84.72622478386167]\n",
      "Added element [40, 16, 128, 83.28530259365994]\n",
      "Added element [40, 16, 512, 86.74351585014409]\n",
      "Added element [40, 64, 2, 18.155619596541786]\n",
      "Added element [40, 64, 8, 65.12968299711815]\n",
      "Added element [40, 64, 32, 85.5907780979827]\n",
      "Added element [40, 64, 128, 88.47262247838617]\n",
      "Added element [40, 64, 512, 87.60806916426513]\n",
      "Added element [40, 256, 2, 12.39193083573487]\n",
      "Added element [40, 256, 8, 67.72334293948127]\n",
      "Added element [40, 256, 32, 88.47262247838617]\n",
      "Added element [40, 256, 128, 87.31988472622479]\n",
      "Added element [40, 256, 512, 87.31988472622479]\n",
      "Added element [320, 1, 2, 6.628242074927954]\n",
      "Added element [320, 1, 8, 19.596541786743515]\n",
      "Added element [320, 1, 32, 62.824207492795395]\n",
      "Added element [320, 1, 128, 48.70317002881844]\n",
      "Added element [320, 1, 512, 61.95965417867435]\n",
      "Added element [320, 4, 2, 0.0]\n",
      "Added element [320, 4, 8, 49.56772334293948]\n",
      "Added element [320, 4, 32, 75.79250720461094]\n",
      "Added element [320, 4, 128, 80.97982708933718]\n",
      "Added element [320, 4, 512, 78.96253602305475]\n",
      "Added element [320, 16, 2, 7.780979827089338]\n",
      "Added element [320, 16, 8, 61.38328530259366]\n",
      "Added element [320, 16, 32, 91.06628242074927]\n",
      "Added element [320, 16, 128, 93.37175792507205]\n",
      "Added element [320, 16, 512, 90.48991354466858]\n",
      "Added element [320, 64, 2, 16.138328530259365]\n",
      "Added element [320, 64, 8, 68.29971181556196]\n",
      "Added element [320, 64, 32, 91.35446685878964]\n",
      "Added element [320, 64, 128, 93.0835734870317]\n",
      "Added element [320, 64, 512, 93.65994236311239]\n",
      "Added element [320, 256, 2, 15.561959654178676]\n",
      "Added element [320, 256, 8, 67.72334293948127]\n",
      "Added element [320, 256, 32, 93.0835734870317]\n",
      "Added element [320, 256, 128, 93.37175792507205]\n",
      "Added element [320, 256, 512, 93.37175792507205]\n",
      "Added element [2560, 1, 2, 0.0]\n",
      "Added element [2560, 1, 8, 25.64841498559078]\n",
      "Added element [2560, 1, 32, 36.59942363112392]\n",
      "Added element [2560, 1, 128, 53.31412103746398]\n",
      "Added element [2560, 1, 512, 62.824207492795395]\n",
      "Added element [2560, 4, 2, 0.0]\n",
      "Added element [2560, 4, 8, 52.73775216138329]\n",
      "Added element [2560, 4, 32, 75.79250720461094]\n",
      "Added element [2560, 4, 128, 74.06340057636888]\n",
      "Added element [2560, 4, 512, 74.92795389048992]\n",
      "Added element [2560, 16, 2, 15.273775216138327]\n",
      "Added element [2560, 16, 8, 71.46974063400576]\n",
      "Added element [2560, 16, 32, 82.70893371757924]\n",
      "Added element [2560, 16, 128, 83.5734870317003]\n",
      "Added element [2560, 16, 512, 82.42074927953891]\n",
      "Added element [2560, 64, 2, 10.662824207492795]\n",
      "Added element [2560, 64, 8, 68.01152737752162]\n",
      "Added element [2560, 64, 32, 82.9971181556196]\n",
      "Added element [2560, 64, 128, 85.01440922190201]\n",
      "Added element [2560, 64, 512, 85.01440922190201]\n",
      "Added element [2560, 256, 2, 10.662824207492795]\n",
      "Added element [2560, 256, 8, 70.89337175792507]\n",
      "Added element [2560, 256, 32, 86.45533141210375]\n",
      "Added element [2560, 256, 128, 86.1671469740634]\n",
      "Added element [2560, 256, 512, 85.30259365994236]\n",
      "[[5, 1, 2, 6.9164265129683], [5, 1, 8, 25.360230547550433], [5, 1, 32, 48.99135446685879], [5, 1, 128, 38.04034582132565], [5, 1, 512, 41.210374639769455], [5, 4, 2, 7.204610951008646], [5, 4, 8, 34.293948126801155], [5, 4, 32, 45.821325648414984], [5, 4, 128, 45.24495677233429], [5, 4, 512, 43.22766570605187], [5, 16, 2, 14.697406340057636], [5, 16, 8, 42.93948126801153], [5, 16, 32, 50.720461095100866], [5, 16, 128, 58.501440922190206], [5, 16, 512, 54.7550432276657], [5, 64, 2, 14.697406340057636], [5, 64, 8, 49.56772334293948], [5, 64, 32, 56.77233429394812], [5, 64, 128, 53.602305475504316], [5, 64, 512, 59.94236311239193], [5, 256, 2, 14.697406340057636], [5, 256, 8, 51.008645533141205], [5, 256, 32, 50.43227665706051], [5, 256, 128, 54.46685878962536], [5, 256, 512, 49.85590778097983], [40, 1, 2, 0.0], [40, 1, 8, 12.39193083573487], [40, 1, 32, 62.2478386167147], [40, 1, 128, 72.3342939481268], [40, 1, 512, 72.62247838616715], [40, 4, 2, 10.662824207492795], [40, 4, 8, 58.789625360230545], [40, 4, 32, 80.40345821325649], [40, 4, 128, 85.87896253602305], [40, 4, 512, 80.11527377521614], [40, 16, 2, 13.544668587896252], [40, 16, 8, 64.26512968299711], [40, 16, 32, 84.72622478386167], [40, 16, 128, 83.28530259365994], [40, 16, 512, 86.74351585014409], [40, 64, 2, 18.155619596541786], [40, 64, 8, 65.12968299711815], [40, 64, 32, 85.5907780979827], [40, 64, 128, 88.47262247838617], [40, 64, 512, 87.60806916426513], [40, 256, 2, 12.39193083573487], [40, 256, 8, 67.72334293948127], [40, 256, 32, 88.47262247838617], [40, 256, 128, 87.31988472622479], [40, 256, 512, 87.31988472622479], [320, 1, 2, 6.628242074927954], [320, 1, 8, 19.596541786743515], [320, 1, 32, 62.824207492795395], [320, 1, 128, 48.70317002881844], [320, 1, 512, 61.95965417867435], [320, 4, 2, 0.0], [320, 4, 8, 49.56772334293948], [320, 4, 32, 75.79250720461094], [320, 4, 128, 80.97982708933718], [320, 4, 512, 78.96253602305475], [320, 16, 2, 7.780979827089338], [320, 16, 8, 61.38328530259366], [320, 16, 32, 91.06628242074927], [320, 16, 128, 93.37175792507205], [320, 16, 512, 90.48991354466858], [320, 64, 2, 16.138328530259365], [320, 64, 8, 68.29971181556196], [320, 64, 32, 91.35446685878964], [320, 64, 128, 93.0835734870317], [320, 64, 512, 93.65994236311239], [320, 256, 2, 15.561959654178676], [320, 256, 8, 67.72334293948127], [320, 256, 32, 93.0835734870317], [320, 256, 128, 93.37175792507205], [320, 256, 512, 93.37175792507205], [2560, 1, 2, 0.0], [2560, 1, 8, 25.64841498559078], [2560, 1, 32, 36.59942363112392], [2560, 1, 128, 53.31412103746398], [2560, 1, 512, 62.824207492795395], [2560, 4, 2, 0.0], [2560, 4, 8, 52.73775216138329], [2560, 4, 32, 75.79250720461094], [2560, 4, 128, 74.06340057636888], [2560, 4, 512, 74.92795389048992], [2560, 16, 2, 15.273775216138327], [2560, 16, 8, 71.46974063400576], [2560, 16, 32, 82.70893371757924], [2560, 16, 128, 83.5734870317003], [2560, 16, 512, 82.42074927953891], [2560, 64, 2, 10.662824207492795], [2560, 64, 8, 68.01152737752162], [2560, 64, 32, 82.9971181556196], [2560, 64, 128, 85.01440922190201], [2560, 64, 512, 85.01440922190201], [2560, 256, 2, 10.662824207492795], [2560, 256, 8, 70.89337175792507], [2560, 256, 32, 86.45533141210375], [2560, 256, 128, 86.1671469740634], [2560, 256, 512, 85.30259365994236]]\n",
      "Time spent here: 416.3545939922333\n"
     ]
    }
   ],
   "source": [
    "import time\n",
    "\n",
    "start_time = time.time()\n",
    "#accuracies = [] # a 2d-list. One line is a list with 5 values: t, n_estimators, max_depth, accuracy and training time.\n",
    "accuracies = [] # a 2d-list. One line is a list with 4 values: t, n_estimators, max_depth, and accuracy\n",
    "etvt = ExtractTrainValidateTest()\n",
    "for t in t_list:\n",
    "    etvt.extract_and_process_df(t, training_file, validation_file)\n",
    "    for n_estimators in n_estimators_list:\n",
    "        for max_depth in max_depth_list:\n",
    "            etvt.init_tnv(n_estimators, max_depth)\n",
    "            #training_time = etvt.train()\n",
    "            etvt.train()\n",
    "            acc = etvt.validate()\n",
    "            #accuracies.append([t, n_estimators, max_depth, accuracy, training_time])\n",
    "            accuracies.append([t, n_estimators, max_depth, acc])\n",
    "            print(\"Added element\", [t, n_estimators, max_depth, acc])\n",
    "print(accuracies)\n",
    "print(\"Time spent here:\", (time.time()-start_time)/60 , \"minutes\")"
   ]
  },
  {
   "cell_type": "markdown",
   "metadata": {},
   "source": [
    "# Building graphic from the obtained 2d-list"
   ]
  },
  {
   "cell_type": "code",
   "execution_count": 33,
   "metadata": {},
   "outputs": [],
   "source": [
    "#%matplotlib inline\n",
    "from matplotlib import interactive\n",
    "interactive(True)"
   ]
  },
  {
   "cell_type": "code",
   "execution_count": 35,
   "metadata": {},
   "outputs": [
    {
     "data": {
      "image/png": "[encoded data removed]",
      "text/plain": [
       "<Figure size 432x288 with 1 Axes>"
      ]
     },
     "metadata": {},
     "output_type": "display_data"
    }
   ],
   "source": [
    "# inspired from https://stackoverflow.com/questions/14995610/how-to-make-a-4d-plot-with-matplotlib-using-arbitrary-data\n",
    "\n",
    "\n",
    "from mpl_toolkits.mplot3d import Axes3D\n",
    "from matplotlib import cm\n",
    "import matplotlib.pyplot as plt\n",
    "import numpy as np\n",
    "\n",
    "\"\"\"fig = plt.figure()\n",
    "ax = fig.gca(projection='3d')\n",
    "X = accuracies[:,0]\n",
    "Y = accuracies[:,2]\n",
    "X, Y = np.meshgrid(X, Y)\n",
    "Z = accuracies[:,3]\n",
    "N = accuracies[:,1]\n",
    "surf = ax.plot_surface(\n",
    "    X, Y, Z, rstride=1, cstride=1,\n",
    "    facecolors=cm.jet(N),\n",
    "    linewidth=0, antialiased=False, shade=False)\n",
    "\"\"\"\n",
    "\n",
    "fig = plt.figure()\n",
    "ax = fig.add_subplot(111, projection='3d')\n",
    "x = accuracies[:,0]\n",
    "y = accuracies[:,2]\n",
    "z = accuracies[:,3]\n",
    "c = accuracies[:,1]\n",
    "ax.scatter(x, y, z, c=c, cmap=\"magma\")\n",
    "\n",
    "plt.show()"
   ]
  },
  {
   "cell_type": "markdown",
   "metadata": {},
   "source": [
    "# Draft"
   ]
  },
  {
   "cell_type": "code",
   "execution_count": null,
   "metadata": {},
   "outputs": [],
   "source": []
  },
  {
   "cell_type": "code",
   "execution_count": null,
   "metadata": {},
   "outputs": [],
   "source": []
  }
 ],
 "metadata": {
  "kernelspec": {
   "display_name": "Python 3",
   "language": "python",
   "name": "python3"
  },
  "language_info": {
   "codemirror_mode": {
    "name": "ipython",
    "version": 3
   },
   "file_extension": ".py",
   "mimetype": "text/x-python",
   "name": "python",
   "nbconvert_exporter": "python",
   "pygments_lexer": "ipython3",
   "version": "3.6.5"
  }
 },
 "nbformat": 4,
 "nbformat_minor": 2
}
