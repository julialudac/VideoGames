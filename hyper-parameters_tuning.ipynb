{
 "cells": [
  {
   "cell_type": "markdown",
   "metadata": {},
   "source": [
    "Recall: the hyperparameters are t, n_estimators and max_depth.\n",
    "The goal here is to find the best hyper-parameters values.\n",
    "To do so, we take files minitrain.cs and minitest.csv to cross-validate.\n",
    "For different values of hyperparameters, we display the values in a 4d graph."
   ]
  },
  {
   "cell_type": "code",
   "execution_count": 4,
   "metadata": {},
   "outputs": [],
   "source": [
    "import pandas as pd\n",
    "from Train_n_test import ExtractTrainValidateTest\n",
    "\n",
    "#training_file = \"/media/storage/Ecole/Insa-5e_annee/pdc_videogames/input/minitrain.csv\"\n",
    "#validation_file = \"/media/storage/Ecole/Insa-5e_annee/pdc_videogames/input/minitest.csv\"\n",
    "training_file = \"F:\\Ecole\\Insa-5e_annee\\pdc_videogames\\input\\minitrain.csv\"\n",
    "validation_file = \"F:\\Ecole\\Insa-5e_annee\\pdc_videogames\\input\\minitest.csv\""
   ]
  },
  {
   "cell_type": "markdown",
   "metadata": {},
   "source": [
    "# Sampling hyper-parameters' values (design points).\n",
    "To sample, have to change the lists manually by zooming each time. Otherwise, it will be too long.\n",
    "Extracting data is the most costly => changing t's value is the most costly."
   ]
  },
  {
   "cell_type": "code",
   "execution_count": 5,
   "metadata": {},
   "outputs": [
    {
     "name": "stdout",
     "output_type": "stream",
     "text": [
      "[5, 40, 320, 2560]\n",
      "[1, 4, 16, 64, 256]\n",
      "[2, 8, 32, 128, 512]\n"
     ]
    }
   ],
   "source": [
    "f = 4\n",
    "\n",
    "t_list = [] # 5 is initial value\n",
    "next_val= 5\n",
    "factor = f*2\n",
    "while (next_val < 3600):\n",
    "    t_list.append(next_val)\n",
    "    next_val*=factor\n",
    "print(t_list)\n",
    "\n",
    "\n",
    "# Sampling n_estimators\n",
    "n_estimators_list = []\n",
    "next_val= 1\n",
    "factor = f\n",
    "while (next_val < 500):\n",
    "    n_estimators_list.append(next_val)\n",
    "    next_val*=factor\n",
    "print(n_estimators_list)\n",
    "\n",
    "\n",
    "# Sampling max_depth\n",
    "max_depth_list = []\n",
    "next_val= 2\n",
    "factor = f\n",
    "while (next_val < 2000):\n",
    "    max_depth_list.append(next_val)\n",
    "    next_val*=factor\n",
    "print(max_depth_list)"
   ]
  },
  {
   "cell_type": "markdown",
   "metadata": {},
   "source": [
    "# Filling the accuracies values obtained with different values for the design points\n",
    "TODO: plutôt faire plusieurs run de ça et avoir une moyenne, car il y a de l'aléa."
   ]
  },
  {
   "cell_type": "code",
   "execution_count": 6,
   "metadata": {},
   "outputs": [
    {
     "name": "stdout",
     "output_type": "stream",
     "text": [
      "Added element [5, 1, 2, 0.0]\n",
      "Added element [5, 1, 8, 18.73198847262248]\n",
      "Added element [5, 1, 32, 45.53314121037464]\n",
      "Added element [5, 1, 128, 52.1613832853026]\n",
      "Added element [5, 1, 512, 43.22766570605187]\n",
      "Added element [5, 4, 2, 7.204610951008646]\n",
      "Added element [5, 4, 8, 41.210374639769455]\n",
      "Added element [5, 4, 32, 44.668587896253605]\n",
      "Added element [5, 4, 128, 59.94236311239193]\n",
      "Added element [5, 4, 512, 48.99135446685879]\n",
      "Added element [5, 16, 2, 14.121037463976945]\n",
      "Added element [5, 16, 8, 50.14409221902017]\n",
      "Added element [5, 16, 32, 63.112391930835734]\n",
      "Added element [5, 16, 128, 64.55331412103746]\n",
      "Added element [5, 16, 512, 53.02593659942363]\n",
      "Added element [5, 64, 2, 17.579250720461097]\n",
      "Added element [5, 64, 8, 51.29682997118156]\n",
      "Added element [5, 64, 32, 62.2478386167147]\n",
      "Added element [5, 64, 128, 64.55331412103746]\n",
      "Added element [5, 64, 512, 62.2478386167147]\n",
      "Added element [5, 256, 2, 17.002881844380404]\n",
      "Added element [5, 256, 8, 55.907780979827095]\n",
      "Added element [5, 256, 32, 64.55331412103746]\n",
      "Added element [5, 256, 128, 63.40057636887608]\n",
      "Added element [5, 256, 512, 61.95965417867435]\n",
      "Added element [40, 1, 2, 0.0]\n",
      "Added element [40, 1, 8, 21.613832853025936]\n",
      "Added element [40, 1, 32, 72.04610951008645]\n",
      "Added element [40, 1, 128, 64.26512968299711]\n",
      "Added element [40, 1, 512, 71.75792507204612]\n",
      "Added element [40, 4, 2, 4.610951008645533]\n",
      "Added element [40, 4, 8, 36.59942363112392]\n",
      "Added element [40, 4, 32, 81.84438040345822]\n",
      "Added element [40, 4, 128, 89.04899135446685]\n",
      "Added element [40, 4, 512, 82.9971181556196]\n",
      "Added element [40, 16, 2, 10.086455331412104]\n",
      "Added element [40, 16, 8, 60.80691642651297]\n",
      "Added element [40, 16, 32, 86.45533141210375]\n",
      "Added element [40, 16, 128, 85.5907780979827]\n",
      "Added element [40, 16, 512, 85.01440922190201]\n",
      "Added element [40, 64, 2, 19.020172910662826]\n",
      "Added element [40, 64, 8, 68.87608069164266]\n",
      "Added element [40, 64, 32, 86.45533141210375]\n",
      "Added element [40, 64, 128, 85.87896253602305]\n",
      "Added element [40, 64, 512, 85.5907780979827]\n",
      "Added element [40, 256, 2, 12.968299711815561]\n",
      "Added element [40, 256, 8, 65.99423631123919]\n",
      "Added element [40, 256, 32, 87.03170028818444]\n",
      "Added element [40, 256, 128, 86.74351585014409]\n",
      "Added element [40, 256, 512, 85.87896253602305]\n",
      "Added element [320, 1, 2, 6.628242074927954]\n",
      "Added element [320, 1, 8, 20.7492795389049]\n",
      "Added element [320, 1, 32, 57.636887608069166]\n",
      "Added element [320, 1, 128, 51.008645533141205]\n",
      "Added element [320, 1, 512, 67.72334293948127]\n",
      "Added element [320, 4, 2, 6.628242074927954]\n",
      "Added element [320, 4, 8, 37.46397694524496]\n",
      "Added element [320, 4, 32, 80.97982708933718]\n",
      "Added element [320, 4, 128, 75.79250720461094]\n",
      "Added element [320, 4, 512, 77.80979827089337]\n",
      "Added element [320, 16, 2, 11.527377521613833]\n",
      "Added element [320, 16, 8, 55.907780979827095]\n",
      "Added element [320, 16, 32, 88.47262247838617]\n",
      "Added element [320, 16, 128, 90.48991354466858]\n",
      "Added element [320, 16, 512, 91.93083573487031]\n",
      "Added element [320, 64, 2, 8.645533141210375]\n",
      "Added element [320, 64, 8, 68.29971181556196]\n",
      "Added element [320, 64, 32, 92.507204610951]\n",
      "Added element [320, 64, 128, 91.06628242074927]\n",
      "Added element [320, 64, 512, 92.21902017291066]\n",
      "Added element [320, 256, 2, 13.8328530259366]\n",
      "Added element [320, 256, 8, 68.58789625360231]\n",
      "Added element [320, 256, 32, 92.79538904899135]\n",
      "Added element [320, 256, 128, 92.507204610951]\n",
      "Added element [320, 256, 512, 91.93083573487031]\n",
      "Added element [2560, 1, 2, 0.0]\n",
      "Added element [2560, 1, 8, 45.24495677233429]\n",
      "Added element [2560, 1, 32, 58.501440922190206]\n",
      "Added element [2560, 1, 128, 47.55043227665706]\n",
      "Added element [2560, 1, 512, 61.67146974063401]\n",
      "Added element [2560, 4, 2, 4.034582132564841]\n",
      "Added element [2560, 4, 8, 45.821325648414984]\n",
      "Added element [2560, 4, 32, 73.19884726224784]\n",
      "Added element [2560, 4, 128, 70.02881844380403]\n",
      "Added element [2560, 4, 512, 66.28242074927954]\n",
      "Added element [2560, 16, 2, 19.30835734870317]\n",
      "Added element [2560, 16, 8, 68.58789625360231]\n",
      "Added element [2560, 16, 32, 81.84438040345822]\n",
      "Added element [2560, 16, 128, 84.14985590778097]\n",
      "Added element [2560, 16, 512, 80.97982708933718]\n",
      "Added element [2560, 64, 2, 14.697406340057636]\n",
      "Added element [2560, 64, 8, 71.18155619596543]\n",
      "Added element [2560, 64, 32, 84.43804034582134]\n",
      "Added element [2560, 64, 128, 85.30259365994236]\n",
      "Added element [2560, 64, 512, 84.43804034582134]\n",
      "Added element [2560, 256, 2, 10.37463976945245]\n",
      "Added element [2560, 256, 8, 73.77521613832853]\n",
      "Added element [2560, 256, 32, 86.1671469740634]\n",
      "Added element [2560, 256, 128, 84.14985590778097]\n",
      "Added element [2560, 256, 512, 85.5907780979827]\n",
      "[[5, 1, 2, 0.0], [5, 1, 8, 18.73198847262248], [5, 1, 32, 45.53314121037464], [5, 1, 128, 52.1613832853026], [5, 1, 512, 43.22766570605187], [5, 4, 2, 7.204610951008646], [5, 4, 8, 41.210374639769455], [5, 4, 32, 44.668587896253605], [5, 4, 128, 59.94236311239193], [5, 4, 512, 48.99135446685879], [5, 16, 2, 14.121037463976945], [5, 16, 8, 50.14409221902017], [5, 16, 32, 63.112391930835734], [5, 16, 128, 64.55331412103746], [5, 16, 512, 53.02593659942363], [5, 64, 2, 17.579250720461097], [5, 64, 8, 51.29682997118156], [5, 64, 32, 62.2478386167147], [5, 64, 128, 64.55331412103746], [5, 64, 512, 62.2478386167147], [5, 256, 2, 17.002881844380404], [5, 256, 8, 55.907780979827095], [5, 256, 32, 64.55331412103746], [5, 256, 128, 63.40057636887608], [5, 256, 512, 61.95965417867435], [40, 1, 2, 0.0], [40, 1, 8, 21.613832853025936], [40, 1, 32, 72.04610951008645], [40, 1, 128, 64.26512968299711], [40, 1, 512, 71.75792507204612], [40, 4, 2, 4.610951008645533], [40, 4, 8, 36.59942363112392], [40, 4, 32, 81.84438040345822], [40, 4, 128, 89.04899135446685], [40, 4, 512, 82.9971181556196], [40, 16, 2, 10.086455331412104], [40, 16, 8, 60.80691642651297], [40, 16, 32, 86.45533141210375], [40, 16, 128, 85.5907780979827], [40, 16, 512, 85.01440922190201], [40, 64, 2, 19.020172910662826], [40, 64, 8, 68.87608069164266], [40, 64, 32, 86.45533141210375], [40, 64, 128, 85.87896253602305], [40, 64, 512, 85.5907780979827], [40, 256, 2, 12.968299711815561], [40, 256, 8, 65.99423631123919], [40, 256, 32, 87.03170028818444], [40, 256, 128, 86.74351585014409], [40, 256, 512, 85.87896253602305], [320, 1, 2, 6.628242074927954], [320, 1, 8, 20.7492795389049], [320, 1, 32, 57.636887608069166], [320, 1, 128, 51.008645533141205], [320, 1, 512, 67.72334293948127], [320, 4, 2, 6.628242074927954], [320, 4, 8, 37.46397694524496], [320, 4, 32, 80.97982708933718], [320, 4, 128, 75.79250720461094], [320, 4, 512, 77.80979827089337], [320, 16, 2, 11.527377521613833], [320, 16, 8, 55.907780979827095], [320, 16, 32, 88.47262247838617], [320, 16, 128, 90.48991354466858], [320, 16, 512, 91.93083573487031], [320, 64, 2, 8.645533141210375], [320, 64, 8, 68.29971181556196], [320, 64, 32, 92.507204610951], [320, 64, 128, 91.06628242074927], [320, 64, 512, 92.21902017291066], [320, 256, 2, 13.8328530259366], [320, 256, 8, 68.58789625360231], [320, 256, 32, 92.79538904899135], [320, 256, 128, 92.507204610951], [320, 256, 512, 91.93083573487031], [2560, 1, 2, 0.0], [2560, 1, 8, 45.24495677233429], [2560, 1, 32, 58.501440922190206], [2560, 1, 128, 47.55043227665706], [2560, 1, 512, 61.67146974063401], [2560, 4, 2, 4.034582132564841], [2560, 4, 8, 45.821325648414984], [2560, 4, 32, 73.19884726224784], [2560, 4, 128, 70.02881844380403], [2560, 4, 512, 66.28242074927954], [2560, 16, 2, 19.30835734870317], [2560, 16, 8, 68.58789625360231], [2560, 16, 32, 81.84438040345822], [2560, 16, 128, 84.14985590778097], [2560, 16, 512, 80.97982708933718], [2560, 64, 2, 14.697406340057636], [2560, 64, 8, 71.18155619596543], [2560, 64, 32, 84.43804034582134], [2560, 64, 128, 85.30259365994236], [2560, 64, 512, 84.43804034582134], [2560, 256, 2, 10.37463976945245], [2560, 256, 8, 73.77521613832853], [2560, 256, 32, 86.1671469740634], [2560, 256, 128, 84.14985590778097], [2560, 256, 512, 85.5907780979827]]\n",
      "Time spent here: 7.7170175313949585 minutes\n"
     ]
    }
   ],
   "source": [
    "import time\n",
    "\n",
    "start_time = time.time()\n",
    "#accuracies = [] # a 2d-list. One line is a list with 5 values: t, n_estimators, max_depth, accuracy and training time.\n",
    "accuracies = [] # a 2d-list. One line is a list with 4 values: t, n_estimators, max_depth, and accuracy\n",
    "etvt = ExtractTrainValidateTest()\n",
    "for t in t_list:\n",
    "    etvt.extract_and_process_df(t, training_file, validation_file)\n",
    "    for n_estimators in n_estimators_list:\n",
    "        for max_depth in max_depth_list:\n",
    "            etvt.init_tnv(n_estimators, max_depth)\n",
    "            #training_time = etvt.train()\n",
    "            etvt.train()\n",
    "            acc = etvt.validate()\n",
    "            #accuracies.append([t, n_estimators, max_depth, accuracy, training_time])\n",
    "            accuracies.append([t, n_estimators, max_depth, acc])\n",
    "            print(\"Added element\", [t, n_estimators, max_depth, acc])\n",
    "print(accuracies)\n",
    "print(\"Time spent here:\", (time.time()-start_time)/60 , \"minutes\")"
   ]
  },
  {
   "cell_type": "markdown",
   "metadata": {},
   "source": [
    "# Displaying the tuples [t, n_estimators, max_depth, accuracy] with best accuraries"
   ]
  },
  {
   "cell_type": "code",
   "execution_count": 12,
   "metadata": {},
   "outputs": [
    {
     "name": "stdout",
     "output_type": "stream",
     "text": [
      "The elements containing the best configurations:\n"
     ]
    },
    {
     "data": {
      "text/html": [
       "<div>\n",
       "<style scoped>\n",
       "    .dataframe tbody tr th:only-of-type {\n",
       "        vertical-align: middle;\n",
       "    }\n",
       "\n",
       "    .dataframe tbody tr th {\n",
       "        vertical-align: top;\n",
       "    }\n",
       "\n",
       "    .dataframe thead th {\n",
       "        text-align: right;\n",
       "    }\n",
       "</style>\n",
       "<table border=\"1\" class=\"dataframe\">\n",
       "  <thead>\n",
       "    <tr style=\"text-align: right;\">\n",
       "      <th></th>\n",
       "      <th>t limit</th>\n",
       "      <th>n_estimators</th>\n",
       "      <th>max_depth</th>\n",
       "      <th>accuracy</th>\n",
       "    </tr>\n",
       "  </thead>\n",
       "  <tbody>\n",
       "    <tr>\n",
       "      <th>72</th>\n",
       "      <td>320</td>\n",
       "      <td>256</td>\n",
       "      <td>32</td>\n",
       "      <td>92.795389</td>\n",
       "    </tr>\n",
       "    <tr>\n",
       "      <th>73</th>\n",
       "      <td>320</td>\n",
       "      <td>256</td>\n",
       "      <td>128</td>\n",
       "      <td>92.507205</td>\n",
       "    </tr>\n",
       "    <tr>\n",
       "      <th>67</th>\n",
       "      <td>320</td>\n",
       "      <td>64</td>\n",
       "      <td>32</td>\n",
       "      <td>92.507205</td>\n",
       "    </tr>\n",
       "    <tr>\n",
       "      <th>69</th>\n",
       "      <td>320</td>\n",
       "      <td>64</td>\n",
       "      <td>512</td>\n",
       "      <td>92.219020</td>\n",
       "    </tr>\n",
       "    <tr>\n",
       "      <th>64</th>\n",
       "      <td>320</td>\n",
       "      <td>16</td>\n",
       "      <td>512</td>\n",
       "      <td>91.930836</td>\n",
       "    </tr>\n",
       "  </tbody>\n",
       "</table>\n",
       "</div>"
      ],
      "text/plain": [
       "    t limit  n_estimators  max_depth   accuracy\n",
       "72      320           256         32  92.795389\n",
       "73      320           256        128  92.507205\n",
       "67      320            64         32  92.507205\n",
       "69      320            64        512  92.219020\n",
       "64      320            16        512  91.930836"
      ]
     },
     "execution_count": 12,
     "metadata": {},
     "output_type": "execute_result"
    }
   ],
   "source": [
    "df_accuracies = pd.DataFrame(data=accuracies, columns=[\"t limit\", \"n_estimators\", \"max_depth\", \"accuracy\"])\n",
    "df_accuracies.head()\n",
    "\n",
    "# sorting the elements by accuracy value\n",
    "sorted_df_accuracies = df_accuracies.sort_values(\"accuracy\", ascending=False) # sort function is deprecated\n",
    "print(\"The elements containing the best configurations:\")\n",
    "sorted_df_accuracies.head()"
   ]
  },
  {
   "cell_type": "markdown",
   "metadata": {},
   "source": [
    "# Building graphic from the obtained 2d-list"
   ]
  },
  {
   "cell_type": "code",
   "execution_count": 8,
   "metadata": {},
   "outputs": [],
   "source": [
    "#%matplotlib inline\n",
    "from matplotlib import interactive\n",
    "interactive(True)"
   ]
  },
  {
   "cell_type": "code",
   "execution_count": 13,
   "metadata": {},
   "outputs": [
    {
     "data": {
      "image/png": "[encoded data removed]",
      "text/plain": [
       "<Figure size 432x288 with 1 Axes>"
      ]
     },
     "metadata": {},
     "output_type": "display_data"
    }
   ],
   "source": [
    "# inspired from https://stackoverflow.com/questions/14995610/how-to-make-a-4d-plot-with-matplotlib-using-arbitrary-data\n",
    "\n",
    "\n",
    "from mpl_toolkits.mplot3d import Axes3D\n",
    "from matplotlib import cm\n",
    "import matplotlib.pyplot as plt\n",
    "import numpy as np\n",
    "\n",
    "\"\"\"fig = plt.figure()\n",
    "ax = fig.gca(projection='3d')\n",
    "X = accuracies[:,0]\n",
    "Y = accuracies[:,2]\n",
    "X, Y = np.meshgrid(X, Y)\n",
    "Z = accuracies[:,3]\n",
    "N = accuracies[:,1]\n",
    "surf = ax.plot_surface(\n",
    "    X, Y, Z, rstride=1, cstride=1,\n",
    "    facecolors=cm.jet(N),\n",
    "    linewidth=0, antialiased=False, shade=False)\n",
    "\"\"\"\n",
    "\n",
    "accuracies = np.array(accuracies)\n",
    "fig = plt.figure()\n",
    "ax = fig.add_subplot(111, projection='3d')\n",
    "x = accuracies[:,0]\n",
    "y = accuracies[:,2]\n",
    "z = accuracies[:,3]\n",
    "c = accuracies[:,1]\n",
    "ax.scatter(x, y, z, c=c, cmap=\"magma\")\n",
    "\n",
    "plt.show()"
   ]
  },
  {
   "cell_type": "markdown",
   "metadata": {},
   "source": [
    "# Draft"
   ]
  },
  {
   "cell_type": "code",
   "execution_count": null,
   "metadata": {},
   "outputs": [],
   "source": []
  },
  {
   "cell_type": "code",
   "execution_count": null,
   "metadata": {},
   "outputs": [],
   "source": []
  }
 ],
 "metadata": {
  "kernelspec": {
   "display_name": "Python 3",
   "language": "python",
   "name": "python3"
  },
  "language_info": {
   "codemirror_mode": {
    "name": "ipython",
    "version": 3
   },
   "file_extension": ".py",
   "mimetype": "text/x-python",
   "name": "python",
   "nbconvert_exporter": "python",
   "pygments_lexer": "ipython3",
   "version": "3.6.5"
  }
 },
 "nbformat": 4,
 "nbformat_minor": 2
}
