{
 "cells": [
  {
   "cell_type": "code",
   "execution_count": 80,
   "metadata": {},
   "outputs": [],
   "source": [
    "import csv\n",
    "import numpy as np # linear algebra\n",
    "import os\n",
    "import pandas as pd # data processing, CSV file I/O (e.g. pd.read_csv)\n",
    "import re\n",
    "\n",
    "from sklearn import tree\n",
    "from sklearn.ensemble import RandomForestClassifier\n",
    "from sklearn.model_selection  import  train_test_split\n",
    "from sklearn.model_selection import cross_val_score\n",
    "from sklearn.decomposition import PCA\n",
    "\n",
    "import matplotlib\n",
    "import matplotlib.pyplot as plt\n",
    "\n",
    "# personal imports\n",
    "import data_extractor\n",
    "from encoder_categorical_numerical import Encoder_Categorical_Numerical\n",
    "import accuracy_extractor"
   ]
  },
  {
   "cell_type": "code",
   "execution_count": 81,
   "metadata": {},
   "outputs": [],
   "source": [
    "validation = False\n",
    "index_beginning_actions = 4\n",
    "upper_limit_seconds = 300\n",
    "lower_limit_seconds = 15\n",
    "\n",
    "training_file = \"./input/TRAIN.CSV\" if not validation else \"./input/minitrain.csv\"\n",
    "validation_file = \"./input/minitest.csv\"\n",
    "#validation_file\n",
    "testing_file = \"./input/TEST.CSV\" if not validation else \"./input/minitest.csv\""
   ]
  },
  {
   "cell_type": "markdown",
   "metadata": {},
   "source": [
    "### Calculer le temps moyen d'une partie"
   ]
  },
  {
   "cell_type": "code",
   "execution_count": 82,
   "metadata": {},
   "outputs": [],
   "source": [
    "def __ceil_to_five__(seconds):\n",
    "    \"\"\"Approximates the number of seconds to the upper multiple of 5.\n",
    "    :param seconds: number of seconds to approximate\n",
    "    :return: approxilated seconds\n",
    "    \"\"\"\n",
    "    modulo = seconds % 5\n",
    "    if modulo == 0:\n",
    "        return seconds\n",
    "    else:\n",
    "        return seconds - modulo + 5"
   ]
  },
  {
   "cell_type": "code",
   "execution_count": 83,
   "metadata": {},
   "outputs": [],
   "source": [
    "def __remove_tX__(row):\n",
    "    \"\"\"Get a new list of words with words of type tX (X a number) removed\n",
    "    :param myrow: a list of words\"\"\"\n",
    "    tX = re.compile(\"t\\d\")\n",
    "    new_row = []\n",
    "    for cell in row:\n",
    "        if tX.match(cell):\n",
    "            pass\n",
    "        else:\n",
    "            new_row.append(cell)\n",
    "    return new_row"
   ]
  },
  {
   "cell_type": "code",
   "execution_count": 84,
   "metadata": {},
   "outputs": [],
   "source": [
    "def __get_maximum_time_match__(row, default_time=0):\n",
    "    \"\"\"Get the approximate time of a match\n",
    "    :param myrow: one match\"\"\"\n",
    "    tX = re.compile(\"t\\d\")\n",
    "    for cell in row[::-1]:\n",
    "        if tX.match(cell):\n",
    "            return int(cell[1:])\n",
    "    return default_time"
   ]
  },
  {
   "cell_type": "code",
   "execution_count": 85,
   "metadata": {},
   "outputs": [
    {
     "data": {
      "text/plain": [
       "150"
      ]
     },
     "execution_count": 85,
     "metadata": {},
     "output_type": "execute_result"
    }
   ],
   "source": [
    "a = [\"t5\", \"a\",\"b\",\"c\", \"t18\",\"a\",\"b\",\"c\", \"t150\", \"a\",\"b\"]\n",
    "__get_maximum_time_match__(a, 0)"
   ]
  },
  {
   "cell_type": "markdown",
   "metadata": {},
   "source": [
    "### Calculer le temps moyen entre deux actions"
   ]
  },
  {
   "cell_type": "code",
   "execution_count": 86,
   "metadata": {},
   "outputs": [],
   "source": [
    "def __get_speed__(row, max_time):\n",
    "    tX = re.compile(\"t\\d\")\n",
    "    nb_actions = len(row)\n",
    "    for cell in row:\n",
    "        if tX.match(cell):\n",
    "            nb_actions = nb_actions-1\n",
    "    return max_time/nb_actions"
   ]
  },
  {
   "cell_type": "code",
   "execution_count": 87,
   "metadata": {},
   "outputs": [
    {
     "data": {
      "text/plain": [
       "18.75"
      ]
     },
     "execution_count": 87,
     "metadata": {},
     "output_type": "execute_result"
    }
   ],
   "source": [
    "a = [\"t5\", \"a\",\"b\",\"c\", \"t18\",\"a\",\"b\",\"c\", \"t150\", \"a\",\"b\"]\n",
    "__get_speed__(a, 150)"
   ]
  },
  {
   "cell_type": "markdown",
   "metadata": {},
   "source": [
    "### Connaître toutes les actions possibles"
   ]
  },
  {
   "cell_type": "code",
   "execution_count": 88,
   "metadata": {},
   "outputs": [],
   "source": [
    "def __recognise_possible_actions__(set_of_actions, row):\n",
    "    for cell in row[index_beginning_actions:]:\n",
    "        set_of_actions.add(cell)\n",
    "    return set_of_actions"
   ]
  },
  {
   "cell_type": "markdown",
   "metadata": {},
   "source": [
    "# Get dataframe"
   ]
  },
  {
   "cell_type": "code",
   "execution_count": 89,
   "metadata": {},
   "outputs": [],
   "source": [
    "def get_dataframe(path_file, training, upper_limit_seconds, lower_limit_seconds):\n",
    "    \"\"\"\n",
    "    :param path_file:\n",
    "    :param training: boolean\n",
    "    :param limit_seconds: int\n",
    "    :return: A DataFrame with columns named id_player, played_race, 0... n, with n the number of kept actions.\n",
    "    \"\"\"\n",
    "    upper_limit_seconds = __ceil_to_five__(upper_limit_seconds)\n",
    "    upper_stop_word = \"t\" + str(upper_limit_seconds)\n",
    "    lower_limit_seconds = __ceil_to_five__(lower_limit_seconds)\n",
    "    lower_stop_word = \"t\" + str(lower_limit_seconds)\n",
    "    \n",
    "    extracted = []\n",
    "    largest_column_count = 0\n",
    "    possible_actions = set()\n",
    "    index_new_feature = 2 if training else 1\n",
    "    lower_column_to_keep = []\n",
    "\n",
    "    # Loop the data lines\n",
    "    with open(path_file) as csvfile:\n",
    "        spamreader = csv.reader(csvfile, delimiter='\\n')\n",
    "        for row in spamreader:\n",
    "            myrow = row[0].split(',')\n",
    "            try:\n",
    "                upper_stop_index = myrow.index(upper_stop_word)\n",
    "            except:\n",
    "                upper_stop_index = -1\n",
    "            try:\n",
    "                lower_stop_index = myrow.index(lower_stop_word)\n",
    "            except:\n",
    "                lower_stop_index = -1\n",
    "            #compute the time of a match and the average speed between two actions\n",
    "            time_match = __get_maximum_time_match__(myrow)\n",
    "            average_speed_match = __get_speed__(myrow, time_match)\n",
    "            #compute the number of columns to keep for ordered actions\n",
    "            lower_column_to_keep.append(len(__remove_tX__(myrow[index_new_feature:lower_stop_index]))-1)\n",
    "            #delete useless tX\n",
    "            myrow = __remove_tX__(myrow[0:upper_stop_index])\n",
    "            #know possible set of actions\n",
    "            possible_actions = __recognise_possible_actions__(possible_actions, myrow)\n",
    "            #compute the average speed between two actions for a specifical time lapse\n",
    "            #average_speed_limited_time = __get_speed__(myrow, limit_seconds)\n",
    "            #insert time_match and average_speed_match as features\n",
    "            myrow.insert(index_new_feature, time_match)\n",
    "            myrow.insert(index_new_feature+1, average_speed_match)         \n",
    "            #myrow.insert(index_time_match+2, average_speed_limited_time)\n",
    "            #count the number of columns\n",
    "            largest_column_count = max(len(myrow), largest_column_count)\n",
    "            extracted.append(myrow)\n",
    "    column_names = []\n",
    "    if training:\n",
    "        column_names = [\"id_player\", \"played_race\", \"time_match\", \"average_speed_match\"] + [(str(i)+\"th_action\") for i in range(0, largest_column_count - index_beginning_actions)]\n",
    "    else:\n",
    "        column_names = [\"played_race\", \"time_match\", \"average_speed_match\"] + [(str(i)+\"th_action\") for i in range(0, largest_column_count - index_beginning_actions+1)]\n",
    "    return pd.DataFrame(extracted, columns = column_names), possible_actions, lower_column_to_keep"
   ]
  },
  {
   "cell_type": "code",
   "execution_count": 90,
   "metadata": {},
   "outputs": [],
   "source": [
    "df_training, possible_actions_training, lower_column_to_keep_training = get_dataframe(training_file, training=True, upper_limit_seconds=upper_limit_seconds, lower_limit_seconds=lower_limit_seconds)\n",
    "#df_testing, possible_actions_testing, lower_column_to_keep_testing = get_dataframe(testing_file, training=validation, upper_limit_seconds=upper_limit_seconds, lower_limit_seconds=lower_limit_seconds)\n",
    "#possible_actions = list(possible_actions_training.union(possible_actions_testing))\n",
    "possible_actions = possible_actions_training\n",
    "#index to deleted ordered actions after t\n",
    "index_column_to_delete = max(lower_column_to_keep_training)+index_beginning_actions+1\n",
    "#index_column_to_delete = max((max(lower_column_to_keep_training)+index_beginning_actions), (max(lower_column_to_keep_testing)+index_beginning_actions-1))+1"
   ]
  },
  {
   "cell_type": "code",
   "execution_count": 91,
   "metadata": {},
   "outputs": [
    {
     "data": {
      "text/plain": [
       "114"
      ]
     },
     "execution_count": 91,
     "metadata": {},
     "output_type": "execute_result"
    }
   ],
   "source": [
    "index_column_to_delete"
   ]
  },
  {
   "cell_type": "code",
   "execution_count": 92,
   "metadata": {},
   "outputs": [
    {
     "data": {
      "text/html": [
       "<div>\n",
       "<style scoped>\n",
       "    .dataframe tbody tr th:only-of-type {\n",
       "        vertical-align: middle;\n",
       "    }\n",
       "\n",
       "    .dataframe tbody tr th {\n",
       "        vertical-align: top;\n",
       "    }\n",
       "\n",
       "    .dataframe thead th {\n",
       "        text-align: right;\n",
       "    }\n",
       "</style>\n",
       "<table border=\"1\" class=\"dataframe\">\n",
       "  <thead>\n",
       "    <tr style=\"text-align: right;\">\n",
       "      <th></th>\n",
       "      <th>id_player</th>\n",
       "      <th>played_race</th>\n",
       "      <th>time_match</th>\n",
       "      <th>average_speed_match</th>\n",
       "      <th>0th_action</th>\n",
       "      <th>1th_action</th>\n",
       "      <th>2th_action</th>\n",
       "      <th>3th_action</th>\n",
       "      <th>4th_action</th>\n",
       "      <th>5th_action</th>\n",
       "      <th>...</th>\n",
       "      <th>1786th_action</th>\n",
       "      <th>1787th_action</th>\n",
       "      <th>1788th_action</th>\n",
       "      <th>1789th_action</th>\n",
       "      <th>1790th_action</th>\n",
       "      <th>1791th_action</th>\n",
       "      <th>1792th_action</th>\n",
       "      <th>1793th_action</th>\n",
       "      <th>1794th_action</th>\n",
       "      <th>1795th_action</th>\n",
       "    </tr>\n",
       "  </thead>\n",
       "  <tbody>\n",
       "    <tr>\n",
       "      <th>0</th>\n",
       "      <td>http://eu.battle.net/sc2/en/profile/4234852/1/...</td>\n",
       "      <td>Protoss</td>\n",
       "      <td>1655.0</td>\n",
       "      <td>0.740824</td>\n",
       "      <td>Base</td>\n",
       "      <td>s</td>\n",
       "      <td>s</td>\n",
       "      <td>s</td>\n",
       "      <td>s</td>\n",
       "      <td>s</td>\n",
       "      <td>...</td>\n",
       "      <td>None</td>\n",
       "      <td>None</td>\n",
       "      <td>None</td>\n",
       "      <td>None</td>\n",
       "      <td>None</td>\n",
       "      <td>None</td>\n",
       "      <td>None</td>\n",
       "      <td>None</td>\n",
       "      <td>None</td>\n",
       "      <td>None</td>\n",
       "    </tr>\n",
       "    <tr>\n",
       "      <th>1</th>\n",
       "      <td>http://eu.battle.net/sc2/en/profile/3074362/1/...</td>\n",
       "      <td>Protoss</td>\n",
       "      <td>1655.0</td>\n",
       "      <td>0.796056</td>\n",
       "      <td>s</td>\n",
       "      <td>Base</td>\n",
       "      <td>s</td>\n",
       "      <td>s</td>\n",
       "      <td>Base</td>\n",
       "      <td>s</td>\n",
       "      <td>...</td>\n",
       "      <td>None</td>\n",
       "      <td>None</td>\n",
       "      <td>None</td>\n",
       "      <td>None</td>\n",
       "      <td>None</td>\n",
       "      <td>None</td>\n",
       "      <td>None</td>\n",
       "      <td>None</td>\n",
       "      <td>None</td>\n",
       "      <td>None</td>\n",
       "    </tr>\n",
       "    <tr>\n",
       "      <th>2</th>\n",
       "      <td>http://eu.battle.net/sc2/en/profile/4234852/1/...</td>\n",
       "      <td>Protoss</td>\n",
       "      <td>1010.0</td>\n",
       "      <td>0.748148</td>\n",
       "      <td>Base</td>\n",
       "      <td>s</td>\n",
       "      <td>s</td>\n",
       "      <td>s</td>\n",
       "      <td>Base</td>\n",
       "      <td>s</td>\n",
       "      <td>...</td>\n",
       "      <td>None</td>\n",
       "      <td>None</td>\n",
       "      <td>None</td>\n",
       "      <td>None</td>\n",
       "      <td>None</td>\n",
       "      <td>None</td>\n",
       "      <td>None</td>\n",
       "      <td>None</td>\n",
       "      <td>None</td>\n",
       "      <td>None</td>\n",
       "    </tr>\n",
       "    <tr>\n",
       "      <th>3</th>\n",
       "      <td>http://eu.battle.net/sc2/en/profile/3074362/1/...</td>\n",
       "      <td>Protoss</td>\n",
       "      <td>1005.0</td>\n",
       "      <td>0.723022</td>\n",
       "      <td>Base</td>\n",
       "      <td>s</td>\n",
       "      <td>s</td>\n",
       "      <td>Base</td>\n",
       "      <td>s</td>\n",
       "      <td>s</td>\n",
       "      <td>...</td>\n",
       "      <td>None</td>\n",
       "      <td>None</td>\n",
       "      <td>None</td>\n",
       "      <td>None</td>\n",
       "      <td>None</td>\n",
       "      <td>None</td>\n",
       "      <td>None</td>\n",
       "      <td>None</td>\n",
       "      <td>None</td>\n",
       "      <td>None</td>\n",
       "    </tr>\n",
       "    <tr>\n",
       "      <th>4</th>\n",
       "      <td>http://eu.battle.net/sc2/en/profile/4234852/1/...</td>\n",
       "      <td>Protoss</td>\n",
       "      <td>540.0</td>\n",
       "      <td>0.869565</td>\n",
       "      <td>Base</td>\n",
       "      <td>s</td>\n",
       "      <td>s</td>\n",
       "      <td>s</td>\n",
       "      <td>Base</td>\n",
       "      <td>s</td>\n",
       "      <td>...</td>\n",
       "      <td>None</td>\n",
       "      <td>None</td>\n",
       "      <td>None</td>\n",
       "      <td>None</td>\n",
       "      <td>None</td>\n",
       "      <td>None</td>\n",
       "      <td>None</td>\n",
       "      <td>None</td>\n",
       "      <td>None</td>\n",
       "      <td>None</td>\n",
       "    </tr>\n",
       "  </tbody>\n",
       "</table>\n",
       "<p>5 rows × 1800 columns</p>\n",
       "</div>"
      ],
      "text/plain": [
       "                                           id_player played_race  time_match  \\\n",
       "0  http://eu.battle.net/sc2/en/profile/4234852/1/...     Protoss      1655.0   \n",
       "1  http://eu.battle.net/sc2/en/profile/3074362/1/...     Protoss      1655.0   \n",
       "2  http://eu.battle.net/sc2/en/profile/4234852/1/...     Protoss      1010.0   \n",
       "3  http://eu.battle.net/sc2/en/profile/3074362/1/...     Protoss      1005.0   \n",
       "4  http://eu.battle.net/sc2/en/profile/4234852/1/...     Protoss       540.0   \n",
       "\n",
       "   average_speed_match 0th_action 1th_action 2th_action 3th_action 4th_action  \\\n",
       "0             0.740824       Base          s          s          s          s   \n",
       "1             0.796056          s       Base          s          s       Base   \n",
       "2             0.748148       Base          s          s          s       Base   \n",
       "3             0.723022       Base          s          s       Base          s   \n",
       "4             0.869565       Base          s          s          s       Base   \n",
       "\n",
       "  5th_action      ...      1786th_action 1787th_action 1788th_action  \\\n",
       "0          s      ...               None          None          None   \n",
       "1          s      ...               None          None          None   \n",
       "2          s      ...               None          None          None   \n",
       "3          s      ...               None          None          None   \n",
       "4          s      ...               None          None          None   \n",
       "\n",
       "  1789th_action 1790th_action 1791th_action 1792th_action 1793th_action  \\\n",
       "0          None          None          None          None          None   \n",
       "1          None          None          None          None          None   \n",
       "2          None          None          None          None          None   \n",
       "3          None          None          None          None          None   \n",
       "4          None          None          None          None          None   \n",
       "\n",
       "  1794th_action 1795th_action  \n",
       "0          None          None  \n",
       "1          None          None  \n",
       "2          None          None  \n",
       "3          None          None  \n",
       "4          None          None  \n",
       "\n",
       "[5 rows x 1800 columns]"
      ]
     },
     "execution_count": 92,
     "metadata": {},
     "output_type": "execute_result"
    }
   ],
   "source": [
    "df_training.head()\n",
    "#df_testing.head()"
   ]
  },
  {
   "cell_type": "markdown",
   "metadata": {},
   "source": [
    "## NOT TO DO: Aligner le nombre de colonnes pour training and testing datasets"
   ]
  },
  {
   "cell_type": "code",
   "execution_count": null,
   "metadata": {},
   "outputs": [],
   "source": [
    "columns_to_add = (set(df_training.columns) - set(df_testing.columns))-set([\"id_player\"])\n",
    "for column in columns_to_add: \n",
    "    df_testing[column] = np.nan\n",
    "if validation:\n",
    "    training_columns_l = len(df_training.columns)-1\n",
    "    testing_columns_l = len(df_testing.columns)\n",
    "    if testing_columns_l>training_columns_l:\n",
    "        columns_to_add = (set(df_testing.columns) - set(df_training.columns))-set([\"id_player\"])\n",
    "        for column in columns_to_add: \n",
    "            df_training[column] = np.nan"
   ]
  },
  {
   "cell_type": "markdown",
   "metadata": {},
   "source": [
    "## Last index for ordered_actions"
   ]
  },
  {
   "cell_type": "code",
   "execution_count": 93,
   "metadata": {},
   "outputs": [],
   "source": [
    "index_end_actions = len(df_training.columns)"
   ]
  },
  {
   "cell_type": "code",
   "execution_count": 94,
   "metadata": {},
   "outputs": [
    {
     "data": {
      "text/plain": [
       "1800"
      ]
     },
     "execution_count": 94,
     "metadata": {},
     "output_type": "execute_result"
    }
   ],
   "source": [
    "index_end_actions"
   ]
  },
  {
   "cell_type": "markdown",
   "metadata": {},
   "source": [
    "## Calculer l'occurence de chaque action pendant une durée donnée"
   ]
  },
  {
   "cell_type": "code",
   "execution_count": 95,
   "metadata": {},
   "outputs": [],
   "source": [
    "def __row_of_occurence_actions__(actions, counts, list_of_all_actions):\n",
    "    dict_of_occurence = {action: 0 for action in list_of_all_actions}\n",
    "    for action, count in zip(actions, counts):\n",
    "        dict_of_occurence[action] = count   \n",
    "    return [int(dict_of_occurence[action]) for action in list_of_all_actions]\n",
    "        \n",
    "def __compute_occurence_actions__(df, list_of_all_actions, training=True):\n",
    "    df_occurence_actions = pd.DataFrame(0, index=df.index, columns=list_of_all_actions, dtype=int)\n",
    "    for index, row in df.iterrows():\n",
    "        column_index_start = index_beginning_actions if training else index_beginning_actions-1\n",
    "        row_to_examine = df.iloc[index,column_index_start:]\n",
    "        actions, counts = np.unique(row_to_examine.dropna().values, return_counts=True)\n",
    "        df_occurence_actions.iloc[index,] = __row_of_occurence_actions__(actions, counts, list_of_all_actions)\n",
    "    return df.join(df_occurence_actions)"
   ]
  },
  {
   "cell_type": "code",
   "execution_count": 96,
   "metadata": {},
   "outputs": [],
   "source": [
    "df_training = __compute_occurence_actions__(df_training, possible_actions)\n",
    "#df_testing = __compute_occurence_actions__(df_testing, possible_actions, validation)"
   ]
  },
  {
   "cell_type": "code",
   "execution_count": 97,
   "metadata": {},
   "outputs": [
    {
     "data": {
      "text/html": [
       "<div>\n",
       "<style scoped>\n",
       "    .dataframe tbody tr th:only-of-type {\n",
       "        vertical-align: middle;\n",
       "    }\n",
       "\n",
       "    .dataframe tbody tr th {\n",
       "        vertical-align: top;\n",
       "    }\n",
       "\n",
       "    .dataframe thead th {\n",
       "        text-align: right;\n",
       "    }\n",
       "</style>\n",
       "<table border=\"1\" class=\"dataframe\">\n",
       "  <thead>\n",
       "    <tr style=\"text-align: right;\">\n",
       "      <th></th>\n",
       "      <th>id_player</th>\n",
       "      <th>played_race</th>\n",
       "      <th>time_match</th>\n",
       "      <th>average_speed_match</th>\n",
       "      <th>0th_action</th>\n",
       "      <th>1th_action</th>\n",
       "      <th>2th_action</th>\n",
       "      <th>3th_action</th>\n",
       "      <th>4th_action</th>\n",
       "      <th>5th_action</th>\n",
       "      <th>...</th>\n",
       "      <th>hotkey41</th>\n",
       "      <th>hotkey91</th>\n",
       "      <th>hotkey30</th>\n",
       "      <th>s</th>\n",
       "      <th>hotkey40</th>\n",
       "      <th>Base</th>\n",
       "      <th>hotkey62</th>\n",
       "      <th>hotkey71</th>\n",
       "      <th>SingleMineral</th>\n",
       "      <th>hotkey11</th>\n",
       "    </tr>\n",
       "  </thead>\n",
       "  <tbody>\n",
       "    <tr>\n",
       "      <th>0</th>\n",
       "      <td>http://eu.battle.net/sc2/en/profile/4234852/1/...</td>\n",
       "      <td>Protoss</td>\n",
       "      <td>1655.0</td>\n",
       "      <td>0.740824</td>\n",
       "      <td>Base</td>\n",
       "      <td>s</td>\n",
       "      <td>s</td>\n",
       "      <td>s</td>\n",
       "      <td>s</td>\n",
       "      <td>s</td>\n",
       "      <td>...</td>\n",
       "      <td>0</td>\n",
       "      <td>0</td>\n",
       "      <td>1</td>\n",
       "      <td>127</td>\n",
       "      <td>1</td>\n",
       "      <td>3</td>\n",
       "      <td>0</td>\n",
       "      <td>0</td>\n",
       "      <td>4</td>\n",
       "      <td>0</td>\n",
       "    </tr>\n",
       "    <tr>\n",
       "      <th>1</th>\n",
       "      <td>http://eu.battle.net/sc2/en/profile/3074362/1/...</td>\n",
       "      <td>Protoss</td>\n",
       "      <td>1655.0</td>\n",
       "      <td>0.796056</td>\n",
       "      <td>s</td>\n",
       "      <td>Base</td>\n",
       "      <td>s</td>\n",
       "      <td>s</td>\n",
       "      <td>Base</td>\n",
       "      <td>s</td>\n",
       "      <td>...</td>\n",
       "      <td>0</td>\n",
       "      <td>0</td>\n",
       "      <td>2</td>\n",
       "      <td>139</td>\n",
       "      <td>1</td>\n",
       "      <td>4</td>\n",
       "      <td>0</td>\n",
       "      <td>0</td>\n",
       "      <td>0</td>\n",
       "      <td>0</td>\n",
       "    </tr>\n",
       "    <tr>\n",
       "      <th>2</th>\n",
       "      <td>http://eu.battle.net/sc2/en/profile/4234852/1/...</td>\n",
       "      <td>Protoss</td>\n",
       "      <td>1010.0</td>\n",
       "      <td>0.748148</td>\n",
       "      <td>Base</td>\n",
       "      <td>s</td>\n",
       "      <td>s</td>\n",
       "      <td>s</td>\n",
       "      <td>Base</td>\n",
       "      <td>s</td>\n",
       "      <td>...</td>\n",
       "      <td>0</td>\n",
       "      <td>0</td>\n",
       "      <td>1</td>\n",
       "      <td>158</td>\n",
       "      <td>3</td>\n",
       "      <td>2</td>\n",
       "      <td>0</td>\n",
       "      <td>0</td>\n",
       "      <td>2</td>\n",
       "      <td>0</td>\n",
       "    </tr>\n",
       "    <tr>\n",
       "      <th>3</th>\n",
       "      <td>http://eu.battle.net/sc2/en/profile/3074362/1/...</td>\n",
       "      <td>Protoss</td>\n",
       "      <td>1005.0</td>\n",
       "      <td>0.723022</td>\n",
       "      <td>Base</td>\n",
       "      <td>s</td>\n",
       "      <td>s</td>\n",
       "      <td>Base</td>\n",
       "      <td>s</td>\n",
       "      <td>s</td>\n",
       "      <td>...</td>\n",
       "      <td>0</td>\n",
       "      <td>0</td>\n",
       "      <td>3</td>\n",
       "      <td>121</td>\n",
       "      <td>1</td>\n",
       "      <td>4</td>\n",
       "      <td>0</td>\n",
       "      <td>0</td>\n",
       "      <td>0</td>\n",
       "      <td>0</td>\n",
       "    </tr>\n",
       "    <tr>\n",
       "      <th>4</th>\n",
       "      <td>http://eu.battle.net/sc2/en/profile/4234852/1/...</td>\n",
       "      <td>Protoss</td>\n",
       "      <td>540.0</td>\n",
       "      <td>0.869565</td>\n",
       "      <td>Base</td>\n",
       "      <td>s</td>\n",
       "      <td>s</td>\n",
       "      <td>s</td>\n",
       "      <td>Base</td>\n",
       "      <td>s</td>\n",
       "      <td>...</td>\n",
       "      <td>0</td>\n",
       "      <td>0</td>\n",
       "      <td>1</td>\n",
       "      <td>138</td>\n",
       "      <td>1</td>\n",
       "      <td>2</td>\n",
       "      <td>0</td>\n",
       "      <td>0</td>\n",
       "      <td>0</td>\n",
       "      <td>0</td>\n",
       "    </tr>\n",
       "  </tbody>\n",
       "</table>\n",
       "<p>5 rows × 1833 columns</p>\n",
       "</div>"
      ],
      "text/plain": [
       "                                           id_player played_race  time_match  \\\n",
       "0  http://eu.battle.net/sc2/en/profile/4234852/1/...     Protoss      1655.0   \n",
       "1  http://eu.battle.net/sc2/en/profile/3074362/1/...     Protoss      1655.0   \n",
       "2  http://eu.battle.net/sc2/en/profile/4234852/1/...     Protoss      1010.0   \n",
       "3  http://eu.battle.net/sc2/en/profile/3074362/1/...     Protoss      1005.0   \n",
       "4  http://eu.battle.net/sc2/en/profile/4234852/1/...     Protoss       540.0   \n",
       "\n",
       "   average_speed_match 0th_action 1th_action 2th_action 3th_action 4th_action  \\\n",
       "0             0.740824       Base          s          s          s          s   \n",
       "1             0.796056          s       Base          s          s       Base   \n",
       "2             0.748148       Base          s          s          s       Base   \n",
       "3             0.723022       Base          s          s       Base          s   \n",
       "4             0.869565       Base          s          s          s       Base   \n",
       "\n",
       "  5th_action   ...    hotkey41 hotkey91 hotkey30    s hotkey40 Base hotkey62  \\\n",
       "0          s   ...           0        0        1  127        1    3        0   \n",
       "1          s   ...           0        0        2  139        1    4        0   \n",
       "2          s   ...           0        0        1  158        3    2        0   \n",
       "3          s   ...           0        0        3  121        1    4        0   \n",
       "4          s   ...           0        0        1  138        1    2        0   \n",
       "\n",
       "  hotkey71 SingleMineral hotkey11  \n",
       "0        0             4        0  \n",
       "1        0             0        0  \n",
       "2        0             2        0  \n",
       "3        0             0        0  \n",
       "4        0             0        0  \n",
       "\n",
       "[5 rows x 1833 columns]"
      ]
     },
     "execution_count": 97,
     "metadata": {},
     "output_type": "execute_result"
    }
   ],
   "source": [
    "df_training.head()"
   ]
  },
  {
   "cell_type": "markdown",
   "metadata": {},
   "source": [
    "## Delete colums to have lower ordered actions"
   ]
  },
  {
   "cell_type": "code",
   "execution_count": 98,
   "metadata": {},
   "outputs": [],
   "source": [
    "def __delete_columns_for_lower_limit__(df, begin_index, end_index):\n",
    "    columns_to_delete = list(df.columns[begin_index:end_index])\n",
    "    return df.drop(columns_to_delete, axis=1)"
   ]
  },
  {
   "cell_type": "markdown",
   "metadata": {},
   "source": [
    "#### if we want to delete everything as ordonnancy of actions?"
   ]
  },
  {
   "cell_type": "code",
   "execution_count": 99,
   "metadata": {},
   "outputs": [],
   "source": [
    "df_training = __delete_columns_for_lower_limit__(df_training, index_column_to_delete, index_end_actions)\n",
    "#df_testing = __delete_columns_for_lower_limit__(df_testing, index_column_to_delete, index_end_actions)\n",
    "index_end_actions = index_column_to_delete"
   ]
  },
  {
   "cell_type": "markdown",
   "metadata": {},
   "source": [
    "## Encode values"
   ]
  },
  {
   "cell_type": "code",
   "execution_count": 100,
   "metadata": {},
   "outputs": [],
   "source": [
    "#Encodage\n",
    "encoder = Encoder_Categorical_Numerical(df_training, index_beginning_actions, index_end_actions)\n",
    "df_encoded_training = encoder.encode_df(df_training)\n",
    "#df_encoded_testing = encoder.encode_df(df_testing, validation)"
   ]
  },
  {
   "cell_type": "code",
   "execution_count": 101,
   "metadata": {},
   "outputs": [
    {
     "data": {
      "text/html": [
       "<div>\n",
       "<style scoped>\n",
       "    .dataframe tbody tr th:only-of-type {\n",
       "        vertical-align: middle;\n",
       "    }\n",
       "\n",
       "    .dataframe tbody tr th {\n",
       "        vertical-align: top;\n",
       "    }\n",
       "\n",
       "    .dataframe thead th {\n",
       "        text-align: right;\n",
       "    }\n",
       "</style>\n",
       "<table border=\"1\" class=\"dataframe\">\n",
       "  <thead>\n",
       "    <tr style=\"text-align: right;\">\n",
       "      <th></th>\n",
       "      <th>id_player</th>\n",
       "      <th>played_race</th>\n",
       "      <th>time_match</th>\n",
       "      <th>average_speed_match</th>\n",
       "      <th>0th_action</th>\n",
       "      <th>1th_action</th>\n",
       "      <th>2th_action</th>\n",
       "      <th>3th_action</th>\n",
       "      <th>4th_action</th>\n",
       "      <th>5th_action</th>\n",
       "      <th>...</th>\n",
       "      <th>hotkey41</th>\n",
       "      <th>hotkey91</th>\n",
       "      <th>hotkey30</th>\n",
       "      <th>s</th>\n",
       "      <th>hotkey40</th>\n",
       "      <th>Base</th>\n",
       "      <th>hotkey62</th>\n",
       "      <th>hotkey71</th>\n",
       "      <th>SingleMineral</th>\n",
       "      <th>hotkey11</th>\n",
       "    </tr>\n",
       "  </thead>\n",
       "  <tbody>\n",
       "    <tr>\n",
       "      <th>0</th>\n",
       "      <td>0</td>\n",
       "      <td>3</td>\n",
       "      <td>1655.0</td>\n",
       "      <td>0.740824</td>\n",
       "      <td>28.0</td>\n",
       "      <td>26.0</td>\n",
       "      <td>26.0</td>\n",
       "      <td>26.0</td>\n",
       "      <td>26.0</td>\n",
       "      <td>26.0</td>\n",
       "      <td>...</td>\n",
       "      <td>0</td>\n",
       "      <td>0</td>\n",
       "      <td>1</td>\n",
       "      <td>127</td>\n",
       "      <td>1</td>\n",
       "      <td>3</td>\n",
       "      <td>0</td>\n",
       "      <td>0</td>\n",
       "      <td>4</td>\n",
       "      <td>0</td>\n",
       "    </tr>\n",
       "    <tr>\n",
       "      <th>1</th>\n",
       "      <td>1</td>\n",
       "      <td>3</td>\n",
       "      <td>1655.0</td>\n",
       "      <td>0.796056</td>\n",
       "      <td>26.0</td>\n",
       "      <td>28.0</td>\n",
       "      <td>26.0</td>\n",
       "      <td>26.0</td>\n",
       "      <td>28.0</td>\n",
       "      <td>26.0</td>\n",
       "      <td>...</td>\n",
       "      <td>0</td>\n",
       "      <td>0</td>\n",
       "      <td>2</td>\n",
       "      <td>139</td>\n",
       "      <td>1</td>\n",
       "      <td>4</td>\n",
       "      <td>0</td>\n",
       "      <td>0</td>\n",
       "      <td>0</td>\n",
       "      <td>0</td>\n",
       "    </tr>\n",
       "    <tr>\n",
       "      <th>2</th>\n",
       "      <td>0</td>\n",
       "      <td>3</td>\n",
       "      <td>1010.0</td>\n",
       "      <td>0.748148</td>\n",
       "      <td>28.0</td>\n",
       "      <td>26.0</td>\n",
       "      <td>26.0</td>\n",
       "      <td>26.0</td>\n",
       "      <td>28.0</td>\n",
       "      <td>26.0</td>\n",
       "      <td>...</td>\n",
       "      <td>0</td>\n",
       "      <td>0</td>\n",
       "      <td>1</td>\n",
       "      <td>158</td>\n",
       "      <td>3</td>\n",
       "      <td>2</td>\n",
       "      <td>0</td>\n",
       "      <td>0</td>\n",
       "      <td>2</td>\n",
       "      <td>0</td>\n",
       "    </tr>\n",
       "    <tr>\n",
       "      <th>3</th>\n",
       "      <td>1</td>\n",
       "      <td>3</td>\n",
       "      <td>1005.0</td>\n",
       "      <td>0.723022</td>\n",
       "      <td>28.0</td>\n",
       "      <td>26.0</td>\n",
       "      <td>26.0</td>\n",
       "      <td>28.0</td>\n",
       "      <td>26.0</td>\n",
       "      <td>26.0</td>\n",
       "      <td>...</td>\n",
       "      <td>0</td>\n",
       "      <td>0</td>\n",
       "      <td>3</td>\n",
       "      <td>121</td>\n",
       "      <td>1</td>\n",
       "      <td>4</td>\n",
       "      <td>0</td>\n",
       "      <td>0</td>\n",
       "      <td>0</td>\n",
       "      <td>0</td>\n",
       "    </tr>\n",
       "    <tr>\n",
       "      <th>4</th>\n",
       "      <td>0</td>\n",
       "      <td>3</td>\n",
       "      <td>540.0</td>\n",
       "      <td>0.869565</td>\n",
       "      <td>28.0</td>\n",
       "      <td>26.0</td>\n",
       "      <td>26.0</td>\n",
       "      <td>26.0</td>\n",
       "      <td>28.0</td>\n",
       "      <td>26.0</td>\n",
       "      <td>...</td>\n",
       "      <td>0</td>\n",
       "      <td>0</td>\n",
       "      <td>1</td>\n",
       "      <td>138</td>\n",
       "      <td>1</td>\n",
       "      <td>2</td>\n",
       "      <td>0</td>\n",
       "      <td>0</td>\n",
       "      <td>0</td>\n",
       "      <td>0</td>\n",
       "    </tr>\n",
       "  </tbody>\n",
       "</table>\n",
       "<p>5 rows × 147 columns</p>\n",
       "</div>"
      ],
      "text/plain": [
       "   id_player  played_race  time_match  average_speed_match  0th_action  \\\n",
       "0          0            3      1655.0             0.740824        28.0   \n",
       "1          1            3      1655.0             0.796056        26.0   \n",
       "2          0            3      1010.0             0.748148        28.0   \n",
       "3          1            3      1005.0             0.723022        28.0   \n",
       "4          0            3       540.0             0.869565        28.0   \n",
       "\n",
       "   1th_action  2th_action  3th_action  4th_action  5th_action    ...     \\\n",
       "0        26.0        26.0        26.0        26.0        26.0    ...      \n",
       "1        28.0        26.0        26.0        28.0        26.0    ...      \n",
       "2        26.0        26.0        26.0        28.0        26.0    ...      \n",
       "3        26.0        26.0        28.0        26.0        26.0    ...      \n",
       "4        26.0        26.0        26.0        28.0        26.0    ...      \n",
       "\n",
       "   hotkey41  hotkey91  hotkey30    s  hotkey40  Base  hotkey62  hotkey71  \\\n",
       "0         0         0         1  127         1     3         0         0   \n",
       "1         0         0         2  139         1     4         0         0   \n",
       "2         0         0         1  158         3     2         0         0   \n",
       "3         0         0         3  121         1     4         0         0   \n",
       "4         0         0         1  138         1     2         0         0   \n",
       "\n",
       "   SingleMineral  hotkey11  \n",
       "0              4         0  \n",
       "1              0         0  \n",
       "2              2         0  \n",
       "3              0         0  \n",
       "4              0         0  \n",
       "\n",
       "[5 rows x 147 columns]"
      ]
     },
     "execution_count": 101,
     "metadata": {},
     "output_type": "execute_result"
    }
   ],
   "source": [
    "df_encoded_training.head()\n",
    "#df_encoded_testing.head()"
   ]
  },
  {
   "cell_type": "markdown",
   "metadata": {},
   "source": [
    "### For ordered actions, fill with -1 after lower time limit"
   ]
  },
  {
   "cell_type": "code",
   "execution_count": 102,
   "metadata": {},
   "outputs": [],
   "source": [
    "df_encoded_training = df_encoded_training.fillna(-1)\n",
    "#df_encoded_testing = df_encoded_testing.fillna(-1)"
   ]
  },
  {
   "cell_type": "code",
   "execution_count": 103,
   "metadata": {},
   "outputs": [],
   "source": [
    "def __remove_values_to_agree_lower_limit__(df, training, lower_limit_colums, end_index):\n",
    "    for index_row, begin_index_column in enumerate(lower_limit_colums):\n",
    "        begin_index_column = begin_index_column + index_beginning_actions\n",
    "        if training:\n",
    "            begin_index_column += 1\n",
    "        df.iloc[index_row, begin_index_column:end_index] = -1\n",
    "    return df"
   ]
  },
  {
   "cell_type": "code",
   "execution_count": 104,
   "metadata": {},
   "outputs": [],
   "source": [
    "df_encoded_training = __remove_values_to_agree_lower_limit__(df_encoded_training, True, lower_column_to_keep_training, index_end_actions)\n",
    "#df_encoded_testing = __remove_values_to_agree_lower_limit__(df_encoded_testing, validation, lower_column_to_keep_testing, index_end_actions)"
   ]
  },
  {
   "cell_type": "code",
   "execution_count": 105,
   "metadata": {},
   "outputs": [
    {
     "data": {
      "text/html": [
       "<div>\n",
       "<style scoped>\n",
       "    .dataframe tbody tr th:only-of-type {\n",
       "        vertical-align: middle;\n",
       "    }\n",
       "\n",
       "    .dataframe tbody tr th {\n",
       "        vertical-align: top;\n",
       "    }\n",
       "\n",
       "    .dataframe thead th {\n",
       "        text-align: right;\n",
       "    }\n",
       "</style>\n",
       "<table border=\"1\" class=\"dataframe\">\n",
       "  <thead>\n",
       "    <tr style=\"text-align: right;\">\n",
       "      <th></th>\n",
       "      <th>id_player</th>\n",
       "      <th>played_race</th>\n",
       "      <th>time_match</th>\n",
       "      <th>average_speed_match</th>\n",
       "      <th>0th_action</th>\n",
       "      <th>1th_action</th>\n",
       "      <th>2th_action</th>\n",
       "      <th>3th_action</th>\n",
       "      <th>4th_action</th>\n",
       "      <th>5th_action</th>\n",
       "      <th>...</th>\n",
       "      <th>hotkey41</th>\n",
       "      <th>hotkey91</th>\n",
       "      <th>hotkey30</th>\n",
       "      <th>s</th>\n",
       "      <th>hotkey40</th>\n",
       "      <th>Base</th>\n",
       "      <th>hotkey62</th>\n",
       "      <th>hotkey71</th>\n",
       "      <th>SingleMineral</th>\n",
       "      <th>hotkey11</th>\n",
       "    </tr>\n",
       "  </thead>\n",
       "  <tbody>\n",
       "    <tr>\n",
       "      <th>0</th>\n",
       "      <td>0</td>\n",
       "      <td>3</td>\n",
       "      <td>1655.0</td>\n",
       "      <td>0.740824</td>\n",
       "      <td>28.0</td>\n",
       "      <td>26.0</td>\n",
       "      <td>26.0</td>\n",
       "      <td>26.0</td>\n",
       "      <td>26.0</td>\n",
       "      <td>26.0</td>\n",
       "      <td>...</td>\n",
       "      <td>0</td>\n",
       "      <td>0</td>\n",
       "      <td>1</td>\n",
       "      <td>127</td>\n",
       "      <td>1</td>\n",
       "      <td>3</td>\n",
       "      <td>0</td>\n",
       "      <td>0</td>\n",
       "      <td>4</td>\n",
       "      <td>0</td>\n",
       "    </tr>\n",
       "    <tr>\n",
       "      <th>1</th>\n",
       "      <td>1</td>\n",
       "      <td>3</td>\n",
       "      <td>1655.0</td>\n",
       "      <td>0.796056</td>\n",
       "      <td>26.0</td>\n",
       "      <td>28.0</td>\n",
       "      <td>26.0</td>\n",
       "      <td>26.0</td>\n",
       "      <td>28.0</td>\n",
       "      <td>26.0</td>\n",
       "      <td>...</td>\n",
       "      <td>0</td>\n",
       "      <td>0</td>\n",
       "      <td>2</td>\n",
       "      <td>139</td>\n",
       "      <td>1</td>\n",
       "      <td>4</td>\n",
       "      <td>0</td>\n",
       "      <td>0</td>\n",
       "      <td>0</td>\n",
       "      <td>0</td>\n",
       "    </tr>\n",
       "    <tr>\n",
       "      <th>2</th>\n",
       "      <td>0</td>\n",
       "      <td>3</td>\n",
       "      <td>1010.0</td>\n",
       "      <td>0.748148</td>\n",
       "      <td>28.0</td>\n",
       "      <td>26.0</td>\n",
       "      <td>26.0</td>\n",
       "      <td>26.0</td>\n",
       "      <td>28.0</td>\n",
       "      <td>26.0</td>\n",
       "      <td>...</td>\n",
       "      <td>0</td>\n",
       "      <td>0</td>\n",
       "      <td>1</td>\n",
       "      <td>158</td>\n",
       "      <td>3</td>\n",
       "      <td>2</td>\n",
       "      <td>0</td>\n",
       "      <td>0</td>\n",
       "      <td>2</td>\n",
       "      <td>0</td>\n",
       "    </tr>\n",
       "    <tr>\n",
       "      <th>3</th>\n",
       "      <td>1</td>\n",
       "      <td>3</td>\n",
       "      <td>1005.0</td>\n",
       "      <td>0.723022</td>\n",
       "      <td>28.0</td>\n",
       "      <td>26.0</td>\n",
       "      <td>26.0</td>\n",
       "      <td>28.0</td>\n",
       "      <td>26.0</td>\n",
       "      <td>26.0</td>\n",
       "      <td>...</td>\n",
       "      <td>0</td>\n",
       "      <td>0</td>\n",
       "      <td>3</td>\n",
       "      <td>121</td>\n",
       "      <td>1</td>\n",
       "      <td>4</td>\n",
       "      <td>0</td>\n",
       "      <td>0</td>\n",
       "      <td>0</td>\n",
       "      <td>0</td>\n",
       "    </tr>\n",
       "    <tr>\n",
       "      <th>4</th>\n",
       "      <td>0</td>\n",
       "      <td>3</td>\n",
       "      <td>540.0</td>\n",
       "      <td>0.869565</td>\n",
       "      <td>28.0</td>\n",
       "      <td>26.0</td>\n",
       "      <td>26.0</td>\n",
       "      <td>26.0</td>\n",
       "      <td>28.0</td>\n",
       "      <td>26.0</td>\n",
       "      <td>...</td>\n",
       "      <td>0</td>\n",
       "      <td>0</td>\n",
       "      <td>1</td>\n",
       "      <td>138</td>\n",
       "      <td>1</td>\n",
       "      <td>2</td>\n",
       "      <td>0</td>\n",
       "      <td>0</td>\n",
       "      <td>0</td>\n",
       "      <td>0</td>\n",
       "    </tr>\n",
       "  </tbody>\n",
       "</table>\n",
       "<p>5 rows × 147 columns</p>\n",
       "</div>"
      ],
      "text/plain": [
       "   id_player  played_race  time_match  average_speed_match  0th_action  \\\n",
       "0          0            3      1655.0             0.740824        28.0   \n",
       "1          1            3      1655.0             0.796056        26.0   \n",
       "2          0            3      1010.0             0.748148        28.0   \n",
       "3          1            3      1005.0             0.723022        28.0   \n",
       "4          0            3       540.0             0.869565        28.0   \n",
       "\n",
       "   1th_action  2th_action  3th_action  4th_action  5th_action    ...     \\\n",
       "0        26.0        26.0        26.0        26.0        26.0    ...      \n",
       "1        28.0        26.0        26.0        28.0        26.0    ...      \n",
       "2        26.0        26.0        26.0        28.0        26.0    ...      \n",
       "3        26.0        26.0        28.0        26.0        26.0    ...      \n",
       "4        26.0        26.0        26.0        28.0        26.0    ...      \n",
       "\n",
       "   hotkey41  hotkey91  hotkey30    s  hotkey40  Base  hotkey62  hotkey71  \\\n",
       "0         0         0         1  127         1     3         0         0   \n",
       "1         0         0         2  139         1     4         0         0   \n",
       "2         0         0         1  158         3     2         0         0   \n",
       "3         0         0         3  121         1     4         0         0   \n",
       "4         0         0         1  138         1     2         0         0   \n",
       "\n",
       "   SingleMineral  hotkey11  \n",
       "0              4         0  \n",
       "1              0         0  \n",
       "2              2         0  \n",
       "3              0         0  \n",
       "4              0         0  \n",
       "\n",
       "[5 rows x 147 columns]"
      ]
     },
     "execution_count": 105,
     "metadata": {},
     "output_type": "execute_result"
    }
   ],
   "source": [
    "df_encoded_training.head()\n",
    "#df_encoded_testing.head()"
   ]
  },
  {
   "cell_type": "markdown",
   "metadata": {},
   "source": [
    "# delete occurency columns"
   ]
  },
  {
   "cell_type": "code",
   "execution_count": 106,
   "metadata": {},
   "outputs": [],
   "source": [
    "df_encoded_training = __delete_columns_for_lower_limit__(df_encoded_training, index_end_actions, len(df_encoded_training.columns))"
   ]
  },
  {
   "cell_type": "code",
   "execution_count": 107,
   "metadata": {},
   "outputs": [
    {
     "data": {
      "text/html": [
       "<div>\n",
       "<style scoped>\n",
       "    .dataframe tbody tr th:only-of-type {\n",
       "        vertical-align: middle;\n",
       "    }\n",
       "\n",
       "    .dataframe tbody tr th {\n",
       "        vertical-align: top;\n",
       "    }\n",
       "\n",
       "    .dataframe thead th {\n",
       "        text-align: right;\n",
       "    }\n",
       "</style>\n",
       "<table border=\"1\" class=\"dataframe\">\n",
       "  <thead>\n",
       "    <tr style=\"text-align: right;\">\n",
       "      <th></th>\n",
       "      <th>id_player</th>\n",
       "      <th>played_race</th>\n",
       "      <th>time_match</th>\n",
       "      <th>average_speed_match</th>\n",
       "      <th>0th_action</th>\n",
       "      <th>1th_action</th>\n",
       "      <th>2th_action</th>\n",
       "      <th>3th_action</th>\n",
       "      <th>4th_action</th>\n",
       "      <th>5th_action</th>\n",
       "      <th>...</th>\n",
       "      <th>100th_action</th>\n",
       "      <th>101th_action</th>\n",
       "      <th>102th_action</th>\n",
       "      <th>103th_action</th>\n",
       "      <th>104th_action</th>\n",
       "      <th>105th_action</th>\n",
       "      <th>106th_action</th>\n",
       "      <th>107th_action</th>\n",
       "      <th>108th_action</th>\n",
       "      <th>109th_action</th>\n",
       "    </tr>\n",
       "  </thead>\n",
       "  <tbody>\n",
       "    <tr>\n",
       "      <th>0</th>\n",
       "      <td>0</td>\n",
       "      <td>3</td>\n",
       "      <td>1655.0</td>\n",
       "      <td>0.740824</td>\n",
       "      <td>28.0</td>\n",
       "      <td>26.0</td>\n",
       "      <td>26.0</td>\n",
       "      <td>26.0</td>\n",
       "      <td>26.0</td>\n",
       "      <td>26.0</td>\n",
       "      <td>...</td>\n",
       "      <td>-1.0</td>\n",
       "      <td>-1.0</td>\n",
       "      <td>-1.0</td>\n",
       "      <td>-1.0</td>\n",
       "      <td>-1.0</td>\n",
       "      <td>-1.0</td>\n",
       "      <td>-1.0</td>\n",
       "      <td>-1.0</td>\n",
       "      <td>-1.0</td>\n",
       "      <td>-1.0</td>\n",
       "    </tr>\n",
       "    <tr>\n",
       "      <th>1</th>\n",
       "      <td>1</td>\n",
       "      <td>3</td>\n",
       "      <td>1655.0</td>\n",
       "      <td>0.796056</td>\n",
       "      <td>26.0</td>\n",
       "      <td>28.0</td>\n",
       "      <td>26.0</td>\n",
       "      <td>26.0</td>\n",
       "      <td>28.0</td>\n",
       "      <td>26.0</td>\n",
       "      <td>...</td>\n",
       "      <td>-1.0</td>\n",
       "      <td>-1.0</td>\n",
       "      <td>-1.0</td>\n",
       "      <td>-1.0</td>\n",
       "      <td>-1.0</td>\n",
       "      <td>-1.0</td>\n",
       "      <td>-1.0</td>\n",
       "      <td>-1.0</td>\n",
       "      <td>-1.0</td>\n",
       "      <td>-1.0</td>\n",
       "    </tr>\n",
       "    <tr>\n",
       "      <th>2</th>\n",
       "      <td>0</td>\n",
       "      <td>3</td>\n",
       "      <td>1010.0</td>\n",
       "      <td>0.748148</td>\n",
       "      <td>28.0</td>\n",
       "      <td>26.0</td>\n",
       "      <td>26.0</td>\n",
       "      <td>26.0</td>\n",
       "      <td>28.0</td>\n",
       "      <td>26.0</td>\n",
       "      <td>...</td>\n",
       "      <td>-1.0</td>\n",
       "      <td>-1.0</td>\n",
       "      <td>-1.0</td>\n",
       "      <td>-1.0</td>\n",
       "      <td>-1.0</td>\n",
       "      <td>-1.0</td>\n",
       "      <td>-1.0</td>\n",
       "      <td>-1.0</td>\n",
       "      <td>-1.0</td>\n",
       "      <td>-1.0</td>\n",
       "    </tr>\n",
       "    <tr>\n",
       "      <th>3</th>\n",
       "      <td>1</td>\n",
       "      <td>3</td>\n",
       "      <td>1005.0</td>\n",
       "      <td>0.723022</td>\n",
       "      <td>28.0</td>\n",
       "      <td>26.0</td>\n",
       "      <td>26.0</td>\n",
       "      <td>28.0</td>\n",
       "      <td>26.0</td>\n",
       "      <td>26.0</td>\n",
       "      <td>...</td>\n",
       "      <td>-1.0</td>\n",
       "      <td>-1.0</td>\n",
       "      <td>-1.0</td>\n",
       "      <td>-1.0</td>\n",
       "      <td>-1.0</td>\n",
       "      <td>-1.0</td>\n",
       "      <td>-1.0</td>\n",
       "      <td>-1.0</td>\n",
       "      <td>-1.0</td>\n",
       "      <td>-1.0</td>\n",
       "    </tr>\n",
       "    <tr>\n",
       "      <th>4</th>\n",
       "      <td>0</td>\n",
       "      <td>3</td>\n",
       "      <td>540.0</td>\n",
       "      <td>0.869565</td>\n",
       "      <td>28.0</td>\n",
       "      <td>26.0</td>\n",
       "      <td>26.0</td>\n",
       "      <td>26.0</td>\n",
       "      <td>28.0</td>\n",
       "      <td>26.0</td>\n",
       "      <td>...</td>\n",
       "      <td>-1.0</td>\n",
       "      <td>-1.0</td>\n",
       "      <td>-1.0</td>\n",
       "      <td>-1.0</td>\n",
       "      <td>-1.0</td>\n",
       "      <td>-1.0</td>\n",
       "      <td>-1.0</td>\n",
       "      <td>-1.0</td>\n",
       "      <td>-1.0</td>\n",
       "      <td>-1.0</td>\n",
       "    </tr>\n",
       "  </tbody>\n",
       "</table>\n",
       "<p>5 rows × 114 columns</p>\n",
       "</div>"
      ],
      "text/plain": [
       "   id_player  played_race  time_match  average_speed_match  0th_action  \\\n",
       "0          0            3      1655.0             0.740824        28.0   \n",
       "1          1            3      1655.0             0.796056        26.0   \n",
       "2          0            3      1010.0             0.748148        28.0   \n",
       "3          1            3      1005.0             0.723022        28.0   \n",
       "4          0            3       540.0             0.869565        28.0   \n",
       "\n",
       "   1th_action  2th_action  3th_action  4th_action  5th_action      ...       \\\n",
       "0        26.0        26.0        26.0        26.0        26.0      ...        \n",
       "1        28.0        26.0        26.0        28.0        26.0      ...        \n",
       "2        26.0        26.0        26.0        28.0        26.0      ...        \n",
       "3        26.0        26.0        28.0        26.0        26.0      ...        \n",
       "4        26.0        26.0        26.0        28.0        26.0      ...        \n",
       "\n",
       "   100th_action  101th_action  102th_action  103th_action  104th_action  \\\n",
       "0          -1.0          -1.0          -1.0          -1.0          -1.0   \n",
       "1          -1.0          -1.0          -1.0          -1.0          -1.0   \n",
       "2          -1.0          -1.0          -1.0          -1.0          -1.0   \n",
       "3          -1.0          -1.0          -1.0          -1.0          -1.0   \n",
       "4          -1.0          -1.0          -1.0          -1.0          -1.0   \n",
       "\n",
       "   105th_action  106th_action  107th_action  108th_action  109th_action  \n",
       "0          -1.0          -1.0          -1.0          -1.0          -1.0  \n",
       "1          -1.0          -1.0          -1.0          -1.0          -1.0  \n",
       "2          -1.0          -1.0          -1.0          -1.0          -1.0  \n",
       "3          -1.0          -1.0          -1.0          -1.0          -1.0  \n",
       "4          -1.0          -1.0          -1.0          -1.0          -1.0  \n",
       "\n",
       "[5 rows x 114 columns]"
      ]
     },
     "execution_count": 107,
     "metadata": {},
     "output_type": "execute_result"
    }
   ],
   "source": [
    "df_encoded_training.head()"
   ]
  },
  {
   "cell_type": "markdown",
   "metadata": {},
   "source": [
    "# PCA analysis"
   ]
  },
  {
   "cell_type": "code",
   "execution_count": 108,
   "metadata": {},
   "outputs": [],
   "source": [
    "n_components = len(df_encoded_training.iloc[:,index_beginning_actions:].columns)"
   ]
  },
  {
   "cell_type": "code",
   "execution_count": 109,
   "metadata": {},
   "outputs": [],
   "source": [
    "pca_model = PCA(n_components=n_components)\n",
    "ar_encoded_training_reduced_ordered_actions_ = pca_model.fit_transform(df_encoded_training.iloc[:,index_beginning_actions:].values)\n",
    "cum_ratio = pca_model.explained_variance_ratio_.cumsum()"
   ]
  },
  {
   "cell_type": "code",
   "execution_count": 110,
   "metadata": {},
   "outputs": [
    {
     "name": "stdout",
     "output_type": "stream",
     "text": [
      "[0.37809202 0.50016454 0.56439321 0.60227847 0.63733195 0.66397651\n",
      " 0.68500763 0.70247827 0.71770702 0.73213055 0.74469865 0.75649796\n",
      " 0.76774345 0.77809497 0.78832005 0.79750325 0.80655397 0.81511192\n",
      " 0.82319059 0.83103976 0.83845523 0.84539922 0.85196038 0.85839636\n",
      " 0.86462242 0.8704249  0.87588329 0.88123164 0.8863507  0.89138865\n",
      " 0.89626361 0.90100866 0.90554546 0.90996436 0.91418316 0.91834154\n",
      " 0.92239025 0.92637058 0.93006599 0.93375278 0.93735685 0.94073359\n",
      " 0.94404506 0.94722285 0.95033574 0.9532941  0.95603993 0.95865961\n",
      " 0.96114711 0.96349925 0.96570441 0.96787837 0.9699222  0.9719316\n",
      " 0.97384965 0.97566035 0.97728755 0.97879472 0.9802555  0.98170685\n",
      " 0.98312344 0.98440724 0.98566381 0.98688693 0.98800831 0.98904229\n",
      " 0.99000922 0.99091778 0.99172469 0.99247176 0.99319862 0.99386903\n",
      " 0.99442626 0.99495503 0.99544935 0.99593771 0.99636105 0.99674928\n",
      " 0.997128   0.99747527 0.99777808 0.99805463 0.99831673 0.99854937\n",
      " 0.99874693 0.99893605 0.99912047 0.99928081 0.99941835 0.9995325\n",
      " 0.99963012 0.99971704 0.99978187 0.99983626 0.99988594 0.99991886\n",
      " 0.99994691 0.99996597 0.99998054 0.99999202 0.99999664 0.99999971\n",
      " 0.99999997 1.         1.         1.         1.         1.\n",
      " 1.         1.        ]\n"
     ]
    }
   ],
   "source": [
    "print(cum_ratio)"
   ]
  },
  {
   "cell_type": "code",
   "execution_count": 111,
   "metadata": {},
   "outputs": [
    {
     "data": {
      "image/png": "[encoded data removed]",
      "text/plain": [
       "<Figure size 432x288 with 1 Axes>"
      ]
     },
     "metadata": {},
     "output_type": "display_data"
    }
   ],
   "source": [
    "plt.plot(range(1, n_components+1), cum_ratio, marker='o')\n",
    "perfect_n_components = 70"
   ]
  },
  {
   "cell_type": "code",
   "execution_count": 112,
   "metadata": {},
   "outputs": [
    {
     "data": {
      "text/plain": [
       "(3052, 110)"
      ]
     },
     "execution_count": 112,
     "metadata": {},
     "output_type": "execute_result"
    }
   ],
   "source": [
    "df_encoded_training.iloc[:,index_beginning_actions:].values.shape"
   ]
  },
  {
   "cell_type": "markdown",
   "metadata": {},
   "source": [
    "# PCA Visualisation"
   ]
  },
  {
   "cell_type": "code",
   "execution_count": 113,
   "metadata": {},
   "outputs": [
    {
     "data": {
      "text/plain": [
       "3052"
      ]
     },
     "execution_count": 113,
     "metadata": {},
     "output_type": "execute_result"
    }
   ],
   "source": [
    "len(ar_encoded_training_reduced_ordered_actions_[:,2])"
   ]
  },
  {
   "cell_type": "code",
   "execution_count": 114,
   "metadata": {},
   "outputs": [
    {
     "data": {
      "text/plain": [
       "<matplotlib.collections.PathCollection at 0x213d8392828>"
      ]
     },
     "execution_count": 114,
     "metadata": {},
     "output_type": "execute_result"
    },
    {
     "data": {
      "image/png": "[encoded data removed]",
      "text/plain": [
       "<Figure size 432x288 with 1 Axes>"
      ]
     },
     "metadata": {},
     "output_type": "display_data"
    }
   ],
   "source": [
    "plt.scatter(ar_encoded_training_reduced_ordered_actions_[:,0],ar_encoded_training_reduced_ordered_actions_[:,2],c=df_encoded_training.id_player.values.tolist())"
   ]
  },
  {
   "cell_type": "markdown",
   "metadata": {},
   "source": [
    "# PCA transformation"
   ]
  },
  {
   "cell_type": "code",
   "execution_count": 115,
   "metadata": {},
   "outputs": [
    {
     "name": "stdout",
     "output_type": "stream",
     "text": [
      "   id_player  played_race  time_match  average_speed_match  0th_action  \\\n",
      "0          0            3      1655.0             0.740824        28.0   \n",
      "1          1            3      1655.0             0.796056        26.0   \n",
      "2          0            3      1010.0             0.748148        28.0   \n",
      "3          1            3      1005.0             0.723022        28.0   \n",
      "4          0            3       540.0             0.869565        28.0   \n",
      "\n",
      "   1th_action  2th_action  3th_action  4th_action  5th_action      ...       \\\n",
      "0        26.0        26.0        26.0        26.0        26.0      ...        \n",
      "1        28.0        26.0        26.0        28.0        26.0      ...        \n",
      "2        26.0        26.0        26.0        28.0        26.0      ...        \n",
      "3        26.0        26.0        28.0        26.0        26.0      ...        \n",
      "4        26.0        26.0        26.0        28.0        26.0      ...        \n",
      "\n",
      "   100th_action  101th_action  102th_action  103th_action  104th_action  \\\n",
      "0          -1.0          -1.0          -1.0          -1.0          -1.0   \n",
      "1          -1.0          -1.0          -1.0          -1.0          -1.0   \n",
      "2          -1.0          -1.0          -1.0          -1.0          -1.0   \n",
      "3          -1.0          -1.0          -1.0          -1.0          -1.0   \n",
      "4          -1.0          -1.0          -1.0          -1.0          -1.0   \n",
      "\n",
      "   105th_action  106th_action  107th_action  108th_action  109th_action  \n",
      "0          -1.0          -1.0          -1.0          -1.0          -1.0  \n",
      "1          -1.0          -1.0          -1.0          -1.0          -1.0  \n",
      "2          -1.0          -1.0          -1.0          -1.0          -1.0  \n",
      "3          -1.0          -1.0          -1.0          -1.0          -1.0  \n",
      "4          -1.0          -1.0          -1.0          -1.0          -1.0  \n",
      "\n",
      "[5 rows x 114 columns]\n",
      "   id_player  played_race  time_match  average_speed_match  0th_action  \\\n",
      "0          0            3      1655.0             0.740824  -56.946610   \n",
      "1          1            3      1655.0             0.796056  -12.371899   \n",
      "2          0            3      1010.0             0.748148  -59.395159   \n",
      "3          1            3      1005.0             0.723022  -44.635147   \n",
      "4          0            3       540.0             0.869565  -59.395159   \n",
      "\n",
      "   1th_action  2th_action  3th_action  4th_action  5th_action      ...       \\\n",
      "0   26.709197  -11.987108    0.503873   -0.995512   10.236948      ...        \n",
      "1  -23.956955   11.524681  -29.747882   25.630453    6.544028      ...        \n",
      "2   31.811927  -18.711830    5.766217    7.665951   -1.861947      ...        \n",
      "3    5.413303   12.822910  -24.230876   -8.556701   17.941329      ...        \n",
      "4   31.811927  -18.711830    5.766217    7.665951   -1.861947      ...        \n",
      "\n",
      "   100th_action  101th_action  102th_action  103th_action  104th_action  \\\n",
      "0      0.001251      0.001295     -0.001534     -0.000190 -2.637015e-14   \n",
      "1     -0.000284     -0.025924     -0.002708      0.000092  1.239014e-14   \n",
      "2     -0.004105     -0.000205      0.002514      0.000144  8.980267e-15   \n",
      "3     -0.007267     -0.012586     -0.000742     -0.000654  4.474746e-14   \n",
      "4     -0.004105     -0.000205      0.002514      0.000144 -8.322662e-15   \n",
      "\n",
      "   105th_action  106th_action  107th_action  108th_action  109th_action  \n",
      "0 -1.493099e-14 -5.189852e-15  7.586699e-15 -4.955354e-15  9.117743e-15  \n",
      "1  1.918393e-14 -1.401873e-14 -8.252069e-15  1.811952e-14  1.128480e-15  \n",
      "2 -3.345503e-14  1.892807e-14 -5.311809e-15 -7.977376e-16  7.675558e-16  \n",
      "3  5.825285e-16  2.029726e-14  2.376188e-15  5.719620e-15  1.889114e-15  \n",
      "4  1.462900e-14 -5.722047e-15 -1.347154e-14 -8.304580e-15 -1.401707e-15  \n",
      "\n",
      "[5 rows x 114 columns]\n"
     ]
    }
   ],
   "source": [
    "print(df_encoded_training.head())\n",
    "columns_to_replace = df_encoded_training.columns[index_beginning_actions:]\n",
    "df_encoded_training[columns_to_replace] = ar_encoded_training_reduced_ordered_actions_\n",
    "print(df_encoded_training.head())\n",
    "#res = np.equal(df_encoded_training.iloc[:,index_beginning_actions],ar_encoded_training_reduced_ordered_actions_[:,1])\n",
    "#np.unique(res, return_counts=True)"
   ]
  },
  {
   "cell_type": "code",
   "execution_count": 116,
   "metadata": {},
   "outputs": [],
   "source": [
    "#df_encoded_training = __delete_columns_for_lower_limit__(df_encoded_training, perfect_n_components+index_beginning_actions, len(df_encoded_training.columns))"
   ]
  },
  {
   "cell_type": "code",
   "execution_count": 117,
   "metadata": {},
   "outputs": [
    {
     "data": {
      "text/html": [
       "<div>\n",
       "<style scoped>\n",
       "    .dataframe tbody tr th:only-of-type {\n",
       "        vertical-align: middle;\n",
       "    }\n",
       "\n",
       "    .dataframe tbody tr th {\n",
       "        vertical-align: top;\n",
       "    }\n",
       "\n",
       "    .dataframe thead th {\n",
       "        text-align: right;\n",
       "    }\n",
       "</style>\n",
       "<table border=\"1\" class=\"dataframe\">\n",
       "  <thead>\n",
       "    <tr style=\"text-align: right;\">\n",
       "      <th></th>\n",
       "      <th>id_player</th>\n",
       "      <th>played_race</th>\n",
       "      <th>time_match</th>\n",
       "      <th>average_speed_match</th>\n",
       "      <th>0th_action</th>\n",
       "      <th>1th_action</th>\n",
       "      <th>2th_action</th>\n",
       "      <th>3th_action</th>\n",
       "      <th>4th_action</th>\n",
       "      <th>5th_action</th>\n",
       "      <th>...</th>\n",
       "      <th>100th_action</th>\n",
       "      <th>101th_action</th>\n",
       "      <th>102th_action</th>\n",
       "      <th>103th_action</th>\n",
       "      <th>104th_action</th>\n",
       "      <th>105th_action</th>\n",
       "      <th>106th_action</th>\n",
       "      <th>107th_action</th>\n",
       "      <th>108th_action</th>\n",
       "      <th>109th_action</th>\n",
       "    </tr>\n",
       "  </thead>\n",
       "  <tbody>\n",
       "    <tr>\n",
       "      <th>0</th>\n",
       "      <td>0</td>\n",
       "      <td>3</td>\n",
       "      <td>1655.0</td>\n",
       "      <td>0.740824</td>\n",
       "      <td>-56.946610</td>\n",
       "      <td>26.709197</td>\n",
       "      <td>-11.987108</td>\n",
       "      <td>0.503873</td>\n",
       "      <td>-0.995512</td>\n",
       "      <td>10.236948</td>\n",
       "      <td>...</td>\n",
       "      <td>0.001251</td>\n",
       "      <td>0.001295</td>\n",
       "      <td>-0.001534</td>\n",
       "      <td>-0.000190</td>\n",
       "      <td>-2.637015e-14</td>\n",
       "      <td>-1.493099e-14</td>\n",
       "      <td>-5.189852e-15</td>\n",
       "      <td>7.586699e-15</td>\n",
       "      <td>-4.955354e-15</td>\n",
       "      <td>9.117743e-15</td>\n",
       "    </tr>\n",
       "    <tr>\n",
       "      <th>1</th>\n",
       "      <td>1</td>\n",
       "      <td>3</td>\n",
       "      <td>1655.0</td>\n",
       "      <td>0.796056</td>\n",
       "      <td>-12.371899</td>\n",
       "      <td>-23.956955</td>\n",
       "      <td>11.524681</td>\n",
       "      <td>-29.747882</td>\n",
       "      <td>25.630453</td>\n",
       "      <td>6.544028</td>\n",
       "      <td>...</td>\n",
       "      <td>-0.000284</td>\n",
       "      <td>-0.025924</td>\n",
       "      <td>-0.002708</td>\n",
       "      <td>0.000092</td>\n",
       "      <td>1.239014e-14</td>\n",
       "      <td>1.918393e-14</td>\n",
       "      <td>-1.401873e-14</td>\n",
       "      <td>-8.252069e-15</td>\n",
       "      <td>1.811952e-14</td>\n",
       "      <td>1.128480e-15</td>\n",
       "    </tr>\n",
       "    <tr>\n",
       "      <th>2</th>\n",
       "      <td>0</td>\n",
       "      <td>3</td>\n",
       "      <td>1010.0</td>\n",
       "      <td>0.748148</td>\n",
       "      <td>-59.395159</td>\n",
       "      <td>31.811927</td>\n",
       "      <td>-18.711830</td>\n",
       "      <td>5.766217</td>\n",
       "      <td>7.665951</td>\n",
       "      <td>-1.861947</td>\n",
       "      <td>...</td>\n",
       "      <td>-0.004105</td>\n",
       "      <td>-0.000205</td>\n",
       "      <td>0.002514</td>\n",
       "      <td>0.000144</td>\n",
       "      <td>8.980267e-15</td>\n",
       "      <td>-3.345503e-14</td>\n",
       "      <td>1.892807e-14</td>\n",
       "      <td>-5.311809e-15</td>\n",
       "      <td>-7.977376e-16</td>\n",
       "      <td>7.675558e-16</td>\n",
       "    </tr>\n",
       "    <tr>\n",
       "      <th>3</th>\n",
       "      <td>1</td>\n",
       "      <td>3</td>\n",
       "      <td>1005.0</td>\n",
       "      <td>0.723022</td>\n",
       "      <td>-44.635147</td>\n",
       "      <td>5.413303</td>\n",
       "      <td>12.822910</td>\n",
       "      <td>-24.230876</td>\n",
       "      <td>-8.556701</td>\n",
       "      <td>17.941329</td>\n",
       "      <td>...</td>\n",
       "      <td>-0.007267</td>\n",
       "      <td>-0.012586</td>\n",
       "      <td>-0.000742</td>\n",
       "      <td>-0.000654</td>\n",
       "      <td>4.474746e-14</td>\n",
       "      <td>5.825285e-16</td>\n",
       "      <td>2.029726e-14</td>\n",
       "      <td>2.376188e-15</td>\n",
       "      <td>5.719620e-15</td>\n",
       "      <td>1.889114e-15</td>\n",
       "    </tr>\n",
       "    <tr>\n",
       "      <th>4</th>\n",
       "      <td>0</td>\n",
       "      <td>3</td>\n",
       "      <td>540.0</td>\n",
       "      <td>0.869565</td>\n",
       "      <td>-59.395159</td>\n",
       "      <td>31.811927</td>\n",
       "      <td>-18.711830</td>\n",
       "      <td>5.766217</td>\n",
       "      <td>7.665951</td>\n",
       "      <td>-1.861947</td>\n",
       "      <td>...</td>\n",
       "      <td>-0.004105</td>\n",
       "      <td>-0.000205</td>\n",
       "      <td>0.002514</td>\n",
       "      <td>0.000144</td>\n",
       "      <td>-8.322662e-15</td>\n",
       "      <td>1.462900e-14</td>\n",
       "      <td>-5.722047e-15</td>\n",
       "      <td>-1.347154e-14</td>\n",
       "      <td>-8.304580e-15</td>\n",
       "      <td>-1.401707e-15</td>\n",
       "    </tr>\n",
       "  </tbody>\n",
       "</table>\n",
       "<p>5 rows × 114 columns</p>\n",
       "</div>"
      ],
      "text/plain": [
       "   id_player  played_race  time_match  average_speed_match  0th_action  \\\n",
       "0          0            3      1655.0             0.740824  -56.946610   \n",
       "1          1            3      1655.0             0.796056  -12.371899   \n",
       "2          0            3      1010.0             0.748148  -59.395159   \n",
       "3          1            3      1005.0             0.723022  -44.635147   \n",
       "4          0            3       540.0             0.869565  -59.395159   \n",
       "\n",
       "   1th_action  2th_action  3th_action  4th_action  5th_action      ...       \\\n",
       "0   26.709197  -11.987108    0.503873   -0.995512   10.236948      ...        \n",
       "1  -23.956955   11.524681  -29.747882   25.630453    6.544028      ...        \n",
       "2   31.811927  -18.711830    5.766217    7.665951   -1.861947      ...        \n",
       "3    5.413303   12.822910  -24.230876   -8.556701   17.941329      ...        \n",
       "4   31.811927  -18.711830    5.766217    7.665951   -1.861947      ...        \n",
       "\n",
       "   100th_action  101th_action  102th_action  103th_action  104th_action  \\\n",
       "0      0.001251      0.001295     -0.001534     -0.000190 -2.637015e-14   \n",
       "1     -0.000284     -0.025924     -0.002708      0.000092  1.239014e-14   \n",
       "2     -0.004105     -0.000205      0.002514      0.000144  8.980267e-15   \n",
       "3     -0.007267     -0.012586     -0.000742     -0.000654  4.474746e-14   \n",
       "4     -0.004105     -0.000205      0.002514      0.000144 -8.322662e-15   \n",
       "\n",
       "   105th_action  106th_action  107th_action  108th_action  109th_action  \n",
       "0 -1.493099e-14 -5.189852e-15  7.586699e-15 -4.955354e-15  9.117743e-15  \n",
       "1  1.918393e-14 -1.401873e-14 -8.252069e-15  1.811952e-14  1.128480e-15  \n",
       "2 -3.345503e-14  1.892807e-14 -5.311809e-15 -7.977376e-16  7.675558e-16  \n",
       "3  5.825285e-16  2.029726e-14  2.376188e-15  5.719620e-15  1.889114e-15  \n",
       "4  1.462900e-14 -5.722047e-15 -1.347154e-14 -8.304580e-15 -1.401707e-15  \n",
       "\n",
       "[5 rows x 114 columns]"
      ]
     },
     "execution_count": 117,
     "metadata": {},
     "output_type": "execute_result"
    }
   ],
   "source": [
    "df_encoded_training.head()"
   ]
  },
  {
   "cell_type": "markdown",
   "metadata": {},
   "source": [
    "# Selection of model"
   ]
  },
  {
   "cell_type": "code",
   "execution_count": 118,
   "metadata": {},
   "outputs": [],
   "source": [
    "model = RandomForestClassifier(n_estimators = 64, max_depth = 512)"
   ]
  },
  {
   "cell_type": "markdown",
   "metadata": {},
   "source": [
    "# Training"
   ]
  },
  {
   "cell_type": "code",
   "execution_count": null,
   "metadata": {},
   "outputs": [],
   "source": [
    "decision_tree.fit(df_encoded_training.iloc[:, 1:].values, df_encoded_training.id_player.values)"
   ]
  },
  {
   "cell_type": "markdown",
   "metadata": {},
   "source": [
    "# Testing"
   ]
  },
  {
   "cell_type": "code",
   "execution_count": null,
   "metadata": {},
   "outputs": [],
   "source": [
    "predicted = decision_tree.predict(df_encoded_testing.values)\n",
    "decoded_predicted = encoder.decode_labels(predicted)  # We decode the encoded predictions\n",
    "indices = range(1, len(predicted) + 1)\n",
    "output_df = pd.DataFrame({\"RowId\": indices, \"prediction\": decoded_predicted})\n",
    "output_df.to_csv(\"test_labels.CSV\", index=False)"
   ]
  },
  {
   "cell_type": "markdown",
   "metadata": {},
   "source": [
    "# Small validation"
   ]
  },
  {
   "cell_type": "code",
   "execution_count": null,
   "metadata": {},
   "outputs": [],
   "source": [
    "nolabel_df_validation = df_encoded_testing.drop(axis=1, labels=\"id_player\")\n",
    "nolabel_df_validation.fillna(0)\n",
    "predicted = decision_tree.predict(nolabel_df_validation.values)\n",
    "labels = df_encoded_testing.id_player.values\n",
    "print(\"accuracy:\", accuracy_extractor.get_accuracy(labels, predicted))"
   ]
  },
  {
   "cell_type": "markdown",
   "metadata": {},
   "source": [
    "# k-fold cross validation"
   ]
  },
  {
   "cell_type": "code",
   "execution_count": null,
   "metadata": {},
   "outputs": [],
   "source": [
    "k = 10\n",
    "scores = cross_val_score(model, df_encoded_training.iloc[:, 1:].values, y=df_encoded_training.id_player.values, cv=k)\n",
    "print(scores)"
   ]
  },
  {
   "cell_type": "markdown",
   "metadata": {},
   "source": [
    "# Save all PCA computing scores"
   ]
  },
  {
   "cell_type": "code",
   "execution_count": 119,
   "metadata": {},
   "outputs": [
    {
     "name": "stderr",
     "output_type": "stream",
     "text": [
      "C:\\Program Files (x86)\\Microsoft Visual Studio\\Shared\\Anaconda3_64\\lib\\site-packages\\sklearn\\model_selection\\_split.py:605: Warning: The least populated class in y has only 4 members, which is too few. The minimum number of members in any class cannot be less than n_splits=10.\n",
      "  % (min_groups, self.n_splits)), Warning)\n",
      "C:\\Program Files (x86)\\Microsoft Visual Studio\\Shared\\Anaconda3_64\\lib\\site-packages\\sklearn\\model_selection\\_split.py:605: Warning: The least populated class in y has only 4 members, which is too few. The minimum number of members in any class cannot be less than n_splits=10.\n",
      "  % (min_groups, self.n_splits)), Warning)\n",
      "C:\\Program Files (x86)\\Microsoft Visual Studio\\Shared\\Anaconda3_64\\lib\\site-packages\\sklearn\\model_selection\\_split.py:605: Warning: The least populated class in y has only 4 members, which is too few. The minimum number of members in any class cannot be less than n_splits=10.\n",
      "  % (min_groups, self.n_splits)), Warning)\n",
      "C:\\Program Files (x86)\\Microsoft Visual Studio\\Shared\\Anaconda3_64\\lib\\site-packages\\sklearn\\model_selection\\_split.py:605: Warning: The least populated class in y has only 4 members, which is too few. The minimum number of members in any class cannot be less than n_splits=10.\n",
      "  % (min_groups, self.n_splits)), Warning)\n",
      "C:\\Program Files (x86)\\Microsoft Visual Studio\\Shared\\Anaconda3_64\\lib\\site-packages\\sklearn\\model_selection\\_split.py:605: Warning: The least populated class in y has only 4 members, which is too few. The minimum number of members in any class cannot be less than n_splits=10.\n",
      "  % (min_groups, self.n_splits)), Warning)\n",
      "C:\\Program Files (x86)\\Microsoft Visual Studio\\Shared\\Anaconda3_64\\lib\\site-packages\\sklearn\\model_selection\\_split.py:605: Warning: The least populated class in y has only 4 members, which is too few. The minimum number of members in any class cannot be less than n_splits=10.\n",
      "  % (min_groups, self.n_splits)), Warning)\n",
      "C:\\Program Files (x86)\\Microsoft Visual Studio\\Shared\\Anaconda3_64\\lib\\site-packages\\sklearn\\model_selection\\_split.py:605: Warning: The least populated class in y has only 4 members, which is too few. The minimum number of members in any class cannot be less than n_splits=10.\n",
      "  % (min_groups, self.n_splits)), Warning)\n",
      "C:\\Program Files (x86)\\Microsoft Visual Studio\\Shared\\Anaconda3_64\\lib\\site-packages\\sklearn\\model_selection\\_split.py:605: Warning: The least populated class in y has only 4 members, which is too few. The minimum number of members in any class cannot be less than n_splits=10.\n",
      "  % (min_groups, self.n_splits)), Warning)\n"
     ]
    }
   ],
   "source": [
    "k = 10\n",
    "scores_for_ns_components = dict()\n",
    "df_encoded_training_safe = df_encoded_training\n",
    "for n_components in range(1, 80, 10):\n",
    "    df_encoded_training = __delete_columns_for_lower_limit__(df_encoded_training, n_components+index_beginning_actions, len(df_encoded_training.columns))\n",
    "    columns_to_replace = df_encoded_training.columns[index_beginning_actions:]\n",
    "    model = RandomForestClassifier(n_estimators = 64, max_depth = 512)\n",
    "    scores = cross_val_score(model, df_encoded_training.iloc[:, 1:].values, y=df_encoded_training.id_player.values, cv=k)\n",
    "    scores_for_ns_components[n_components] = scores\n",
    "    df_encoded_training = df_encoded_training_safe"
   ]
  },
  {
   "cell_type": "code",
   "execution_count": 120,
   "metadata": {},
   "outputs": [
    {
     "name": "stdout",
     "output_type": "stream",
     "text": [
      "1\n",
      "0.27643071050187007\n",
      "11\n",
      "0.4796153209275461\n",
      "21\n",
      "0.5250914162615565\n",
      "31\n",
      "0.49519045723130584\n",
      "41\n",
      "0.49682459878840185\n",
      "51\n",
      "0.49265997267716183\n",
      "61\n",
      "0.48577748805093623\n",
      "71\n",
      "0.47066933683447604\n"
     ]
    }
   ],
   "source": [
    "dict_mean = dict()\n",
    "for nb_components, arr in scores_for_ns_components.items():\n",
    "    dict_mean[nb_components] = sum(arr)/10\n",
    "    print(nb_components)\n",
    "    print(sum(arr)/10)"
   ]
  },
  {
   "cell_type": "code",
   "execution_count": 121,
   "metadata": {},
   "outputs": [
    {
     "data": {
      "text/plain": [
       "{1: 0.27643071050187007,\n",
       " 11: 0.4796153209275461,\n",
       " 21: 0.5250914162615565,\n",
       " 31: 0.49519045723130584,\n",
       " 41: 0.49682459878840185,\n",
       " 51: 0.49265997267716183,\n",
       " 61: 0.48577748805093623,\n",
       " 71: 0.47066933683447604}"
      ]
     },
     "execution_count": 121,
     "metadata": {},
     "output_type": "execute_result"
    }
   ],
   "source": [
    "dict_mean"
   ]
  },
  {
   "cell_type": "code",
   "execution_count": 122,
   "metadata": {},
   "outputs": [
    {
     "data": {
      "text/plain": [
       "[<matplotlib.lines.Line2D at 0x213da2b8be0>]"
      ]
     },
     "execution_count": 122,
     "metadata": {},
     "output_type": "execute_result"
    },
    {
     "data": {
      "image/png": "[encoded data removed]",
      "text/plain": [
       "<Figure size 432x288 with 1 Axes>"
      ]
     },
     "metadata": {},
     "output_type": "display_data"
    }
   ],
   "source": [
    "x = list(dict_mean.keys())\n",
    "y_scores = list(dict_mean.values())\n",
    "plt.plot(x, y_scores, marker='o')"
   ]
  },
  {
   "cell_type": "code",
   "execution_count": null,
   "metadata": {},
   "outputs": [],
   "source": []
  }
 ],
 "metadata": {
  "kernelspec": {
   "display_name": "Python 3",
   "language": "python",
   "name": "python3"
  },
  "language_info": {
   "codemirror_mode": {
    "name": "ipython",
    "version": 3
   },
   "file_extension": ".py",
   "mimetype": "text/x-python",
   "name": "python",
   "nbconvert_exporter": "python",
   "pygments_lexer": "ipython3",
   "version": "3.6.5"
  }
 },
 "nbformat": 4,
 "nbformat_minor": 2
}
