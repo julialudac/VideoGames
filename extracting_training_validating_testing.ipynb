{
 "cells": [
  {
   "cell_type": "code",
   "execution_count": 1,
   "metadata": {},
   "outputs": [],
   "source": [
    "import csv\n",
    "import numpy as np # linear algebra\n",
    "import os\n",
    "import pandas as pd # data processing, CSV file I/O (e.g. pd.read_csv)\n",
    "\n",
    "from sklearn import tree\n",
    "from sklearn.ensemble import RandomForestClassifier\n",
    "from sklearn.model_selection  import  train_test_split\n",
    "\n",
    "# personal imports\n",
    "import data_extractor as de\n",
    "import accuracy_extractor as ae\n",
    "from multi_labels_encoder import ThreeFeaturesEncoder\n",
    "from train_n_test import TrainValidateTest"
   ]
  },
  {
   "cell_type": "markdown",
   "metadata": {},
   "source": [
    "# Prepare train and test original datasets (+ labels)"
   ]
  },
  {
   "cell_type": "code",
   "execution_count": 2,
   "metadata": {},
   "outputs": [],
   "source": [
    "# Extract dataset: train and validation and test (though validation and test are done independntly)\n",
    "df_training = de.get_dataframe(\"../input/minitrain.CSV\", training=True, limit_seconds=8) # OK\n",
    "df_validation = de.get_dataframe(\"../input/minitest.CSV\", training=True, limit_seconds=8) # OK\n",
    "df_testing = de.get_dataframe(\"../input/TEST.CSV\", training=False, limit_seconds=8)"
   ]
  },
  {
   "cell_type": "markdown",
   "metadata": {},
   "source": [
    "# Encoding"
   ]
  },
  {
   "cell_type": "code",
   "execution_count": 3,
   "metadata": {},
   "outputs": [],
   "source": [
    "# Learning dataset encoding\n",
    "encoder = ThreeFeaturesEncoder(df_training)\n",
    "\n",
    "# Encoding dataset : training, validation and testing\n",
    "encoded_df_training = encoder.encode_df(df_training)\n",
    "encoded_df_validation = encoder.encode_df(df_validation)\n",
    "encoded_df_testing = encoder.encode_df(df_testing, False)"
   ]
  },
  {
   "cell_type": "markdown",
   "metadata": {},
   "source": [
    "# Getting the datasets we're gonna work on"
   ]
  },
  {
   "cell_type": "code",
   "execution_count": 4,
   "metadata": {},
   "outputs": [],
   "source": [
    "# Convert dataset into another one\n",
    "df_training_numerical = de.transform_sample(encoded_df_training, True)\n",
    "df_validation_numerical = de.transform_sample(encoded_df_validation, True)     # OK(see visualization)\n",
    "df_testing_numerical =  de.transform_sample(encoded_df_testing, False)"
   ]
  },
  {
   "cell_type": "markdown",
   "metadata": {},
   "source": [
    "# Conform validation and testing DataFrame columns to training DataFrame columns"
   ]
  },
  {
   "cell_type": "code",
   "execution_count": 5,
   "metadata": {},
   "outputs": [
    {
     "name": "stdout",
     "output_type": "stream",
     "text": [
      "train: True\n",
      "intersection: {0, 1, 2, 3, 4, 5, 6, 7, 8, 9, 10, 11, 12, 13, 16, 18, 19, 20, 21, 22, 23, 26, 27, 28, 29, 30, 31, 32, 'played_race', 'id_player'}\n",
      "extra: {14, 15, 17, 24, 25}\n",
      "extra after: {14, 15, 17, 24, 25}\n",
      "testordered_train_cols: [0, 1, 2, 3, 4, 5, 6, 7, 8, 9, 10, 11, 12, 13, 16, 18, 19, 20, 21, 22, 23, 26, 27, 28, 29, 30, 31, 32, 'played_race', 'id_player', 14, 15, 17, 24, 25]\n",
      "train: False\n",
      "intersection: {0, 1, 2, 3, 4, 5, 6, 7, 8, 9, 10, 11, 12, 13, 14, 15, 16, 17, 18, 19, 20, 21, 22, 23, 24, 25, 26, 27, 28, 29, 30, 31, 32, 'played_race'}\n",
      "extra: {'id_player'}\n",
      "extra after: set()\n",
      "testordered_train_cols: [0, 1, 2, 3, 4, 5, 6, 7, 8, 9, 10, 11, 12, 13, 14, 15, 16, 17, 18, 19, 20, 21, 22, 23, 24, 25, 26, 27, 28, 29, 30, 31, 32, 'played_race']\n"
     ]
    },
    {
     "data": {
      "text/html": [
       "<div>\n",
       "<style scoped>\n",
       "    .dataframe tbody tr th:only-of-type {\n",
       "        vertical-align: middle;\n",
       "    }\n",
       "\n",
       "    .dataframe tbody tr th {\n",
       "        vertical-align: top;\n",
       "    }\n",
       "\n",
       "    .dataframe thead th {\n",
       "        text-align: right;\n",
       "    }\n",
       "</style>\n",
       "<table border=\"1\" class=\"dataframe\">\n",
       "  <thead>\n",
       "    <tr style=\"text-align: right;\">\n",
       "      <th></th>\n",
       "      <th>played_race</th>\n",
       "      <th>3</th>\n",
       "      <th>5</th>\n",
       "      <th>11</th>\n",
       "      <th>16</th>\n",
       "      <th>26</th>\n",
       "      <th>10</th>\n",
       "      <th>19</th>\n",
       "      <th>27</th>\n",
       "      <th>2</th>\n",
       "      <th>...</th>\n",
       "      <th>17</th>\n",
       "      <th>28</th>\n",
       "      <th>24</th>\n",
       "      <th>1</th>\n",
       "      <th>15</th>\n",
       "      <th>20</th>\n",
       "      <th>30</th>\n",
       "      <th>25</th>\n",
       "      <th>12</th>\n",
       "      <th>18</th>\n",
       "    </tr>\n",
       "  </thead>\n",
       "  <tbody>\n",
       "    <tr>\n",
       "      <th>0</th>\n",
       "      <td>2.0</td>\n",
       "      <td>25.0</td>\n",
       "      <td>0.0</td>\n",
       "      <td>0.0</td>\n",
       "      <td>0.0</td>\n",
       "      <td>13.0</td>\n",
       "      <td>0.0</td>\n",
       "      <td>0.0</td>\n",
       "      <td>0.0</td>\n",
       "      <td>0.0</td>\n",
       "      <td>...</td>\n",
       "      <td>0.0</td>\n",
       "      <td>0.0</td>\n",
       "      <td>0.0</td>\n",
       "      <td>12.0</td>\n",
       "      <td>0.0</td>\n",
       "      <td>0.0</td>\n",
       "      <td>0.0</td>\n",
       "      <td>0.0</td>\n",
       "      <td>0.0</td>\n",
       "      <td>0.0</td>\n",
       "    </tr>\n",
       "    <tr>\n",
       "      <th>1</th>\n",
       "      <td>0.0</td>\n",
       "      <td>38.0</td>\n",
       "      <td>0.0</td>\n",
       "      <td>1.0</td>\n",
       "      <td>12.0</td>\n",
       "      <td>13.0</td>\n",
       "      <td>0.0</td>\n",
       "      <td>0.0</td>\n",
       "      <td>0.0</td>\n",
       "      <td>0.0</td>\n",
       "      <td>...</td>\n",
       "      <td>0.0</td>\n",
       "      <td>0.0</td>\n",
       "      <td>0.0</td>\n",
       "      <td>0.0</td>\n",
       "      <td>0.0</td>\n",
       "      <td>0.0</td>\n",
       "      <td>0.0</td>\n",
       "      <td>0.0</td>\n",
       "      <td>0.0</td>\n",
       "      <td>0.0</td>\n",
       "    </tr>\n",
       "    <tr>\n",
       "      <th>2</th>\n",
       "      <td>1.0</td>\n",
       "      <td>37.0</td>\n",
       "      <td>0.0</td>\n",
       "      <td>1.0</td>\n",
       "      <td>0.0</td>\n",
       "      <td>9.0</td>\n",
       "      <td>0.0</td>\n",
       "      <td>0.0</td>\n",
       "      <td>2.0</td>\n",
       "      <td>1.0</td>\n",
       "      <td>...</td>\n",
       "      <td>0.0</td>\n",
       "      <td>0.0</td>\n",
       "      <td>0.0</td>\n",
       "      <td>0.0</td>\n",
       "      <td>0.0</td>\n",
       "      <td>0.0</td>\n",
       "      <td>0.0</td>\n",
       "      <td>0.0</td>\n",
       "      <td>0.0</td>\n",
       "      <td>0.0</td>\n",
       "    </tr>\n",
       "    <tr>\n",
       "      <th>3</th>\n",
       "      <td>2.0</td>\n",
       "      <td>58.0</td>\n",
       "      <td>0.0</td>\n",
       "      <td>0.0</td>\n",
       "      <td>0.0</td>\n",
       "      <td>5.0</td>\n",
       "      <td>0.0</td>\n",
       "      <td>0.0</td>\n",
       "      <td>0.0</td>\n",
       "      <td>1.0</td>\n",
       "      <td>...</td>\n",
       "      <td>0.0</td>\n",
       "      <td>0.0</td>\n",
       "      <td>0.0</td>\n",
       "      <td>0.0</td>\n",
       "      <td>0.0</td>\n",
       "      <td>0.0</td>\n",
       "      <td>0.0</td>\n",
       "      <td>0.0</td>\n",
       "      <td>0.0</td>\n",
       "      <td>0.0</td>\n",
       "    </tr>\n",
       "    <tr>\n",
       "      <th>4</th>\n",
       "      <td>1.0</td>\n",
       "      <td>56.0</td>\n",
       "      <td>0.0</td>\n",
       "      <td>1.0</td>\n",
       "      <td>0.0</td>\n",
       "      <td>4.0</td>\n",
       "      <td>0.0</td>\n",
       "      <td>1.0</td>\n",
       "      <td>2.0</td>\n",
       "      <td>1.0</td>\n",
       "      <td>...</td>\n",
       "      <td>0.0</td>\n",
       "      <td>0.0</td>\n",
       "      <td>0.0</td>\n",
       "      <td>0.0</td>\n",
       "      <td>0.0</td>\n",
       "      <td>0.0</td>\n",
       "      <td>0.0</td>\n",
       "      <td>0.0</td>\n",
       "      <td>0.0</td>\n",
       "      <td>0.0</td>\n",
       "    </tr>\n",
       "  </tbody>\n",
       "</table>\n",
       "<p>5 rows × 34 columns</p>\n",
       "</div>"
      ],
      "text/plain": [
       "   played_race     3    5   11    16    26   10   19   27    2 ...    17   28  \\\n",
       "0          2.0  25.0  0.0  0.0   0.0  13.0  0.0  0.0  0.0  0.0 ...   0.0  0.0   \n",
       "1          0.0  38.0  0.0  1.0  12.0  13.0  0.0  0.0  0.0  0.0 ...   0.0  0.0   \n",
       "2          1.0  37.0  0.0  1.0   0.0   9.0  0.0  0.0  2.0  1.0 ...   0.0  0.0   \n",
       "3          2.0  58.0  0.0  0.0   0.0   5.0  0.0  0.0  0.0  1.0 ...   0.0  0.0   \n",
       "4          1.0  56.0  0.0  1.0   0.0   4.0  0.0  1.0  2.0  1.0 ...   0.0  0.0   \n",
       "\n",
       "    24     1   15   20   30   25   12   18  \n",
       "0  0.0  12.0  0.0  0.0  0.0  0.0  0.0  0.0  \n",
       "1  0.0   0.0  0.0  0.0  0.0  0.0  0.0  0.0  \n",
       "2  0.0   0.0  0.0  0.0  0.0  0.0  0.0  0.0  \n",
       "3  0.0   0.0  0.0  0.0  0.0  0.0  0.0  0.0  \n",
       "4  0.0   0.0  0.0  0.0  0.0  0.0  0.0  0.0  \n",
       "\n",
       "[5 rows x 34 columns]"
      ]
     },
     "execution_count": 5,
     "metadata": {},
     "output_type": "execute_result"
    }
   ],
   "source": [
    "df_validation_numerical = de.conform_test_to_training(df_training_numerical, df_validation_numerical)\n",
    "df_validation_numerical = df_validation_numerical.fillna(0)\n",
    "\n",
    "df_testing_numerical = de.conform_test_to_training(df_training_numerical, df_testing_numerical, False)\n",
    "df_testing_numerical = df_testing_numerical.fillna(0)\n",
    "df_testing_numerical.head()"
   ]
  },
  {
   "cell_type": "markdown",
   "metadata": {},
   "source": [
    "# Train, validate and test with class 'TrainValidateTest' and already got datasets+encoder from above (so instead of the 3 parts below) "
   ]
  },
  {
   "cell_type": "code",
   "execution_count": 6,
   "metadata": {},
   "outputs": [
    {
     "name": "stdout",
     "output_type": "stream",
     "text": [
      "accuracy: 71.46974063400576\n"
     ]
    }
   ],
   "source": [
    "tvt = TrainValidateTest(100, 10)\n",
    "tvt.train(df_training_numerical)\n",
    "tvt.validate(df_validation_numerical)\n",
    "tvt.test(df_testing_numerical, encoder)"
   ]
  },
  {
   "cell_type": "markdown",
   "metadata": {},
   "source": [
    "# Train"
   ]
  },
  {
   "cell_type": "code",
   "execution_count": 7,
   "metadata": {},
   "outputs": [
    {
     "data": {
      "text/plain": [
       "RandomForestClassifier(bootstrap=True, class_weight=None, criterion='gini',\n",
       "            max_depth=10, max_features='auto', max_leaf_nodes=None,\n",
       "            min_impurity_decrease=0.0, min_impurity_split=None,\n",
       "            min_samples_leaf=1, min_samples_split=2,\n",
       "            min_weight_fraction_leaf=0.0, n_estimators=100, n_jobs=1,\n",
       "            oob_score=False, random_state=None, verbose=0,\n",
       "            warm_start=False)"
      ]
     },
     "execution_count": 7,
     "metadata": {},
     "output_type": "execute_result"
    }
   ],
   "source": [
    "model = RandomForestClassifier(n_estimators=100, max_depth=10)\n",
    "model.fit(df_training_numerical.iloc[:, 1:].values, df_training_numerical.id_player.values)"
   ]
  },
  {
   "cell_type": "markdown",
   "metadata": {},
   "source": [
    "# Validate (doesn't have to do that before test)"
   ]
  },
  {
   "cell_type": "code",
   "execution_count": 8,
   "metadata": {},
   "outputs": [
    {
     "name": "stdout",
     "output_type": "stream",
     "text": [
      "68.58789625360231\n"
     ]
    }
   ],
   "source": [
    "nolabel_df_validation = df_validation_numerical.drop(axis=1, labels=\"id_player\")\n",
    "predicted = model.predict(nolabel_df_validation.values)\n",
    "labels = df_validation_numerical.id_player.values\n",
    "print(ae.get_accuracy(labels, predicted))"
   ]
  },
  {
   "cell_type": "markdown",
   "metadata": {},
   "source": [
    "# Test"
   ]
  },
  {
   "cell_type": "code",
   "execution_count": 9,
   "metadata": {},
   "outputs": [],
   "source": [
    "predicted = model.predict(df_testing_numerical.values)\n",
    "decoded_predicted = encoder.decode_labels(predicted) # We decode the encoded predictions\n",
    "indices = range(1, len(predicted) + 1)\n",
    "output_df = pd.DataFrame({\"RowId\": indices, \"prediction\": decoded_predicted})\n",
    "output_df.to_csv(\"test_labels.CSV\", index=False)"
   ]
  },
  {
   "cell_type": "code",
   "execution_count": null,
   "metadata": {},
   "outputs": [],
   "source": []
  }
 ],
 "metadata": {
  "kernelspec": {
   "display_name": "Python 3",
   "language": "python",
   "name": "python3"
  },
  "language_info": {
   "codemirror_mode": {
    "name": "ipython",
    "version": 3
   },
   "file_extension": ".py",
   "mimetype": "text/x-python",
   "name": "python",
   "nbconvert_exporter": "python",
   "pygments_lexer": "ipython3",
   "version": "3.6.5"
  }
 },
 "nbformat": 4,
 "nbformat_minor": 2
}
