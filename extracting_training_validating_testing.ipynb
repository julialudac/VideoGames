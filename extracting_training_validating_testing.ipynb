{
 "cells": [
  {
   "cell_type": "code",
   "execution_count": 1,
   "metadata": {},
   "outputs": [],
   "source": [
    "import csv\n",
    "import numpy as np # linear algebra\n",
    "import os\n",
    "import pandas as pd # data processing, CSV file I/O (e.g. pd.read_csv)\n",
    "\n",
    "from sklearn import tree\n",
    "from sklearn.ensemble import RandomForestClassifier\n",
    "from sklearn.model_selection  import  train_test_split\n",
    "\n",
    "# personal imports\n",
    "import data_extractor as de\n",
    "import accuracy_extractor as ae\n",
    "from multi_labels_encoder import ThreeFeaturesEncoder\n",
    "from train_n_test import TrainValidateTest"
   ]
  },
  {
   "cell_type": "markdown",
   "metadata": {},
   "source": [
    "# Prepare train and test original datasets (+ labels)"
   ]
  },
  {
   "cell_type": "code",
   "execution_count": 2,
   "metadata": {},
   "outputs": [],
   "source": [
    "# Extract dataset: train and validation and test (though validation and test are done independntly)\n",
    "df_training = de.get_dataframe(\"../input/minitrain.CSV\", training=True, limit_seconds=8) # OK\n",
    "df_validation = de.get_dataframe(\"../input/minitest.CSV\", training=True, limit_seconds=8) # OK\n",
    "df_testing = de.get_dataframe(\"../input/TEST.CSV\", training=False, limit_seconds=8)"
   ]
  },
  {
   "cell_type": "markdown",
   "metadata": {},
   "source": [
    "# Encoding"
   ]
  },
  {
   "cell_type": "code",
   "execution_count": 3,
   "metadata": {},
   "outputs": [],
   "source": [
    "# Learning dataset encoding\n",
    "encoder = ThreeFeaturesEncoder(df_training)\n",
    "\n",
    "# Encoding dataset : training, validation and testing\n",
    "encoded_df_training = encoder.encode_df(df_training)\n",
    "encoded_df_validation = encoder.encode_df(df_validation)\n",
    "encoded_df_testing = encoder.encode_df(df_testing)"
   ]
  },
  {
   "cell_type": "markdown",
   "metadata": {},
   "source": [
    "# Getting the datasets we're gonna work on"
   ]
  },
  {
   "cell_type": "code",
   "execution_count": 4,
   "metadata": {},
   "outputs": [],
   "source": [
    "# Convert dataset into another one\n",
    "df_training_numerical = de.transform_sample(encoded_df_training, True)\n",
    "df_validation_numerical = de.transform_sample(encoded_df_validation, True)     # OK(see visualization)\n",
    "df_testing_numerical =  de.transform_sample(encoded_df_testing, False)"
   ]
  },
  {
   "cell_type": "markdown",
   "metadata": {},
   "source": [
    "# Conform validation and testing DataFrame columns to training DataFrame columns"
   ]
  },
  {
   "cell_type": "code",
   "execution_count": 5,
   "metadata": {},
   "outputs": [],
   "source": [
    "df_validation_numerical = de.conform_test_to_training(df_training_numerical, df_validation_numerical)\n",
    "df_validation_numerical = df_validation_numerical.fillna(0)\n",
    "\n",
    "df_testing_numerical = de.conform_test_to_training(df_training_numerical, df_testing_numerical)\n",
    "df_testing_numerical = df_testing_numerical.fillna(0)"
   ]
  },
  {
   "cell_type": "markdown",
   "metadata": {},
   "source": [
    "# Train, validate and test with class 'TrainValidateTest' and already got datasets+encoder from above (so instead of the 3 parts below) "
   ]
  },
  {
   "cell_type": "code",
   "execution_count": 17,
   "metadata": {},
   "outputs": [
    {
     "name": "stdout",
     "output_type": "stream",
     "text": [
      "72.91066282420749\n"
     ]
    }
   ],
   "source": [
    "tvt = TrainValidateTest(100, 10)\n",
    "tvt.train(df_training_numerical)\n",
    "tvt.validate(df_validation_numerical)\n",
    "tvt.test(df_testing_numerical, encoder)"
   ]
  },
  {
   "cell_type": "markdown",
   "metadata": {},
   "source": [
    "# Train"
   ]
  },
  {
   "cell_type": "code",
   "execution_count": 22,
   "metadata": {},
   "outputs": [
    {
     "data": {
      "text/plain": [
       "RandomForestClassifier(bootstrap=True, class_weight=None, criterion='gini',\n",
       "            max_depth=10, max_features='auto', max_leaf_nodes=None,\n",
       "            min_impurity_decrease=0.0, min_impurity_split=None,\n",
       "            min_samples_leaf=1, min_samples_split=2,\n",
       "            min_weight_fraction_leaf=0.0, n_estimators=100, n_jobs=1,\n",
       "            oob_score=False, random_state=None, verbose=0,\n",
       "            warm_start=False)"
      ]
     },
     "execution_count": 22,
     "metadata": {},
     "output_type": "execute_result"
    }
   ],
   "source": [
    "model = RandomForestClassifier(n_estimators=100, max_depth=10)\n",
    "model.fit(df_training_numerical.iloc[:, 1:].values, df_training_numerical.id_player.values)"
   ]
  },
  {
   "cell_type": "markdown",
   "metadata": {},
   "source": [
    "# Validate (doesn't have to do that before test)"
   ]
  },
  {
   "cell_type": "code",
   "execution_count": 23,
   "metadata": {},
   "outputs": [
    {
     "name": "stdout",
     "output_type": "stream",
     "text": [
      "73.19884726224784\n"
     ]
    }
   ],
   "source": [
    "nolabel_df_validation = df_validation_numerical.drop(axis=1, labels=\"id_player\")\n",
    "predicted = model.predict(nolabel_df_validation.values)\n",
    "labels = df_validation_numerical.id_player.values\n",
    "print(ae.get_accuracy(labels, predicted))"
   ]
  },
  {
   "cell_type": "markdown",
   "metadata": {},
   "source": [
    "# Test"
   ]
  },
  {
   "cell_type": "code",
   "execution_count": 20,
   "metadata": {},
   "outputs": [],
   "source": [
    "nolabel_df_testing = df_testing_numerical.drop(axis=1, labels=\"id_player\")\n",
    "predicted = model.predict(nolabel_df_testing.values)\n",
    "decoded_predicted = encoder.decode_labels(predicted) # We decode the encoded predictions\n",
    "indices = range(1, len(predicted) + 1)\n",
    "output_df = pd.DataFrame({\"RowId\": indices, \"prediction\": decoded_predicted})\n",
    "output_df.to_csv(\"test_labels.CSV\", index=False)"
   ]
  },
  {
   "cell_type": "code",
   "execution_count": null,
   "metadata": {},
   "outputs": [],
   "source": []
  }
 ],
 "metadata": {
  "kernelspec": {
   "display_name": "Python 3",
   "language": "python",
   "name": "python3"
  },
  "language_info": {
   "codemirror_mode": {
    "name": "ipython",
    "version": 3
   },
   "file_extension": ".py",
   "mimetype": "text/x-python",
   "name": "python",
   "nbconvert_exporter": "python",
   "pygments_lexer": "ipython3",
   "version": "3.6.5"
  }
 },
 "nbformat": 4,
 "nbformat_minor": 2
}
