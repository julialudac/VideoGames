{
 "cells": [
  {
   "cell_type": "markdown",
   "metadata": {},
   "source": [
    "# Let's see some accuracy using a training and a testing datasets wrt parameters t, n_estimators and max_depth. Except for the first block of code the other dpend on, the following blocks are independent blocks."
   ]
  },
  {
   "cell_type": "markdown",
   "metadata": {},
   "source": [
    "Note: A triple-loop has not been done because it will be too costly. Instead, the user varies one parameter at a time and fixes the 2 others."
   ]
  },
  {
   "cell_type": "code",
   "execution_count": 1,
   "metadata": {},
   "outputs": [],
   "source": [
    "from train_n_test import ExtractTrainValidateTest"
   ]
  },
  {
   "cell_type": "markdown",
   "metadata": {},
   "source": [
    "# Fixing n_estimators and max_depth, varying t"
   ]
  },
  {
   "cell_type": "code",
   "execution_count": 5,
   "metadata": {},
   "outputs": [
    {
     "name": "stdout",
     "output_type": "stream",
     "text": [
      "n_estimators fixed to 100 and max_depth fixed to 100\n",
      "With t= 30 :\n",
      "accuracy: 81.84438040345822\n",
      "With t= 50 :\n",
      "accuracy: 74.06340057636888\n",
      "With t= 100 :\n",
      "accuracy: 79.53890489913545\n",
      "With t= 150 :\n",
      "accuracy: 78.6743515850144\n",
      "With t= 200 :\n",
      "accuracy: 80.69164265129683\n",
      "With t= 500 :\n",
      "accuracy: 70.31700288184439\n",
      "With t= 1000 :\n",
      "accuracy: 75.21613832853026\n"
     ]
    }
   ],
   "source": [
    "etvt = ExtractTrainValidateTest()\n",
    "n_estimators = 100\n",
    "max_depth = 10\n",
    "print(\"n_estimators fixed to\", n_estimators, \"and max_depth fixed to\", max_depth)\n",
    "\n",
    "#ts = [5,10,20,30,50,100,150,200,500,1000]\n",
    "ts = [30,50,100,150,200,500,1000]\n",
    "\n",
    "for t in ts:\n",
    "    print(\"With t=\", t, \":\")\n",
    "    etvt.extract_and_process_df(t)\n",
    "    etvt.train_and_validate(n_estimators, max_depth)\n",
    "    \n",
    "# ==> t = 30, 200?"
   ]
  },
  {
   "cell_type": "markdown",
   "metadata": {},
   "source": [
    "# Fixing t and max_depth, varying n_estimators"
   ]
  },
  {
   "cell_type": "code",
   "execution_count": 7,
   "metadata": {},
   "outputs": [
    {
     "name": "stdout",
     "output_type": "stream",
     "text": [
      "t fixed to 30 and max_depth fixed to 10\n",
      "With n_estimators= 10 :\n",
      "accuracy: 79.2507204610951\n",
      "With n_estimators= 20 :\n",
      "accuracy: 81.26801152737752\n",
      "With n_estimators= 50 :\n",
      "accuracy: 76.657060518732\n",
      "With n_estimators= 100 :\n",
      "accuracy: 76.657060518732\n",
      "With n_estimators= 150 :\n",
      "accuracy: 75.21613832853026\n",
      "With n_estimators= 200 :\n",
      "accuracy: 80.97982708933718\n",
      "With n_estimators= 500 :\n",
      "accuracy: 78.96253602305475\n",
      "With n_estimators= 1000 :\n",
      "accuracy: 78.09798270893373\n"
     ]
    }
   ],
   "source": [
    "etvt = ExtractTrainValidateTest()\n",
    "t = 30\n",
    "max_depth = 10\n",
    "etvt.extract_and_process_df(t)\n",
    "print(\"t fixed to\",t, \"and max_depth fixed to\", max_depth)\n",
    "\n",
    "n_estimators_list = [10,20,50,100,150,200,500,1000]\n",
    "\n",
    "for n_estimators in n_estimators_list:\n",
    "    print(\"With n_estimators=\", n_estimators, \":\")\n",
    "    etvt.train_and_validate(n_estimators, max_depth)\n",
    "    \n",
    "# ==> n_estimators=20"
   ]
  },
  {
   "cell_type": "markdown",
   "metadata": {},
   "source": [
    "# Fixing t and n_estimators, varying max_depth"
   ]
  },
  {
   "cell_type": "code",
   "execution_count": 9,
   "metadata": {},
   "outputs": [
    {
     "name": "stdout",
     "output_type": "stream",
     "text": [
      "t fixed to 30 and max_depth fixed to 1000\n",
      "With max_depth= 2 :\n",
      "accuracy: 14.697406340057636\n",
      "With max_depth= 4 :\n",
      "accuracy: 28.818443804034583\n",
      "With max_depth= 10 :\n",
      "accuracy: 76.36887608069163\n",
      "With max_depth= 20 :\n",
      "accuracy: 87.89625360230548\n",
      "With max_depth= 50 :\n",
      "accuracy: 87.89625360230548\n",
      "With max_depth= 100 :\n",
      "accuracy: 87.03170028818444\n",
      "With max_depth= 150 :\n",
      "accuracy: 87.03170028818444\n",
      "With max_depth= 200 :\n",
      "accuracy: 87.03170028818444\n",
      "With max_depth= 500 :\n",
      "accuracy: 88.76080691642652\n",
      "With max_depth= 1000 :\n",
      "accuracy: 86.1671469740634\n"
     ]
    }
   ],
   "source": [
    "etvt = ExtractTrainValidateTest()\n",
    "t = 30\n",
    "n_estimators = 100\n",
    "etvt.extract_and_process_df(t)\n",
    "print(\"t fixed to\",t, \"and max_depth fixed to\", max_depth)\n",
    "\n",
    "max_depths = [2,4,10,20,50,100,150,200,500,1000]\n",
    "\n",
    "for max_depth in max_depths:\n",
    "    print(\"With max_depth=\", max_depth, \":\")\n",
    "    etvt.train_and_validate(n_estimators, max_depth)\n",
    "    \n",
    "# ==> 500"
   ]
  },
  {
   "cell_type": "code",
   "execution_count": null,
   "metadata": {},
   "outputs": [],
   "source": []
  }
 ],
 "metadata": {
  "kernelspec": {
   "display_name": "Python 3",
   "language": "python",
   "name": "python3"
  },
  "language_info": {
   "codemirror_mode": {
    "name": "ipython",
    "version": 3
   },
   "file_extension": ".py",
   "mimetype": "text/x-python",
   "name": "python",
   "nbconvert_exporter": "python",
   "pygments_lexer": "ipython3",
   "version": "3.6.5"
  }
 },
 "nbformat": 4,
 "nbformat_minor": 2
}
