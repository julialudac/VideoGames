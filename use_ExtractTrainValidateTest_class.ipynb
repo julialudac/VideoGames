{
 "cells": [
  {
   "cell_type": "markdown",
   "metadata": {},
   "source": [
    "# Let's see some accuracy using a training and a testing datasets wrt parameters t, n_estimators and max_depth. Except for the first block of code the other dpend on, the following blocks are independent blocks."
   ]
  },
  {
   "cell_type": "markdown",
   "metadata": {},
   "source": [
    "Note: A triple-loop has not been done because it will be too costly. Instead, the user varies one parameter at a time and fixes the 2 others."
   ]
  },
  {
   "cell_type": "markdown",
   "metadata": {},
   "source": [
    "## TODO: Maybe graphs???"
   ]
  },
  {
   "cell_type": "code",
   "execution_count": 14,
   "metadata": {},
   "outputs": [],
   "source": [
    "from train_n_test import ExtractTrainValidateTest\n",
    "\n",
    "training_file = \"/media/storage/Ecole/Insa-5e_annee/pdc_videogames/input/TRAIN.CSV\"\n",
    "validation_file = \"/media/storage/Ecole/Insa-5e_annee/pdc_videogames/input/minitest3.csv\"\n",
    "testing_file = \"/media/storage/Ecole/Insa-5e_annee/pdc_videogames/input/TEST.CSV\""
   ]
  },
  {
   "cell_type": "markdown",
   "metadata": {},
   "source": [
    "## Fixing n_estimators and max_depth, varying t"
   ]
  },
  {
   "cell_type": "code",
   "execution_count": 8,
   "metadata": {},
   "outputs": [
    {
     "name": "stdout",
     "output_type": "stream",
     "text": [
      "n_estimators fixed to 150 and max_depth fixed to 500\n",
      "With t= 5 :\n",
      "We have 32 features.\n",
      "accuracy: 42.12678936605317\n",
      "With t= 10 :\n",
      "We have 35 features.\n",
      "accuracy: 59.50920245398773\n",
      "With t= 20 :\n",
      "We have 35 features.\n",
      "accuracy: 66.25766871165644\n",
      "With t= 30 :\n",
      "We have 35 features.\n",
      "accuracy: 66.05316973415133\n",
      "With t= 50 :\n",
      "We have 35 features.\n",
      "accuracy: 68.71165644171779\n",
      "With t= 100 :\n",
      "We have 35 features.\n",
      "accuracy: 71.77914110429448\n",
      "With t= 150 :\n",
      "We have 35 features.\n",
      "accuracy: 73.41513292433538\n",
      "With t= 200 :\n",
      "We have 35 features.\n",
      "accuracy: 73.00613496932516\n",
      "With t= 300 :\n",
      "We have 35 features.\n",
      "accuracy: 71.77914110429448\n",
      "With t= 600 :\n",
      "We have 35 features.\n",
      "accuracy: 71.77914110429448\n",
      "With t= 1000 :\n",
      "We have 35 features.\n",
      "accuracy: 71.57464212678937\n",
      "With t= 1800 :\n",
      "We have 35 features.\n",
      "accuracy: 72.1881390593047\n",
      "With t= 3600 :\n",
      "We have 35 features.\n",
      "accuracy: 72.80163599182005\n"
     ]
    }
   ],
   "source": [
    "etvt = ExtractTrainValidateTest()\n",
    "n_estimators = 150\n",
    "max_depth = 500\n",
    "print(\"n_estimators fixed to\", n_estimators, \"and max_depth fixed to\", max_depth)\n",
    "\n",
    "ts = [5,10,20,30,50,100,150,200,300,600,1000,1800,3600]\n",
    "\n",
    "for t in ts:\n",
    "    print(\"With t=\", t, \":\")\n",
    "    etvt.extract_and_process_df(t, n_estimators, max_depth, training_file, validation_file)\n",
    "    etvt.train()\n",
    "    etvt.validate()\n",
    "    \n",
    "# ==> t = 150, 200?"
   ]
  },
  {
   "cell_type": "markdown",
   "metadata": {},
   "source": [
    "## Fixing t and max_depth, varying n_estimators"
   ]
  },
  {
   "cell_type": "code",
   "execution_count": 10,
   "metadata": {},
   "outputs": [
    {
     "name": "stdout",
     "output_type": "stream",
     "text": [
      "We have 35 features.\n",
      "t fixed to 150 and max_depth fixed to 500\n",
      "With n_estimators= 10 :\n",
      "accuracy: 73.41513292433538\n",
      "With n_estimators= 20 :\n",
      "accuracy: 73.41513292433538\n",
      "With n_estimators= 50 :\n",
      "accuracy: 73.8241308793456\n",
      "With n_estimators= 100 :\n",
      "accuracy: 74.23312883435584\n",
      "With n_estimators= 150 :\n",
      "accuracy: 73.8241308793456\n",
      "With n_estimators= 300 :\n",
      "accuracy: 73.8241308793456\n",
      "With n_estimators= 500 :\n",
      "accuracy: 73.41513292433538\n",
      "With n_estimators= 1000 :\n",
      "accuracy: 74.23312883435584\n"
     ]
    }
   ],
   "source": [
    "etvt = ExtractTrainValidateTest()\n",
    "t = 150\n",
    "max_depth = 500\n",
    "etvt.extract_and_process_df(t, n_estimators, max_depth, training_file, validation_file)\n",
    "print(\"t fixed to\",t, \"and max_depth fixed to\", max_depth)\n",
    "\n",
    "n_estimators_list = [10,20,50,100,150,300,500,1000]\n",
    "\n",
    "for n_estimators in n_estimators_list:\n",
    "    print(\"With n_estimators=\", n_estimators, \":\")\n",
    "    etvt.train()\n",
    "    etvt.validate()\n",
    "    \n",
    "# ==> n_estimators=100, 150"
   ]
  },
  {
   "cell_type": "markdown",
   "metadata": {},
   "source": [
    "## Fixing t and n_estimators, varying max_depth"
   ]
  },
  {
   "cell_type": "code",
   "execution_count": 11,
   "metadata": {},
   "outputs": [
    {
     "name": "stdout",
     "output_type": "stream",
     "text": [
      "We have 35 features.\n",
      "t fixed to 150 and max_depth fixed to 500\n",
      "With max_depth= 2 :\n",
      "accuracy: 74.23312883435584\n",
      "With max_depth= 4 :\n",
      "accuracy: 73.21063394683026\n",
      "With max_depth= 10 :\n",
      "accuracy: 73.00613496932516\n",
      "With max_depth= 20 :\n",
      "accuracy: 74.64212678936605\n",
      "With max_depth= 50 :\n",
      "accuracy: 73.8241308793456\n",
      "With max_depth= 100 :\n",
      "accuracy: 72.80163599182005\n",
      "With max_depth= 150 :\n",
      "accuracy: 72.59713701431492\n",
      "With max_depth= 200 :\n",
      "accuracy: 72.59713701431492\n",
      "With max_depth= 500 :\n",
      "accuracy: 73.41513292433538\n",
      "With max_depth= 1000 :\n",
      "accuracy: 73.41513292433538\n"
     ]
    }
   ],
   "source": [
    "etvt = ExtractTrainValidateTest()\n",
    "t = 150\n",
    "n_estimators = 100\n",
    "etvt.extract_and_process_df(t, n_estimators, max_depth, training_file, validation_file)\n",
    "print(\"t fixed to\",t, \"and max_depth fixed to\", max_depth)\n",
    "\n",
    "max_depths = [2,4,10,20,50,100,150,200,500,1000]\n",
    "\n",
    "for max_depth in max_depths:\n",
    "    print(\"With max_depth=\", max_depth, \":\")\n",
    "    etvt.train()\n",
    "    etvt.validate()\n",
    "    \n",
    "# ==> max_depth = 500"
   ]
  },
  {
   "cell_type": "markdown",
   "metadata": {},
   "source": [
    "## ... Or simply testing on the 3 fixed parameters if you want"
   ]
  },
  {
   "cell_type": "code",
   "execution_count": 15,
   "metadata": {},
   "outputs": [
    {
     "name": "stdout",
     "output_type": "stream",
     "text": [
      "t fixed to 150 n_estimators fixed to 100 and max_depth fixed to 500\n",
      "We have 35 features.\n",
      "We have 34 features.\n",
      "accuracy: 100.0\n"
     ]
    }
   ],
   "source": [
    "etvt = ExtractTrainValidateTest()\n",
    "t = 150\n",
    "n_estimators = 100\n",
    "max_depth = 500\n",
    "print(\"t fixed to\",t, \"n_estimators fixed to\", n_estimators, \"and max_depth fixed to\", max_depth)\n",
    "etvt.extract_and_process_df(t, n_estimators, max_depth, training_file, validation_file, testing_file)\n",
    "etvt.train()\n",
    "etvt.validate()"
   ]
  },
  {
   "cell_type": "markdown",
   "metadata": {},
   "source": [
    "# Let's output some predicted labels to a file"
   ]
  },
  {
   "cell_type": "code",
   "execution_count": 16,
   "metadata": {},
   "outputs": [],
   "source": [
    "etvt.test()"
   ]
  },
  {
   "cell_type": "code",
   "execution_count": null,
   "metadata": {},
   "outputs": [],
   "source": []
  }
 ],
 "metadata": {
  "kernelspec": {
   "display_name": "Python 3",
   "language": "python",
   "name": "python3"
  },
  "language_info": {
   "codemirror_mode": {
    "name": "ipython",
    "version": 3
   },
   "file_extension": ".py",
   "mimetype": "text/x-python",
   "name": "python",
   "nbconvert_exporter": "python",
   "pygments_lexer": "ipython3",
   "version": "3.6.5"
  }
 },
 "nbformat": 4,
 "nbformat_minor": 2
}
