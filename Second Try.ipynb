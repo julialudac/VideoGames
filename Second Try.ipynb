{
 "cells": [
  {
   "cell_type": "code",
   "execution_count": 1,
   "metadata": {},
   "outputs": [],
   "source": [
    "import csv\n",
    "from pandas import DataFrame\n",
    "import sklearn as sk\n",
    "\n",
    "# personal imports\n",
    "import data_extractor as de\n",
    "from MultiColumnLabelEncoder import MultiColumnLabelEncoder"
   ]
  },
  {
   "cell_type": "markdown",
   "metadata": {},
   "source": [
    "# --------- FOR THE TRAINING PART ----------"
   ]
  },
  {
   "cell_type": "markdown",
   "metadata": {},
   "source": [
    "# Extracting training data ('till 5 seconds for now)"
   ]
  },
  {
   "cell_type": "code",
   "execution_count": 2,
   "metadata": {},
   "outputs": [],
   "source": [
    "mycsv = open(\"data/TRAIN.CSV\")\n",
    "limit_seconds = 5\n",
    "extracted_df, labels = de.extract_data_till_time_df(mycsv, limit_seconds)\n",
    "#print(\"extracted_df:\\n\", extracted_df)\n",
    "#print(\"labels:\\n\", labels)"
   ]
  },
  {
   "cell_type": "markdown",
   "metadata": {},
   "source": [
    "# Encoding training features and labels (needed for using method fit from the predictors). Need to keep/save the encoders for the decoding part."
   ]
  },
  {
   "cell_type": "markdown",
   "metadata": {},
   "source": [
    "## Encoding labels = encoding a list"
   ]
  },
  {
   "cell_type": "code",
   "execution_count": 3,
   "metadata": {},
   "outputs": [],
   "source": [
    "from sklearn.preprocessing import LabelEncoder\n",
    "\n",
    "#print(\"labels:\", labels)\n",
    "le = LabelEncoder()\n",
    "le.fit(labels) # Fill the Label Encoders with given duplicate labels (that are for example in a list)\n",
    "#print(le.classes_) # Corresponding set of these labels\n",
    "encoded_labels = le.transform(labels) # A list of the labels that in their encoding form using le\n",
    "#print(\"encoded_labels\", encoded_labels)"
   ]
  },
  {
   "cell_type": "markdown",
   "metadata": {},
   "source": [
    "## Encoding features = encoding a DF"
   ]
  },
  {
   "cell_type": "code",
   "execution_count": 4,
   "metadata": {},
   "outputs": [
    {
     "name": "stdout",
     "output_type": "stream",
     "text": [
      "extracted:\n",
      "            0     1         2         3         4         5         6   \\\n",
      "0     Protoss  Base         s         s         s         s         s   \n",
      "1     Protoss     s      Base         s         s      Base         s   \n",
      "2     Protoss  Base         s         s         s      Base         s   \n",
      "3     Protoss  Base         s         s      Base         s         s   \n",
      "4     Protoss  Base         s         s         s      Base         s   \n",
      "5     Protoss     s      Base         s         s      Base         s   \n",
      "6     Protoss  Base         s         s         s      Base         s   \n",
      "7     Protoss  Base         s         s      Base         s         s   \n",
      "8     Protoss  Base         s  hotkey40       unk       unk       unk   \n",
      "9      Terran     s  hotkey30  hotkey00       unk       unk       unk   \n",
      "10    Protoss  Base         s  hotkey40       unk       unk       unk   \n",
      "11     Terran     s  hotkey30  hotkey00       unk       unk       unk   \n",
      "12    Protoss  Base         s  hotkey40       unk       unk       unk   \n",
      "13     Terran     s  hotkey30  hotkey00       unk       unk       unk   \n",
      "14       Zerg  Base         s         s         s  hotkey10      Base   \n",
      "15       Zerg  Base         s         s         s         s  hotkey20   \n",
      "16       Zerg     s         s  hotkey10      Base         s  hotkey60   \n",
      "17       Zerg  Base         s         s         s  hotkey20      Base   \n",
      "18       Zerg     s         s         s  hotkey10         s  hotkey60   \n",
      "19       Zerg  Base         s         s         s  hotkey20      Base   \n",
      "20       Zerg     s         s         s         s  hotkey20         s   \n",
      "21       Zerg     s         s         s  hotkey10         s  hotkey60   \n",
      "22       Zerg  Base         s         s         s  hotkey20      Base   \n",
      "23    Protoss  Base         s         s      Base         s  hotkey20   \n",
      "24    Protoss     s      Base         s  hotkey90  hotkey00       unk   \n",
      "25    Protoss  Base         s         s      Base         s  hotkey20   \n",
      "26    Protoss     s      Base         s  hotkey90  hotkey00       unk   \n",
      "27    Protoss     s      Base         s  hotkey20  hotkey30  hotkey60   \n",
      "28    Protoss     s      Base         s  hotkey90  hotkey00       unk   \n",
      "29    Protoss  Base         s         s      Base         s  hotkey20   \n",
      "...       ...   ...       ...       ...       ...       ...       ...   \n",
      "3022     Zerg     s         s         s         s         s         s   \n",
      "3023   Terran     s  hotkey10  hotkey30         s       unk       unk   \n",
      "3024     Zerg  Base         s         s         s         s      Base   \n",
      "3025   Terran     s         s         s         s  hotkey10  hotkey30   \n",
      "3026     Zerg     s         s         s         s         s         s   \n",
      "3027   Terran     s         s         s  hotkey10  hotkey30         s   \n",
      "3028     Zerg     s         s         s         s         s         s   \n",
      "3029  Protoss  Base         s         s         s  hotkey10         s   \n",
      "3030     Zerg     s         s         s         s         s  hotkey20   \n",
      "3031  Protoss  Base         s         s      Base         s  hotkey10   \n",
      "3032     Zerg     s         s         s         s         s         s   \n",
      "3033     Zerg     s         s         s         s         s         s   \n",
      "3034  Protoss  Base         s         s         s      Base         s   \n",
      "3035     Zerg     s         s         s         s         s         s   \n",
      "3036  Protoss  Base         s         s         s      Base         s   \n",
      "3037   Terran     s         s  hotkey10         s  hotkey20         s   \n",
      "3038     Zerg     s         s         s         s         s  hotkey40   \n",
      "3039   Terran     s         s  hotkey10         s  hotkey20         s   \n",
      "3040     Zerg     s      Base         s         s         s         s   \n",
      "3041   Terran     s         s         s  hotkey10         s  hotkey20   \n",
      "3042     Zerg     s         s         s         s  hotkey40         s   \n",
      "3043   Terran     s         s  hotkey10         s  hotkey20         s   \n",
      "3044     Zerg     s         s         s         s         s  hotkey40   \n",
      "3045   Terran     s         s         s  hotkey10  hotkey20  hotkey30   \n",
      "3046   Terran     s         s  hotkey10         s  hotkey20         s   \n",
      "3047   Terran     s         s         s         s         s  hotkey10   \n",
      "3048   Terran     s         s  hotkey10         s  hotkey20         s   \n",
      "3049   Terran     s         s         s  hotkey10  hotkey20  hotkey30   \n",
      "3050   Terran     s         s  hotkey10         s  hotkey20         s   \n",
      "3051   Terran     s         s         s  hotkey10  hotkey20  hotkey30   \n",
      "\n",
      "            7         8         9  ...         29        30        31   32  \\\n",
      "0          unk       unk       unk ...        unk       unk       unk  unk   \n",
      "1            s      Base         s ...        unk       unk       unk  unk   \n",
      "2     hotkey30  hotkey00       unk ...        unk       unk       unk  unk   \n",
      "3            s       unk       unk ...        unk       unk       unk  unk   \n",
      "4     hotkey30  hotkey00       unk ...        unk       unk       unk  unk   \n",
      "5     hotkey30         s  hotkey32 ...        unk       unk       unk  unk   \n",
      "6     hotkey30  hotkey00       unk ...        unk       unk       unk  unk   \n",
      "7         Base         s         s ...        unk       unk       unk  unk   \n",
      "8          unk       unk       unk ...        unk       unk       unk  unk   \n",
      "9          unk       unk       unk ...        unk       unk       unk  unk   \n",
      "10         unk       unk       unk ...        unk       unk       unk  unk   \n",
      "11         unk       unk       unk ...        unk       unk       unk  unk   \n",
      "12         unk       unk       unk ...        unk       unk       unk  unk   \n",
      "13         unk       unk       unk ...        unk       unk       unk  unk   \n",
      "14           s  hotkey60  hotkey00 ...        unk       unk       unk  unk   \n",
      "15        Base         s  hotkey40 ...        unk       unk       unk  unk   \n",
      "16           s  hotkey00      Base ...        unk       unk       unk  unk   \n",
      "17           s  hotkey40       unk ...        unk       unk       unk  unk   \n",
      "18           s  hotkey00         s ...        unk       unk       unk  unk   \n",
      "19           s  hotkey40       unk ...        unk       unk       unk  unk   \n",
      "20    hotkey40       unk       unk ...        unk       unk       unk  unk   \n",
      "21           s  hotkey00         s ...        unk       unk       unk  unk   \n",
      "22           s  hotkey40       unk ...        unk       unk       unk  unk   \n",
      "23    hotkey30  hotkey60  hotkey40 ...        unk       unk       unk  unk   \n",
      "24         unk       unk       unk ...        unk       unk       unk  unk   \n",
      "25    hotkey30  hotkey60  hotkey40 ...        unk       unk       unk  unk   \n",
      "26         unk       unk       unk ...        unk       unk       unk  unk   \n",
      "27    hotkey40  hotkey80  hotkey70 ...        unk       unk       unk  unk   \n",
      "28         unk       unk       unk ...        unk       unk       unk  unk   \n",
      "29    hotkey30  hotkey60  hotkey40 ...        unk       unk       unk  unk   \n",
      "...        ...       ...       ... ...        ...       ...       ...  ...   \n",
      "3022  hotkey20  hotkey30  hotkey40 ...        unk       unk       unk  unk   \n",
      "3023       unk       unk       unk ...        unk       unk       unk  unk   \n",
      "3024         s  hotkey20  hotkey30 ...        unk       unk       unk  unk   \n",
      "3025         s  hotkey32       unk ...        unk       unk       unk  unk   \n",
      "3026  hotkey20  hotkey30  hotkey40 ...        unk       unk       unk  unk   \n",
      "3027  hotkey32         s  hotkey32 ...        unk       unk       unk  unk   \n",
      "3028  hotkey20  hotkey30       unk ...        unk       unk       unk  unk   \n",
      "3029  hotkey20      Base         s ...        unk       unk       unk  unk   \n",
      "3030  hotkey30  hotkey40  hotkey50 ...        unk       unk       unk  unk   \n",
      "3031         s  hotkey20      Base ...        unk       unk       unk  unk   \n",
      "3032  hotkey20  hotkey30  hotkey40 ...        unk       unk       unk  unk   \n",
      "3033  hotkey20  hotkey30  hotkey40 ...        unk       unk       unk  unk   \n",
      "3034  hotkey10         s  hotkey20 ...        unk       unk       unk  unk   \n",
      "3035  hotkey20  hotkey30  hotkey40 ...        unk       unk       unk  unk   \n",
      "3036  hotkey10         s  hotkey20 ...        unk       unk       unk  unk   \n",
      "3037         s  hotkey12  hotkey22 ...        unk       unk       unk  unk   \n",
      "3038         s  hotkey20  hotkey42 ...        unk       unk       unk  unk   \n",
      "3039  hotkey12  hotkey22         s ...        unk       unk       unk  unk   \n",
      "3040      Base         s         s ...        unk       unk       unk  unk   \n",
      "3041         s         s  hotkey12 ...   hotkey22  hotkey12  hotkey22  unk   \n",
      "3042  hotkey20  hotkey42  hotkey22 ...        unk       unk       unk  unk   \n",
      "3043         s  hotkey12  hotkey22 ...        unk       unk       unk  unk   \n",
      "3044  hotkey20         s  hotkey20 ...        unk       unk       unk  unk   \n",
      "3045  hotkey40  hotkey50  hotkey60 ...        unk       unk       unk  unk   \n",
      "3046         s  hotkey12  hotkey22 ...        unk       unk       unk  unk   \n",
      "3047  hotkey20  hotkey30  hotkey40 ...        unk       unk       unk  unk   \n",
      "3048         s  hotkey12  hotkey22 ...        unk       unk       unk  unk   \n",
      "3049  hotkey40  hotkey50  hotkey60 ...        unk       unk       unk  unk   \n",
      "3050         s  hotkey12  hotkey22 ...        unk       unk       unk  unk   \n",
      "3051  hotkey40  hotkey50  hotkey60 ...        unk       unk       unk  unk   \n",
      "\n",
      "       33   34   35   36   37   38  \n",
      "0     unk  unk  unk  unk  unk  unk  \n",
      "1     unk  unk  unk  unk  unk  unk  \n",
      "2     unk  unk  unk  unk  unk  unk  \n",
      "3     unk  unk  unk  unk  unk  unk  \n",
      "4     unk  unk  unk  unk  unk  unk  \n",
      "5     unk  unk  unk  unk  unk  unk  \n",
      "6     unk  unk  unk  unk  unk  unk  \n",
      "7     unk  unk  unk  unk  unk  unk  \n",
      "8     unk  unk  unk  unk  unk  unk  \n",
      "9     unk  unk  unk  unk  unk  unk  \n",
      "10    unk  unk  unk  unk  unk  unk  \n",
      "11    unk  unk  unk  unk  unk  unk  \n",
      "12    unk  unk  unk  unk  unk  unk  \n",
      "13    unk  unk  unk  unk  unk  unk  \n",
      "14    unk  unk  unk  unk  unk  unk  \n",
      "15    unk  unk  unk  unk  unk  unk  \n",
      "16    unk  unk  unk  unk  unk  unk  \n",
      "17    unk  unk  unk  unk  unk  unk  \n",
      "18    unk  unk  unk  unk  unk  unk  \n",
      "19    unk  unk  unk  unk  unk  unk  \n",
      "20    unk  unk  unk  unk  unk  unk  \n",
      "21    unk  unk  unk  unk  unk  unk  \n",
      "22    unk  unk  unk  unk  unk  unk  \n",
      "23    unk  unk  unk  unk  unk  unk  \n",
      "24    unk  unk  unk  unk  unk  unk  \n",
      "25    unk  unk  unk  unk  unk  unk  \n",
      "26    unk  unk  unk  unk  unk  unk  \n",
      "27    unk  unk  unk  unk  unk  unk  \n",
      "28    unk  unk  unk  unk  unk  unk  \n",
      "29    unk  unk  unk  unk  unk  unk  \n",
      "...   ...  ...  ...  ...  ...  ...  \n",
      "3022  unk  unk  unk  unk  unk  unk  \n",
      "3023  unk  unk  unk  unk  unk  unk  \n",
      "3024  unk  unk  unk  unk  unk  unk  \n",
      "3025  unk  unk  unk  unk  unk  unk  \n",
      "3026  unk  unk  unk  unk  unk  unk  \n",
      "3027  unk  unk  unk  unk  unk  unk  \n",
      "3028  unk  unk  unk  unk  unk  unk  \n",
      "3029  unk  unk  unk  unk  unk  unk  \n",
      "3030  unk  unk  unk  unk  unk  unk  \n",
      "3031  unk  unk  unk  unk  unk  unk  \n",
      "3032  unk  unk  unk  unk  unk  unk  \n",
      "3033  unk  unk  unk  unk  unk  unk  \n",
      "3034  unk  unk  unk  unk  unk  unk  \n",
      "3035  unk  unk  unk  unk  unk  unk  \n",
      "3036  unk  unk  unk  unk  unk  unk  \n",
      "3037  unk  unk  unk  unk  unk  unk  \n",
      "3038  unk  unk  unk  unk  unk  unk  \n",
      "3039  unk  unk  unk  unk  unk  unk  \n",
      "3040  unk  unk  unk  unk  unk  unk  \n",
      "3041  unk  unk  unk  unk  unk  unk  \n",
      "3042  unk  unk  unk  unk  unk  unk  \n",
      "3043  unk  unk  unk  unk  unk  unk  \n",
      "3044  unk  unk  unk  unk  unk  unk  \n",
      "3045  unk  unk  unk  unk  unk  unk  \n",
      "3046  unk  unk  unk  unk  unk  unk  \n",
      "3047  unk  unk  unk  unk  unk  unk  \n",
      "3048  unk  unk  unk  unk  unk  unk  \n",
      "3049  unk  unk  unk  unk  unk  unk  \n",
      "3050  unk  unk  unk  unk  unk  unk  \n",
      "3051  unk  unk  unk  unk  unk  unk  \n",
      "\n",
      "[3052 rows x 39 columns]\n"
     ]
    }
   ],
   "source": [
    "print(\"extracted:\\n\", extracted_df)\n",
    "\n",
    "mle = MultiColumnLabelEncoder()\n",
    "mle.fit(extracted_df) # Fill the Label Encoders with given duplicate labels (that are for example in a list)\n",
    "#print(\"mle.classes:\", mle.classes) # Corresponding set of these labels\n",
    "encoded_features = mle.transform(extracted_df) # A list of the labels that in their encoding form using le\n",
    "#print(\"encoded_features\", encoded_features)"
   ]
  },
  {
   "cell_type": "markdown",
   "metadata": {},
   "source": [
    "# Training a model on the encoded training set"
   ]
  },
  {
   "cell_type": "code",
   "execution_count": 5,
   "metadata": {},
   "outputs": [
    {
     "data": {
      "text/plain": [
       "DecisionTreeClassifier(class_weight=None, criterion='gini', max_depth=None,\n",
       "            max_features=None, max_leaf_nodes=None,\n",
       "            min_impurity_decrease=0.0, min_impurity_split=None,\n",
       "            min_samples_leaf=1, min_samples_split=2,\n",
       "            min_weight_fraction_leaf=0.0, presort=False, random_state=None,\n",
       "            splitter='best')"
      ]
     },
     "execution_count": 5,
     "metadata": {},
     "output_type": "execute_result"
    }
   ],
   "source": [
    "from sklearn import tree\n",
    "\n",
    "model = tree.DecisionTreeClassifier()\n",
    "model.fit(encoded_features.values, encoded_labels)"
   ]
  },
  {
   "cell_type": "markdown",
   "metadata": {},
   "source": [
    "# --------------- FOR THE TESTING PART -----------------"
   ]
  },
  {
   "cell_type": "markdown",
   "metadata": {},
   "source": [
    "# Extract test data (features + labels) (from training set) ('till 5 seconds') in an encoded form"
   ]
  },
  {
   "cell_type": "code",
   "execution_count": 6,
   "metadata": {},
   "outputs": [
    {
     "name": "stdout",
     "output_type": "stream",
     "text": [
      "extracted_df for test:\n",
      "        0  1  2         3         4         5         6         7         8   \\\n",
      "0    Zerg  s  s         s         s  hotkey40         s  hotkey20  hotkey42   \n",
      "1  Terran  s  s  hotkey10         s  hotkey20         s         s  hotkey12   \n",
      "2    Zerg  s  s         s         s         s  hotkey40  hotkey20         s   \n",
      "3  Terran  s  s         s  hotkey10  hotkey20  hotkey30  hotkey40  hotkey50   \n",
      "4  Terran  s  s  hotkey10         s  hotkey20         s         s  hotkey12   \n",
      "5  Terran  s  s         s         s         s  hotkey10  hotkey20  hotkey30   \n",
      "6  Terran  s  s  hotkey10         s  hotkey20         s         s  hotkey12   \n",
      "7  Terran  s  s         s  hotkey10  hotkey20  hotkey30  hotkey40  hotkey50   \n",
      "8  Terran  s  s  hotkey10         s  hotkey20         s         s  hotkey12   \n",
      "9  Terran  s  s         s  hotkey10  hotkey20  hotkey30  hotkey40  hotkey50   \n",
      "\n",
      "         9  ...    29   30   31   32   33   34   35   36   37   38  \n",
      "0  hotkey22 ...   unk  unk  unk  unk  unk  unk  unk  unk  unk  unk  \n",
      "1  hotkey22 ...   unk  unk  unk  unk  unk  unk  unk  unk  unk  unk  \n",
      "2  hotkey20 ...   unk  unk  unk  unk  unk  unk  unk  unk  unk  unk  \n",
      "3  hotkey60 ...   unk  unk  unk  unk  unk  unk  unk  unk  unk  unk  \n",
      "4  hotkey22 ...   unk  unk  unk  unk  unk  unk  unk  unk  unk  unk  \n",
      "5  hotkey40 ...   unk  unk  unk  unk  unk  unk  unk  unk  unk  unk  \n",
      "6  hotkey22 ...   unk  unk  unk  unk  unk  unk  unk  unk  unk  unk  \n",
      "7  hotkey60 ...   unk  unk  unk  unk  unk  unk  unk  unk  unk  unk  \n",
      "8  hotkey22 ...   unk  unk  unk  unk  unk  unk  unk  unk  unk  unk  \n",
      "9  hotkey60 ...   unk  unk  unk  unk  unk  unk  unk  unk  unk  unk  \n",
      "\n",
      "[10 rows x 39 columns]\n",
      "test_labels:\n",
      " ['http://xx.battle.net/sc2/en/profile/401/1/Soulkey/', 'http://xx.battle.net/sc2/en/profile/410/1/STBomber/', 'http://xx.battle.net/sc2/en/profile/401/1/Soulkey/', 'http://xx.battle.net/sc2/en/profile/405/1/MMA/', 'http://xx.battle.net/sc2/en/profile/410/1/STBomber/', 'http://xx.battle.net/sc2/en/profile/405/1/MMA/', 'http://xx.battle.net/sc2/en/profile/410/1/STBomber/', 'http://xx.battle.net/sc2/en/profile/405/1/MMA/', 'http://xx.battle.net/sc2/en/profile/410/1/STBomber/', 'http://xx.battle.net/sc2/en/profile/405/1/MMA/']\n"
     ]
    }
   ],
   "source": [
    "# TODO: Beware when extracting test data: of the size of the elements must be the same size as the size of the train elements!!!\n",
    "\n",
    "# 1/ Extract\n",
    "n_features = len(extracted_df.columns.values)\n",
    "mycsv_test = open(\"data/minitest.csv\")\n",
    "extracted_df_test, labels_test = de.extract_data_till_time_df(mycsv_test, limit_seconds, data_role=1, n_features=n_features)\n",
    "print(\"extracted_df for test:\\n\", extracted_df_test)\n",
    "print(\"test_labels:\\n\", labels_test)\n",
    "\n",
    "# 2/ Encode: We use the encoders contruted from elements of training set\n",
    "# 2.1 Labels\n",
    "encoded_labels_test = le.transform(labels_test)\n",
    "# 2.2 Features\n",
    "encoded_features = mle.transform(extracted_df_test) "
   ]
  },
  {
   "cell_type": "markdown",
   "metadata": {},
   "source": [
    "# Test on the test data from training set"
   ]
  },
  {
   "cell_type": "code",
   "execution_count": 13,
   "metadata": {},
   "outputs": [
    {
     "name": "stdout",
     "output_type": "stream",
     "text": [
      "Nb exacts: 9 / 10\n"
     ]
    }
   ],
   "source": [
    "import numpy as np\n",
    "\n",
    "# 3/ Predict\n",
    "encoded_predicted = model.predict(encoded_features.values)\n",
    "\n",
    "# 4/ Display score\n",
    "comparison_list = encoded_predicted == encoded_labels_test\n",
    "print(\"Nb exacts:\", np.sum(comparison_list), \"/\", len(comparison_list))"
   ]
  },
  {
   "cell_type": "markdown",
   "metadata": {},
   "source": [
    "# Decode predicted (on test data from train data) and display them"
   ]
  },
  {
   "cell_type": "code",
   "execution_count": 15,
   "metadata": {},
   "outputs": [
    {
     "name": "stdout",
     "output_type": "stream",
     "text": [
      "predicted: ['http://kr.battle.net/sc2/en/profile/2342120/1/Soulkey/'\n",
      " 'http://xx.battle.net/sc2/en/profile/410/1/STBomber/'\n",
      " 'http://xx.battle.net/sc2/en/profile/401/1/Soulkey/'\n",
      " 'http://xx.battle.net/sc2/en/profile/405/1/MMA/'\n",
      " 'http://xx.battle.net/sc2/en/profile/410/1/STBomber/'\n",
      " 'http://xx.battle.net/sc2/en/profile/405/1/MMA/'\n",
      " 'http://xx.battle.net/sc2/en/profile/410/1/STBomber/'\n",
      " 'http://xx.battle.net/sc2/en/profile/405/1/MMA/'\n",
      " 'http://xx.battle.net/sc2/en/profile/410/1/STBomber/'\n",
      " 'http://xx.battle.net/sc2/en/profile/405/1/MMA/']\n"
     ]
    },
    {
     "name": "stderr",
     "output_type": "stream",
     "text": [
      "C:\\Users\\julia\\Anaconda3\\lib\\site-packages\\sklearn\\preprocessing\\label.py:151: DeprecationWarning: The truth value of an empty array is ambiguous. Returning False, but in future this will result in an error. Use `array.size > 0` to check that an array is not empty.\n",
      "  if diff:\n"
     ]
    }
   ],
   "source": [
    "decoded_predicted = le.inverse_transform(encoded_predicted)\n",
    "print(\"predicted:\", decoded_predicted)"
   ]
  },
  {
   "cell_type": "markdown",
   "metadata": {},
   "source": [
    "# ------------------ FOR THE APPLYING PART -------------------"
   ]
  },
  {
   "cell_type": "markdown",
   "metadata": {},
   "source": [
    "# Extract and encode"
   ]
  },
  {
   "cell_type": "code",
   "execution_count": 16,
   "metadata": {},
   "outputs": [
    {
     "ename": "ValueError",
     "evalue": "y contains new labels: ['Base' 'SingleMineral' 's']",
     "output_type": "error",
     "traceback": [
      "\u001b[1;31m---------------------------------------------------------------------------\u001b[0m",
      "\u001b[1;31mValueError\u001b[0m                                Traceback (most recent call last)",
      "\u001b[1;32m<ipython-input-16-f36818d68904>\u001b[0m in \u001b[0;36m<module>\u001b[1;34m()\u001b[0m\n\u001b[0;32m      1\u001b[0m \u001b[0mmycsv_guess\u001b[0m \u001b[1;33m=\u001b[0m \u001b[0mopen\u001b[0m\u001b[1;33m(\u001b[0m\u001b[1;34m\"data/TEST.CSV\"\u001b[0m\u001b[1;33m)\u001b[0m\u001b[1;33m\u001b[0m\u001b[0m\n\u001b[0;32m      2\u001b[0m \u001b[0mextracted_df_guess\u001b[0m\u001b[1;33m,\u001b[0m \u001b[0m_\u001b[0m \u001b[1;33m=\u001b[0m \u001b[0mde\u001b[0m\u001b[1;33m.\u001b[0m\u001b[0mextract_data_till_time_df\u001b[0m\u001b[1;33m(\u001b[0m\u001b[0mmycsv_guess\u001b[0m\u001b[1;33m,\u001b[0m \u001b[0mlimit_seconds\u001b[0m\u001b[1;33m,\u001b[0m \u001b[0mdata_role\u001b[0m \u001b[1;33m=\u001b[0m \u001b[1;36m2\u001b[0m\u001b[1;33m,\u001b[0m \u001b[0mn_features\u001b[0m\u001b[1;33m=\u001b[0m\u001b[0mn_features\u001b[0m\u001b[1;33m)\u001b[0m\u001b[1;33m\u001b[0m\u001b[0m\n\u001b[1;32m----> 3\u001b[1;33m \u001b[0mencoded_features_guess\u001b[0m \u001b[1;33m=\u001b[0m \u001b[0mmle\u001b[0m\u001b[1;33m.\u001b[0m\u001b[0mtransform\u001b[0m\u001b[1;33m(\u001b[0m\u001b[0mextracted_df_guess\u001b[0m\u001b[1;33m)\u001b[0m\u001b[1;33m\u001b[0m\u001b[0m\n\u001b[0m\u001b[0;32m      4\u001b[0m \u001b[1;33m\u001b[0m\u001b[0m\n\u001b[0;32m      5\u001b[0m \u001b[0mencoded_predicted_guess\u001b[0m \u001b[1;33m=\u001b[0m \u001b[0mmodel\u001b[0m\u001b[1;33m.\u001b[0m\u001b[0mpredict\u001b[0m\u001b[1;33m(\u001b[0m\u001b[0mencoded_features_guess\u001b[0m\u001b[1;33m.\u001b[0m\u001b[0mvalues\u001b[0m\u001b[1;33m)\u001b[0m\u001b[1;33m\u001b[0m\u001b[0m\n",
      "\u001b[1;32mF:\\Ecole\\Insa-5e_annee\\pdc_videogames\\VideoGames\\MultiColumnLabelEncoder.py\u001b[0m in \u001b[0;36mtransform\u001b[1;34m(self, X)\u001b[0m\n\u001b[0;32m     29\u001b[0m         \u001b[1;32melse\u001b[0m\u001b[1;33m:\u001b[0m\u001b[1;33m\u001b[0m\u001b[0m\n\u001b[0;32m     30\u001b[0m             \u001b[1;32mfor\u001b[0m \u001b[0mind\u001b[0m \u001b[1;32min\u001b[0m \u001b[0mrange\u001b[0m\u001b[1;33m(\u001b[0m\u001b[0mlen\u001b[0m\u001b[1;33m(\u001b[0m\u001b[0mself\u001b[0m\u001b[1;33m.\u001b[0m\u001b[0mles\u001b[0m\u001b[1;33m)\u001b[0m\u001b[1;33m)\u001b[0m\u001b[1;33m:\u001b[0m\u001b[1;33m\u001b[0m\u001b[0m\n\u001b[1;32m---> 31\u001b[1;33m                 \u001b[0moutput\u001b[0m\u001b[1;33m[\u001b[0m\u001b[0mX\u001b[0m\u001b[1;33m.\u001b[0m\u001b[0mcolumns\u001b[0m\u001b[1;33m.\u001b[0m\u001b[0mvalues\u001b[0m\u001b[1;33m[\u001b[0m\u001b[0mind\u001b[0m\u001b[1;33m]\u001b[0m\u001b[1;33m]\u001b[0m \u001b[1;33m=\u001b[0m \u001b[0mself\u001b[0m\u001b[1;33m.\u001b[0m\u001b[0mles\u001b[0m\u001b[1;33m[\u001b[0m\u001b[0mind\u001b[0m\u001b[1;33m]\u001b[0m\u001b[1;33m.\u001b[0m\u001b[0mtransform\u001b[0m\u001b[1;33m(\u001b[0m\u001b[0moutput\u001b[0m\u001b[1;33m[\u001b[0m\u001b[0mX\u001b[0m\u001b[1;33m.\u001b[0m\u001b[0mcolumns\u001b[0m\u001b[1;33m.\u001b[0m\u001b[0mvalues\u001b[0m\u001b[1;33m[\u001b[0m\u001b[0mind\u001b[0m\u001b[1;33m]\u001b[0m\u001b[1;33m]\u001b[0m\u001b[1;33m)\u001b[0m\u001b[1;33m\u001b[0m\u001b[0m\n\u001b[0m\u001b[0;32m     32\u001b[0m         \u001b[1;32mreturn\u001b[0m \u001b[0moutput\u001b[0m\u001b[1;33m\u001b[0m\u001b[0m\n\u001b[0;32m     33\u001b[0m \u001b[1;33m\u001b[0m\u001b[0m\n",
      "\u001b[1;32m~\\Anaconda3\\lib\\site-packages\\sklearn\\preprocessing\\label.py\u001b[0m in \u001b[0;36mtransform\u001b[1;34m(self, y)\u001b[0m\n\u001b[0;32m    131\u001b[0m         \u001b[1;32mif\u001b[0m \u001b[0mlen\u001b[0m\u001b[1;33m(\u001b[0m\u001b[0mnp\u001b[0m\u001b[1;33m.\u001b[0m\u001b[0mintersect1d\u001b[0m\u001b[1;33m(\u001b[0m\u001b[0mclasses\u001b[0m\u001b[1;33m,\u001b[0m \u001b[0mself\u001b[0m\u001b[1;33m.\u001b[0m\u001b[0mclasses_\u001b[0m\u001b[1;33m)\u001b[0m\u001b[1;33m)\u001b[0m \u001b[1;33m<\u001b[0m \u001b[0mlen\u001b[0m\u001b[1;33m(\u001b[0m\u001b[0mclasses\u001b[0m\u001b[1;33m)\u001b[0m\u001b[1;33m:\u001b[0m\u001b[1;33m\u001b[0m\u001b[0m\n\u001b[0;32m    132\u001b[0m             \u001b[0mdiff\u001b[0m \u001b[1;33m=\u001b[0m \u001b[0mnp\u001b[0m\u001b[1;33m.\u001b[0m\u001b[0msetdiff1d\u001b[0m\u001b[1;33m(\u001b[0m\u001b[0mclasses\u001b[0m\u001b[1;33m,\u001b[0m \u001b[0mself\u001b[0m\u001b[1;33m.\u001b[0m\u001b[0mclasses_\u001b[0m\u001b[1;33m)\u001b[0m\u001b[1;33m\u001b[0m\u001b[0m\n\u001b[1;32m--> 133\u001b[1;33m             \u001b[1;32mraise\u001b[0m \u001b[0mValueError\u001b[0m\u001b[1;33m(\u001b[0m\u001b[1;34m\"y contains new labels: %s\"\u001b[0m \u001b[1;33m%\u001b[0m \u001b[0mstr\u001b[0m\u001b[1;33m(\u001b[0m\u001b[0mdiff\u001b[0m\u001b[1;33m)\u001b[0m\u001b[1;33m)\u001b[0m\u001b[1;33m\u001b[0m\u001b[0m\n\u001b[0m\u001b[0;32m    134\u001b[0m         \u001b[1;32mreturn\u001b[0m \u001b[0mnp\u001b[0m\u001b[1;33m.\u001b[0m\u001b[0msearchsorted\u001b[0m\u001b[1;33m(\u001b[0m\u001b[0mself\u001b[0m\u001b[1;33m.\u001b[0m\u001b[0mclasses_\u001b[0m\u001b[1;33m,\u001b[0m \u001b[0my\u001b[0m\u001b[1;33m)\u001b[0m\u001b[1;33m\u001b[0m\u001b[0m\n\u001b[0;32m    135\u001b[0m \u001b[1;33m\u001b[0m\u001b[0m\n",
      "\u001b[1;31mValueError\u001b[0m: y contains new labels: ['Base' 'SingleMineral' 's']"
     ]
    }
   ],
   "source": [
    "mycsv_guess = open(\"data/TEST.CSV\")\n",
    "extracted_df_guess, _ = de.extract_data_till_time_df(mycsv_guess, limit_seconds, data_role = 2, n_features=n_features)\n",
    "encoded_features_guess = mle.transform(extracted_df_guess) \n",
    "\n",
    "encoded_predicted_guess = model.predict(encoded_features_guess.values)"
   ]
  },
  {
   "cell_type": "code",
   "execution_count": null,
   "metadata": {},
   "outputs": [],
   "source": []
  },
  {
   "cell_type": "markdown",
   "metadata": {},
   "source": [
    "## Applying (with test file)"
   ]
  },
  {
   "cell_type": "code",
   "execution_count": null,
   "metadata": {},
   "outputs": [],
   "source": []
  }
 ],
 "metadata": {
  "kernelspec": {
   "display_name": "Python 3",
   "language": "python",
   "name": "python3"
  },
  "language_info": {
   "codemirror_mode": {
    "name": "ipython",
    "version": 3
   },
   "file_extension": ".py",
   "mimetype": "text/x-python",
   "name": "python",
   "nbconvert_exporter": "python",
   "pygments_lexer": "ipython3",
   "version": "3.6.5"
  },
  "widgets": {
   "application/vnd.jupyter.widget-state+json": {
    "state": {},
    "version_major": 2,
    "version_minor": 0
   }
  }
 },
 "nbformat": 4,
 "nbformat_minor": 2
}
